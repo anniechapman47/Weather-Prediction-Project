{
  "cells": [
    {
      "cell_type": "code",
      "execution_count": 1,
      "id": "Kt2ZMmlIdP7Q",
      "metadata": {
        "colab": {
          "base_uri": "https://localhost:8080/"
        },
        "id": "Kt2ZMmlIdP7Q",
        "outputId": "10ef6c1d-7493-4263-a4c5-89966f2f42a4"
      },
      "outputs": [
        {
          "output_type": "stream",
          "name": "stdout",
          "text": [
            "Collecting tensorflow\n",
            "  Downloading tensorflow-2.19.0-cp311-cp311-manylinux_2_17_x86_64.manylinux2014_x86_64.whl.metadata (4.1 kB)\n",
            "Requirement already satisfied: absl-py>=1.0.0 in /usr/local/lib/python3.11/dist-packages (from tensorflow) (1.4.0)\n",
            "Collecting astunparse>=1.6.0 (from tensorflow)\n",
            "  Downloading astunparse-1.6.3-py2.py3-none-any.whl.metadata (4.4 kB)\n",
            "Collecting flatbuffers>=24.3.25 (from tensorflow)\n",
            "  Downloading flatbuffers-25.2.10-py2.py3-none-any.whl.metadata (875 bytes)\n",
            "Requirement already satisfied: gast!=0.5.0,!=0.5.1,!=0.5.2,>=0.2.1 in /usr/local/lib/python3.11/dist-packages (from tensorflow) (0.6.0)\n",
            "Collecting google-pasta>=0.1.1 (from tensorflow)\n",
            "  Downloading google_pasta-0.2.0-py3-none-any.whl.metadata (814 bytes)\n",
            "Collecting libclang>=13.0.0 (from tensorflow)\n",
            "  Downloading libclang-18.1.1-py2.py3-none-manylinux2010_x86_64.whl.metadata (5.2 kB)\n",
            "Requirement already satisfied: opt-einsum>=2.3.2 in /usr/local/lib/python3.11/dist-packages (from tensorflow) (3.4.0)\n",
            "Requirement already satisfied: packaging in /usr/local/lib/python3.11/dist-packages (from tensorflow) (25.0)\n",
            "Requirement already satisfied: protobuf!=4.21.0,!=4.21.1,!=4.21.2,!=4.21.3,!=4.21.4,!=4.21.5,<6.0.0dev,>=3.20.3 in /usr/local/lib/python3.11/dist-packages (from tensorflow) (5.29.4)\n",
            "Requirement already satisfied: requests<3,>=2.21.0 in /usr/local/lib/python3.11/dist-packages (from tensorflow) (2.32.3)\n",
            "Requirement already satisfied: setuptools in /usr/local/lib/python3.11/dist-packages (from tensorflow) (75.2.0)\n",
            "Requirement already satisfied: six>=1.12.0 in /usr/local/lib/python3.11/dist-packages (from tensorflow) (1.17.0)\n",
            "Requirement already satisfied: termcolor>=1.1.0 in /usr/local/lib/python3.11/dist-packages (from tensorflow) (3.0.1)\n",
            "Requirement already satisfied: typing-extensions>=3.6.6 in /usr/local/lib/python3.11/dist-packages (from tensorflow) (4.13.2)\n",
            "Requirement already satisfied: wrapt>=1.11.0 in /usr/local/lib/python3.11/dist-packages (from tensorflow) (1.17.2)\n",
            "Requirement already satisfied: grpcio<2.0,>=1.24.3 in /usr/local/lib/python3.11/dist-packages (from tensorflow) (1.71.0)\n",
            "Collecting tensorboard~=2.19.0 (from tensorflow)\n",
            "  Downloading tensorboard-2.19.0-py3-none-any.whl.metadata (1.8 kB)\n",
            "Requirement already satisfied: keras>=3.5.0 in /usr/local/lib/python3.11/dist-packages (from tensorflow) (3.8.0)\n",
            "Requirement already satisfied: numpy<2.2.0,>=1.26.0 in /usr/local/lib/python3.11/dist-packages (from tensorflow) (2.0.2)\n",
            "Requirement already satisfied: h5py>=3.11.0 in /usr/local/lib/python3.11/dist-packages (from tensorflow) (3.13.0)\n",
            "Requirement already satisfied: ml-dtypes<1.0.0,>=0.5.1 in /usr/local/lib/python3.11/dist-packages (from tensorflow) (0.5.1)\n",
            "Collecting tensorflow-io-gcs-filesystem>=0.23.1 (from tensorflow)\n",
            "  Downloading tensorflow_io_gcs_filesystem-0.37.1-cp311-cp311-manylinux_2_17_x86_64.manylinux2014_x86_64.whl.metadata (14 kB)\n",
            "Collecting wheel<1.0,>=0.23.0 (from astunparse>=1.6.0->tensorflow)\n",
            "  Downloading wheel-0.45.1-py3-none-any.whl.metadata (2.3 kB)\n",
            "Requirement already satisfied: rich in /usr/local/lib/python3.11/dist-packages (from keras>=3.5.0->tensorflow) (14.0.0)\n",
            "Requirement already satisfied: namex in /usr/local/lib/python3.11/dist-packages (from keras>=3.5.0->tensorflow) (0.0.9)\n",
            "Requirement already satisfied: optree in /usr/local/lib/python3.11/dist-packages (from keras>=3.5.0->tensorflow) (0.15.0)\n",
            "Requirement already satisfied: charset-normalizer<4,>=2 in /usr/local/lib/python3.11/dist-packages (from requests<3,>=2.21.0->tensorflow) (3.4.1)\n",
            "Requirement already satisfied: idna<4,>=2.5 in /usr/local/lib/python3.11/dist-packages (from requests<3,>=2.21.0->tensorflow) (3.10)\n",
            "Requirement already satisfied: urllib3<3,>=1.21.1 in /usr/local/lib/python3.11/dist-packages (from requests<3,>=2.21.0->tensorflow) (2.4.0)\n",
            "Requirement already satisfied: certifi>=2017.4.17 in /usr/local/lib/python3.11/dist-packages (from requests<3,>=2.21.0->tensorflow) (2025.4.26)\n",
            "Requirement already satisfied: markdown>=2.6.8 in /usr/lib/python3/dist-packages (from tensorboard~=2.19.0->tensorflow) (3.3.6)\n",
            "Collecting tensorboard-data-server<0.8.0,>=0.7.0 (from tensorboard~=2.19.0->tensorflow)\n",
            "  Downloading tensorboard_data_server-0.7.2-py3-none-manylinux_2_31_x86_64.whl.metadata (1.1 kB)\n",
            "Collecting werkzeug>=1.0.1 (from tensorboard~=2.19.0->tensorflow)\n",
            "  Downloading werkzeug-3.1.3-py3-none-any.whl.metadata (3.7 kB)\n",
            "Requirement already satisfied: MarkupSafe>=2.1.1 in /usr/local/lib/python3.11/dist-packages (from werkzeug>=1.0.1->tensorboard~=2.19.0->tensorflow) (3.0.2)\n",
            "Requirement already satisfied: markdown-it-py>=2.2.0 in /usr/local/lib/python3.11/dist-packages (from rich->keras>=3.5.0->tensorflow) (3.0.0)\n",
            "Requirement already satisfied: pygments<3.0.0,>=2.13.0 in /usr/local/lib/python3.11/dist-packages (from rich->keras>=3.5.0->tensorflow) (2.19.1)\n",
            "Requirement already satisfied: mdurl~=0.1 in /usr/local/lib/python3.11/dist-packages (from markdown-it-py>=2.2.0->rich->keras>=3.5.0->tensorflow) (0.1.2)\n",
            "Downloading tensorflow-2.19.0-cp311-cp311-manylinux_2_17_x86_64.manylinux2014_x86_64.whl (644.9 MB)\n",
            "\u001b[2K   \u001b[90m━━━━━━━━━━━━━━━━━━━━━━━━━━━━━━━━━━━━━━━\u001b[0m \u001b[32m644.9/644.9 MB\u001b[0m \u001b[31m646.3 kB/s\u001b[0m eta \u001b[36m0:00:00\u001b[0m\n",
            "\u001b[?25hDownloading astunparse-1.6.3-py2.py3-none-any.whl (12 kB)\n",
            "Downloading flatbuffers-25.2.10-py2.py3-none-any.whl (30 kB)\n",
            "Downloading google_pasta-0.2.0-py3-none-any.whl (57 kB)\n",
            "\u001b[2K   \u001b[90m━━━━━━━━━━━━━━━━━━━━━━━━━━━━━━━━━━━━━━━━\u001b[0m \u001b[32m57.5/57.5 kB\u001b[0m \u001b[31m5.8 MB/s\u001b[0m eta \u001b[36m0:00:00\u001b[0m\n",
            "\u001b[?25hDownloading libclang-18.1.1-py2.py3-none-manylinux2010_x86_64.whl (24.5 MB)\n",
            "\u001b[2K   \u001b[90m━━━━━━━━━━━━━━━━━━━━━━━━━━━━━━━━━━━━━━━━\u001b[0m \u001b[32m24.5/24.5 MB\u001b[0m \u001b[31m71.5 MB/s\u001b[0m eta \u001b[36m0:00:00\u001b[0m\n",
            "\u001b[?25hDownloading tensorboard-2.19.0-py3-none-any.whl (5.5 MB)\n",
            "\u001b[2K   \u001b[90m━━━━━━━━━━━━━━━━━━━━━━━━━━━━━━━━━━━━━━━━\u001b[0m \u001b[32m5.5/5.5 MB\u001b[0m \u001b[31m103.8 MB/s\u001b[0m eta \u001b[36m0:00:00\u001b[0m\n",
            "\u001b[?25hDownloading tensorflow_io_gcs_filesystem-0.37.1-cp311-cp311-manylinux_2_17_x86_64.manylinux2014_x86_64.whl (5.1 MB)\n",
            "\u001b[2K   \u001b[90m━━━━━━━━━━━━━━━━━━━━━━━━━━━━━━━━━━━━━━━━\u001b[0m \u001b[32m5.1/5.1 MB\u001b[0m \u001b[31m112.9 MB/s\u001b[0m eta \u001b[36m0:00:00\u001b[0m\n",
            "\u001b[?25hDownloading tensorboard_data_server-0.7.2-py3-none-manylinux_2_31_x86_64.whl (6.6 MB)\n",
            "\u001b[2K   \u001b[90m━━━━━━━━━━━━━━━━━━━━━━━━━━━━━━━━━━━━━━━━\u001b[0m \u001b[32m6.6/6.6 MB\u001b[0m \u001b[31m95.6 MB/s\u001b[0m eta \u001b[36m0:00:00\u001b[0m\n",
            "\u001b[?25hDownloading werkzeug-3.1.3-py3-none-any.whl (224 kB)\n",
            "\u001b[2K   \u001b[90m━━━━━━━━━━━━━━━━━━━━━━━━━━━━━━━━━━━━━━━━\u001b[0m \u001b[32m224.5/224.5 kB\u001b[0m \u001b[31m22.5 MB/s\u001b[0m eta \u001b[36m0:00:00\u001b[0m\n",
            "\u001b[?25hDownloading wheel-0.45.1-py3-none-any.whl (72 kB)\n",
            "\u001b[2K   \u001b[90m━━━━━━━━━━━━━━━━━━━━━━━━━━━━━━━━━━━━━━━━\u001b[0m \u001b[32m72.5/72.5 kB\u001b[0m \u001b[31m7.4 MB/s\u001b[0m eta \u001b[36m0:00:00\u001b[0m\n",
            "\u001b[?25hInstalling collected packages: libclang, flatbuffers, wheel, werkzeug, tensorflow-io-gcs-filesystem, tensorboard-data-server, google-pasta, tensorboard, astunparse, tensorflow\n",
            "Successfully installed astunparse-1.6.3 flatbuffers-25.2.10 google-pasta-0.2.0 libclang-18.1.1 tensorboard-2.19.0 tensorboard-data-server-0.7.2 tensorflow-2.19.0 tensorflow-io-gcs-filesystem-0.37.1 werkzeug-3.1.3 wheel-0.45.1\n"
          ]
        }
      ],
      "source": [
        "!pip install tensorflow"
      ]
    },
    {
      "cell_type": "markdown",
      "id": "c75d7404-176e-47ed-b26c-0f4e07de1df1",
      "metadata": {
        "id": "c75d7404-176e-47ed-b26c-0f4e07de1df1"
      },
      "source": [
        "# Setup Libraries"
      ]
    },
    {
      "cell_type": "code",
      "execution_count": 2,
      "id": "86d9ae4e-7f22-42aa-b5be-4755213bb528",
      "metadata": {
        "id": "86d9ae4e-7f22-42aa-b5be-4755213bb528"
      },
      "outputs": [],
      "source": [
        "import tempfile\n",
        "import os\n",
        "import math\n",
        "import calendar\n",
        "import copy\n",
        "\n",
        "import numpy as np\n",
        "import pandas as pd\n",
        "import matplotlib.pyplot as plt\n",
        "import tensorflow as tf"
      ]
    },
    {
      "cell_type": "markdown",
      "id": "b419994f-c081-4f32-9692-a317b1ebfa0e",
      "metadata": {
        "id": "b419994f-c081-4f32-9692-a317b1ebfa0e"
      },
      "source": [
        "# Setup Data"
      ]
    },
    {
      "cell_type": "code",
      "execution_count": 3,
      "id": "EiP4rS-QdUkG",
      "metadata": {
        "colab": {
          "base_uri": "https://localhost:8080/"
        },
        "id": "EiP4rS-QdUkG",
        "outputId": "bc74aebc-df49-435c-8239-7151b0bea4c4"
      },
      "outputs": [
        {
          "output_type": "stream",
          "name": "stdout",
          "text": [
            "Mounted at /content/drive\n"
          ]
        }
      ],
      "source": [
        "from google.colab import drive\n",
        "drive.mount('/content/drive', force_remount=True)"
      ]
    },
    {
      "cell_type": "code",
      "execution_count": 4,
      "id": "cbe1ea54-93e0-4f92-bf79-a2b6e696ab36",
      "metadata": {
        "id": "cbe1ea54-93e0-4f92-bf79-a2b6e696ab36"
      },
      "outputs": [],
      "source": [
        "tf_train_dataset = tf.data.Dataset.load(\"/content/drive/My Drive/ERA5 Data/data/training data 2001\")\n",
        "train_X = tf.stack([ex[0] for ex in tf_train_dataset])\n",
        "train_y = tf.stack([ex[1] for ex in tf_train_dataset])"
      ]
    },
    {
      "cell_type": "code",
      "execution_count": 5,
      "id": "779ff5a4-4b67-4c43-83eb-4ab2855ffa16",
      "metadata": {
        "colab": {
          "base_uri": "https://localhost:8080/"
        },
        "id": "779ff5a4-4b67-4c43-83eb-4ab2855ffa16",
        "outputId": "25a2d7a5-2c4b-4b3b-c254-2e2bb289cf3d"
      },
      "outputs": [
        {
          "output_type": "stream",
          "name": "stdout",
          "text": [
            "0 0\n"
          ]
        }
      ],
      "source": [
        "print(np.isnan(train_X).sum(), np.isinf(train_X).sum())"
      ]
    },
    {
      "cell_type": "code",
      "execution_count": 6,
      "id": "ca791f8e-c1ce-4976-a956-9f6ec05dbfa1",
      "metadata": {
        "colab": {
          "base_uri": "https://localhost:8080/"
        },
        "id": "ca791f8e-c1ce-4976-a956-9f6ec05dbfa1",
        "outputId": "d3bce096-a56e-4caf-f6ec-3651cf75bffa"
      },
      "outputs": [
        {
          "output_type": "stream",
          "name": "stdout",
          "text": [
            "0 0\n"
          ]
        }
      ],
      "source": [
        "print(np.isnan(train_y).sum(), np.isinf(train_y).sum())"
      ]
    },
    {
      "cell_type": "code",
      "execution_count": 7,
      "id": "lKcIaj12kSxn",
      "metadata": {
        "id": "lKcIaj12kSxn"
      },
      "outputs": [],
      "source": [
        "train_X_np = train_X.numpy()\n",
        "train_y_np = train_y.numpy()"
      ]
    },
    {
      "cell_type": "code",
      "source": [
        "def plot_histogram(data, x_lab, title):\n",
        "  fig, ax = plt.subplots(figsize=(8, 6))\n",
        "\n",
        "  ax.hist(\n",
        "      data,\n",
        "      bins=30,\n",
        "      alpha=0.75,\n",
        "      edgecolor='black',\n",
        "      linewidth=1\n",
        "  )\n",
        "\n",
        "  ax.set_title(title, fontsize=18, weight='bold')\n",
        "  ax.set_xlabel(x_lab, fontsize=14)\n",
        "  ax.set_ylabel('Frequency', fontsize=14)\n",
        "\n",
        "  ax.tick_params(axis='both', which='major', labelsize=12)\n",
        "  ax.grid(True, linestyle='--', linewidth=0.5, alpha=0.7)\n",
        "  fig.tight_layout()\n",
        "\n",
        "  plt.show()"
      ],
      "metadata": {
        "id": "Q0rmrDNQKfJm"
      },
      "id": "Q0rmrDNQKfJm",
      "execution_count": 8,
      "outputs": []
    },
    {
      "cell_type": "code",
      "source": [
        "plot_histogram(train_X_np[:, :, :, :, 0].flatten()[train_X_np[:, :, :, :, 0].flatten() > -9999], 'Variable at index 0', 'Histogram of predictor variables')"
      ],
      "metadata": {
        "colab": {
          "base_uri": "https://localhost:8080/",
          "height": 607
        },
        "id": "GQRBYi5ITdlr",
        "outputId": "f95cc369-279b-48c9-ddad-adc6f877a4d7"
      },
      "id": "GQRBYi5ITdlr",
      "execution_count": 9,
      "outputs": [
        {
          "output_type": "display_data",
          "data": {
            "text/plain": [
              "<Figure size 800x600 with 1 Axes>"
            ],
            "image/png": "[encoded data removed]"
          },
          "metadata": {}
        }
      ]
    },
    {
      "cell_type": "code",
      "source": [
        "train_X_masked = np.where(train_X_np <= -9999, np.nan, train_X_np)"
      ],
      "metadata": {
        "id": "YDy5lMv8UTtz"
      },
      "id": "YDy5lMv8UTtz",
      "execution_count": 10,
      "outputs": []
    },
    {
      "cell_type": "code",
      "source": [
        "X_channel_mean = np.array(\n",
        "    [np.nanmean(train_X_masked[:, :, :, :, i]) for i in range(train_X_masked.shape[-1])]\n",
        ")\n",
        "X_channel_mean"
      ],
      "metadata": {
        "colab": {
          "base_uri": "https://localhost:8080/"
        },
        "id": "_sCQAnWbUVcx",
        "outputId": "142eed38-5111-4b72-8497-e3b1d8e0934d"
      },
      "id": "_sCQAnWbUVcx",
      "execution_count": 11,
      "outputs": [
        {
          "output_type": "execute_result",
          "data": {
            "text/plain": [
              "array([ 2.8733960e+02,  2.8518356e+02,  2.8307764e+02,  2.9672681e+02,\n",
              "        2.9322870e+02,  2.8995871e+02, -2.9985502e-03,  3.0074576e+02,\n",
              "        2.9458899e+02,  2.9055096e+02,  1.1480216e+01,  5.5924713e+02,\n",
              "        1.9000979e-03], dtype=float32)"
            ]
          },
          "metadata": {},
          "execution_count": 11
        }
      ]
    },
    {
      "cell_type": "code",
      "source": [
        "X_channel_std  = np.array(\n",
        "    [np.nanstd(train_X_masked[:, :, :, :, i]) for i in range(train_X_masked.shape[-1])]\n",
        ")\n",
        "X_channel_std"
      ],
      "metadata": {
        "colab": {
          "base_uri": "https://localhost:8080/"
        },
        "id": "zYfAGGi9UhBV",
        "outputId": "5ca4e0df-06f1-4c95-d864-b476cd449c1e"
      },
      "id": "zYfAGGi9UhBV",
      "execution_count": 12,
      "outputs": [
        {
          "output_type": "execute_result",
          "data": {
            "text/plain": [
              "array([6.6319203e+00, 7.3300543e+00, 8.0623484e+00, 7.6074805e+00,\n",
              "       6.6845088e+00, 6.9685178e+00, 2.5828748e-03, 1.1450218e+01,\n",
              "       7.2708955e+00, 7.3463850e+00, 7.6361074e+00, 3.2773511e+02,\n",
              "       5.8767572e-03], dtype=float32)"
            ]
          },
          "metadata": {},
          "execution_count": 12
        }
      ]
    },
    {
      "cell_type": "code",
      "execution_count": 13,
      "id": "33fd89db-27fe-4e57-81d0-ca0be7e1cd06",
      "metadata": {
        "colab": {
          "base_uri": "https://localhost:8080/"
        },
        "id": "33fd89db-27fe-4e57-81d0-ca0be7e1cd06",
        "outputId": "c8389a20-96cb-4535-c01e-abe6ef092c63"
      },
      "outputs": [
        {
          "output_type": "stream",
          "name": "stdout",
          "text": [
            "Normalized train_X shape: (693, 31, 20, 20, 13)\n"
          ]
        }
      ],
      "source": [
        "normalized_train_X_np = (train_X_np - X_channel_mean) / (X_channel_std)\n",
        "normalized_train_X_np = np.where(train_X_np <= -9999, -9999.0, normalized_train_X_np)\n",
        "normalized_train_X = tf.convert_to_tensor(normalized_train_X_np, dtype=tf.float32)\n",
        "\n",
        "print(\"Normalized train_X shape:\", normalized_train_X.shape)\n",
        "del train_X_np\n",
        "del train_X_masked\n",
        "del normalized_train_X_np"
      ]
    },
    {
      "cell_type": "code",
      "execution_count": 14,
      "id": "pBvmYj8rk1Ce",
      "metadata": {
        "id": "pBvmYj8rk1Ce"
      },
      "outputs": [],
      "source": [
        "normalized_train_X = tf.where(tf.less_equal(normalized_train_X, -9999.0), tf.zeros_like(normalized_train_X), normalized_train_X)"
      ]
    },
    {
      "cell_type": "code",
      "execution_count": 15,
      "id": "kJGmtqD9hq5q",
      "metadata": {
        "colab": {
          "base_uri": "https://localhost:8080/",
          "height": 591
        },
        "id": "kJGmtqD9hq5q",
        "outputId": "f0068fde-9ba4-43f1-ed23-70b9087807b2"
      },
      "outputs": [
        {
          "output_type": "display_data",
          "data": {
            "text/plain": [
              "<Figure size 800x600 with 1 Axes>"
            ],
            "image/png": "[encoded data removed]"
          },
          "metadata": {}
        }
      ],
      "source": [
        "plot_histogram(normalized_train_X[:, :, :, :, 0].numpy().flatten(), 'Variable at index 0', 'Histogram of normalized predictor variables')"
      ]
    },
    {
      "cell_type": "code",
      "source": [
        "train_y_masked = np.where(train_y_np <= -9999, np.nan, train_y_np)"
      ],
      "metadata": {
        "id": "J5fdya0_XZCZ"
      },
      "id": "J5fdya0_XZCZ",
      "execution_count": 16,
      "outputs": []
    },
    {
      "cell_type": "code",
      "source": [
        "y_channel_mean = np.array(\n",
        "    [np.nanmean(train_y_masked[:, :, :, :, i]) for i in range(train_y_masked.shape[-1])]\n",
        ")\n",
        "y_channel_mean"
      ],
      "metadata": {
        "colab": {
          "base_uri": "https://localhost:8080/"
        },
        "id": "wAiBUHnRXVs7",
        "outputId": "2f4a704c-f95d-46fa-c793-e466d0882d47"
      },
      "id": "wAiBUHnRXVs7",
      "execution_count": 17,
      "outputs": [
        {
          "output_type": "execute_result",
          "data": {
            "text/plain": [
              "array([ 2.8711862e+02,  2.8495432e+02,  2.8283240e+02,  2.9651178e+02,\n",
              "        2.9302600e+02,  2.8976099e+02, -3.0101666e-03,  3.0053397e+02,\n",
              "        2.9439218e+02,  2.9035413e+02,  1.1412920e+01,  5.4634149e+02,\n",
              "        1.8306720e-03], dtype=float32)"
            ]
          },
          "metadata": {},
          "execution_count": 17
        }
      ]
    },
    {
      "cell_type": "code",
      "source": [
        "y_channel_std  = np.array(\n",
        "    [np.nanstd(train_y_masked[:, :, :, :, i]) for i in range(train_y_masked.shape[-1])]\n",
        ")\n",
        "y_channel_std"
      ],
      "metadata": {
        "colab": {
          "base_uri": "https://localhost:8080/"
        },
        "id": "iQjcf-YVXVzs",
        "outputId": "0e9affbc-8af0-4346-fb6d-de362aa0cab7"
      },
      "id": "iQjcf-YVXVzs",
      "execution_count": 18,
      "outputs": [
        {
          "output_type": "execute_result",
          "data": {
            "text/plain": [
              "array([6.6079073e+00, 7.2956376e+00, 8.0311441e+00, 7.5513930e+00,\n",
              "       6.6332421e+00, 6.9366012e+00, 2.5890006e-03, 1.1331114e+01,\n",
              "       7.1832690e+00, 7.3218594e+00, 7.6165795e+00, 3.1798929e+02,\n",
              "       5.6654122e-03], dtype=float32)"
            ]
          },
          "metadata": {},
          "execution_count": 18
        }
      ]
    },
    {
      "cell_type": "code",
      "execution_count": 19,
      "id": "4491d08b-12df-43e0-a1ca-226c5708d588",
      "metadata": {
        "colab": {
          "base_uri": "https://localhost:8080/"
        },
        "id": "4491d08b-12df-43e0-a1ca-226c5708d588",
        "outputId": "dff59b98-c529-4082-d605-a99e0b8fef2f"
      },
      "outputs": [
        {
          "output_type": "stream",
          "name": "stdout",
          "text": [
            "Normalized train_y shape: (693, 31, 20, 20, 13)\n"
          ]
        }
      ],
      "source": [
        "normalized_train_y_np = (train_y_np - y_channel_mean) / (y_channel_std)\n",
        "normalized_train_y_np = np.where(train_y_np <= -9999, -9999.0, normalized_train_y_np)\n",
        "normalized_train_y = tf.convert_to_tensor(normalized_train_y_np, dtype=tf.float32)\n",
        "\n",
        "print(\"Normalized train_y shape:\", normalized_train_y.shape)\n",
        "del train_y_np\n",
        "del train_y_masked\n",
        "del normalized_train_y_np"
      ]
    },
    {
      "cell_type": "markdown",
      "id": "5730756f-d1c3-466f-8958-5dbc9f0632f3",
      "metadata": {
        "id": "5730756f-d1c3-466f-8958-5dbc9f0632f3"
      },
      "source": [
        "# Setup Transformer Architecture"
      ]
    },
    {
      "cell_type": "code",
      "execution_count": 20,
      "id": "b1427ea9-f3cd-4173-b405-bef4eaa02795",
      "metadata": {
        "id": "b1427ea9-f3cd-4173-b405-bef4eaa02795"
      },
      "outputs": [],
      "source": [
        "class DecomposeLayer(tf.keras.layers.Layer):\n",
        "    def __init__(self, cuboid_size, **kwargs):\n",
        "        \"\"\"\n",
        "        cuboid_size: Tuple (bT, bH, bW) defining the size of each cuboid.\n",
        "        \"\"\"\n",
        "        super(DecomposeLayer, self).__init__(**kwargs)\n",
        "        self.cuboid_size = cuboid_size   # (bT, bH, bW)\n",
        "\n",
        "    def call(self, inputs):\n",
        "        # inputs should be of shape [B, T, H, W, C]\n",
        "        input_shape = tf.shape(inputs)\n",
        "        B, T, H, W, C = input_shape[0], input_shape[1], input_shape[2], input_shape[3], input_shape[4]\n",
        "        bT, bH, bW = self.cuboid_size\n",
        "\n",
        "        # (1) Ensure that T, H, W are divisible by bT, bH, bW.\n",
        "        pad_T = (bT - T % bT) % bT\n",
        "        pad_H = (bH - H % bH) % bH\n",
        "        pad_W = (bW - W % bW) % bW\n",
        "\n",
        "        condition = tf.logical_or(\n",
        "              tf.logical_or(tf.greater(pad_T, 0), tf.greater(pad_H, 0)),\n",
        "              tf.greater(pad_W, 0)\n",
        "            )\n",
        "\n",
        "        def pad_fn():\n",
        "            return tf.pad(inputs,\n",
        "                          paddings=[[0, 0],\n",
        "                                    [0, pad_T],\n",
        "                                    [0, pad_H],\n",
        "                                    [0, pad_W],\n",
        "                                    [0, 0]])\n",
        "\n",
        "        def identity_fn():\n",
        "            return inputs\n",
        "\n",
        "        inputs = tf.cond(condition, pad_fn, identity_fn)\n",
        "\n",
        "        padded_shape = tf.shape(inputs)\n",
        "        T_new = padded_shape[1]\n",
        "        H_new = padded_shape[2]\n",
        "        W_new = padded_shape[3]\n",
        "\n",
        "        # For contiguous cuboids, similar to window partitioning as in Swin Transformer.\n",
        "        # Reshape to group each (bT, bH, bW) block together.\n",
        "        x = tf.reshape(inputs, [B,\n",
        "                                  T_new // bT, bT,\n",
        "                                  H_new // bH, bH,\n",
        "                                  W_new // bW, bW,\n",
        "                                  C])\n",
        "\n",
        "        # Transpose to bring the cuboid grid dimensions together:\n",
        "        # New shape: [B, T//bT, H//bH, W//bW, bT, bH, bW, C]\n",
        "        x = tf.transpose(x, [0, 1, 3, 5, 2, 4, 6, 7])\n",
        "\n",
        "        # Merge the cuboid grid dimensions into one axis.\n",
        "        num_cuboids = (T_new // bT) * (H_new // bH) * (W_new // bW)\n",
        "        cuboids = tf.reshape(x, [B, num_cuboids, bT, bH, bW, C])\n",
        "\n",
        "        # Output shape: [B, , sequence_length, bT, bH, bW, C]\n",
        "        return cuboids\n",
        "\n",
        "    def build(self, input_shape):\n",
        "        # input_shape: (B, T, H, W, C)\n",
        "        super(DecomposeLayer, self).build(input_shape)\n",
        "\n",
        "\n",
        "    def compute_output_shape(self, input_shape):\n",
        "        # Assuming input_shape is (B, T, H, W, C)\n",
        "        bT, bH, bW = self.cuboid_size\n",
        "        B, T, H, W, C = input_shape\n",
        "        num_cuboids = (T // bT) * (H // bH) * (W // bW)\n",
        "        return (B, num_cuboids, bT, bH, bW, C)"
      ]
    },
    {
      "cell_type": "code",
      "execution_count": 21,
      "id": "62c75f25-645f-4329-847e-d32164e5a1f4",
      "metadata": {
        "id": "62c75f25-645f-4329-847e-d32164e5a1f4"
      },
      "outputs": [],
      "source": [
        "class MergeLayer(tf.keras.layers.Layer):\n",
        "    def __init__(self, original_shape, cuboid_size, **kwargs):\n",
        "        \"\"\"\n",
        "        original_shape: Tuple (T, H, W) representing the spatiotemporal dimensions\n",
        "                        T must be divisible by bT, H by bH, and W by bW.\n",
        "        cuboid_size: Tuple (bT, bH, bW) defining the size of each cuboid.\n",
        "        \"\"\"\n",
        "\n",
        "        super(MergeLayer, self).__init__(**kwargs)\n",
        "        self.original_shape = original_shape     # (T, H, W)\n",
        "        self.cuboid_size = cuboid_size           # (bT, bH, bW)\n",
        "\n",
        "    def call(self, inputs):\n",
        "        \"\"\"\n",
        "        inputs: Tensor of shape [B, num_cuboids, bT*bH*bW, C].\n",
        "        Returns:\n",
        "            Merged tensor of shape [B, T, H, W, C].\n",
        "        \"\"\"\n",
        "\n",
        "        # Unpack original spatiotemporal dimensions and cuboid dimensions.\n",
        "        T, H, W = self.original_shape\n",
        "        bT, bH, bW = self.cuboid_size\n",
        "\n",
        "        # Compute the grid dimensions (number of cuboids in each dimension).\n",
        "        grid_T = T // bT\n",
        "        grid_H = H // bH\n",
        "        grid_W = W // bW\n",
        "\n",
        "        B = tf.shape(inputs)[0]\n",
        "        # The input shape is expected to be [B, sequence_length, bT, bH, bW, C].\n",
        "        # Reshape the cuboid sequence tokens back to their structured shape.\n",
        "        x = tf.reshape(inputs, [B, grid_T, grid_H, grid_W, bT, bH, bW, -1])\n",
        "\n",
        "        # Invert the transpose in the decompose layer\n",
        "        x = tf.transpose(x, perm=[0, 1, 4, 2, 5, 3, 6, 7])\n",
        "\n",
        "        # Reshape back to the merged spatiotemporal shape: [B, T, H, W, C].\n",
        "        merged = tf.reshape(x, [B, T, H, W, -1])\n",
        "\n",
        "        return merged\n",
        "\n",
        "    def build(self, input_shape):\n",
        "        # input_shape: (B, num_cuboids, bT, bH, bW, C)\n",
        "        super(MergeLayer, self).build(input_shape)\n",
        "\n",
        "    def compute_output_shape(self, input_shape):\n",
        "        # The output shape is [B, T, H, W, C] where T,H,W come from self.original_shape.\n",
        "        return (input_shape[0], self.original_shape[0], self.original_shape[1], self.original_shape[2], input_shape[-1])"
      ]
    },
    {
      "cell_type": "code",
      "execution_count": 22,
      "id": "5a5aabff-20f2-4f39-a6b5-77841b53ec93",
      "metadata": {
        "id": "5a5aabff-20f2-4f39-a6b5-77841b53ec93"
      },
      "outputs": [],
      "source": [
        "class CuboidSelfAttentionLayer(tf.keras.layers.Layer):\n",
        "    def __init__(self,\n",
        "                 dim,\n",
        "                 num_heads,\n",
        "                 original_shape, # tuple (T, H, W)\n",
        "                 cuboid_size, # tuple (bT, bH, bW)\n",
        "                 attn_dropout_rate=0.45,\n",
        "                 proj_dropout_rate=0.45,\n",
        "                 qkv_bias=True,\n",
        "                 **kwargs):\n",
        "        \"\"\"\n",
        "        Parameters:\n",
        "          - dim: The input channel dimension (C).\n",
        "          - num_heads: Number of attention heads.\n",
        "          - cuboid_size: Tuple (bT, bH, bW) defining the size of each cuboid.\n",
        "          - attn_dropout_rate: Dropout rate for attention weights.\n",
        "          - proj_dropout_rate: Dropout rate after the final projection.\n",
        "          - global_dim_ratio: Scaling factor for the global branch channel dimension.\n",
        "          - qkv_bias: Boolean to include bias in the linear projections.\n",
        "        \"\"\"\n",
        "        super().__init__(**kwargs)\n",
        "        self.dim = dim\n",
        "        self.num_heads = num_heads\n",
        "        self.head_dim = dim // num_heads\n",
        "        self.scale = self.head_dim ** -0.5\n",
        "        self.original_shape = original_shape\n",
        "        self.cuboid_size = cuboid_size  # (bT, bH, bW)\n",
        "        self.bT, self.bH, self.bW = cuboid_size\n",
        "        self.cuboid_volume = self.bT * self.bH * self.bW\n",
        "        self.attn_dropout_rate = attn_dropout_rate\n",
        "        self.proj_dropout_rate = proj_dropout_rate\n",
        "        self.global_dim_ratio = 1\n",
        "\n",
        "        self.decompose = DecomposeLayer(cuboid_size=self.cuboid_size)\n",
        "        self.merge = MergeLayer(original_shape=self.original_shape, cuboid_size=self.cuboid_size)\n",
        "\n",
        "        # This projection maps input tokens to concatenated Q, K, V of dimension 3*dim.\n",
        "        self.qkv = tf.keras.layers.Dense(dim * 3, use_bias=qkv_bias)\n",
        "\n",
        "        # -------------------------\n",
        "        # Relative Positional Bias\n",
        "        # -------------------------\n",
        "        table_size = (2 * self.bT - 1) * (2 * self.bH - 1) * (2 * self.bW - 1)\n",
        "        self.relative_position_bias_table = self.add_weight(\n",
        "            name=\"relative_position_bias_table\",\n",
        "            shape=[table_size, num_heads],\n",
        "            initializer=tf.keras.initializers.TruncatedNormal(stddev=0.02),\n",
        "            trainable=True)\n",
        "        # Compute relative position index for a cuboid of size (bT, bH, bW)\n",
        "        coords_t = tf.range(self.bT)    # (bT,)\n",
        "        coords_h = tf.range(self.bH)    # (bH,)\n",
        "        coords_w = tf.range(self.bW)    # (bW,)\n",
        "        coords = tf.stack(tf.meshgrid(coords_t, coords_h, coords_w, indexing='ij'))  # (3, bT, bH, bW)\n",
        "        coords_flat = tf.reshape(coords, (3, -1))  # (3, cuboid_volume)\n",
        "        # Calculate pairwise differences → (cuboid_volume, cuboid_volume, 3)\n",
        "        relative_coords = tf.expand_dims(coords_flat, axis=2) - tf.expand_dims(coords_flat, axis=1)\n",
        "        # Shift so that minimum is 0.\n",
        "        shift = tf.constant([self.bT - 1, self.bH - 1, self.bW - 1], dtype=tf.int32)\n",
        "        shift = tf.reshape(shift, (3, 1, 1))\n",
        "        relative_coords += shift\n",
        "        multiplier = tf.constant([(2 * self.bH - 1) * (2 * self.bW - 1), (2 * self.bW - 1), 1], dtype=tf.int32)\n",
        "        multiplier = tf.reshape(multiplier, (3, 1, 1))  # Reshape for correct broadcasting\n",
        "        relative_coords = relative_coords * multiplier\n",
        "        self.relative_position_index = tf.reduce_sum(relative_coords, axis=0)  # (cuboid_volume, cuboid_volume)\n",
        "\n",
        "        # -------------------------\n",
        "        # Dropout and Final Projection Layers for Local Branch\n",
        "        # -------------------------\n",
        "        self.attn_dropout = tf.keras.layers.Dropout(self.attn_dropout_rate)\n",
        "        self.proj = tf.keras.layers.Dense(dim)\n",
        "        self.proj_dropout = tf.keras.layers.Dropout(self.proj_dropout_rate)\n",
        "\n",
        "        # -------------------------\n",
        "        # Global Branch Projections\n",
        "        # -------------------------\n",
        "        # Local-to-global branch: project local tokens to queries.\n",
        "        self.l2g_q_dense = tf.keras.layers.Dense(dim, use_bias=qkv_bias)\n",
        "        # Project global vectors to keys and values.\n",
        "        self.l2g_global_kv_dense = tf.keras.layers.Dense(dim * 2, use_bias=qkv_bias)\n",
        "        # Global-to-local branch (if needed).\n",
        "        self.g2l_global_q_dense = tf.keras.layers.Dense(dim, use_bias=qkv_bias)\n",
        "        self.g2l_k_dense = tf.keras.layers.Dense(dim, use_bias=qkv_bias)\n",
        "        self.g2l_v_dense = tf.keras.layers.Dense(dim, use_bias=qkv_bias)\n",
        "        # Global self-attention among global vectors.\n",
        "        self.g2g_global_qkv_dense = tf.keras.layers.Dense((self.global_dim_ratio * dim) * 3, use_bias=qkv_bias)\n",
        "\n",
        "        # -------------------------\n",
        "        # Fusion Projection\n",
        "        # -------------------------\n",
        "        # Fusion layer that takes concatenated features from local and global branches (2*dim) and projects back to dim.\n",
        "        self.fusion_dense = tf.keras.layers.Dense(dim, use_bias=True)\n",
        "\n",
        "    def call(self, x, global_vectors, mask=None, training=False):\n",
        "        \"\"\"\n",
        "        Input:\n",
        "          - x: Input tensor of shape (B, T, H, W, C).\n",
        "          - global_vectors: tensor of shape (B, num_global, global_dim_ratio * dim).\n",
        "          - mask: Optional attention mask of shape (B, num_heads, num_cuboids, cuboid_volume, cuboid_volume).\n",
        "          - training: Boolean.\n",
        "        Processing:\n",
        "          - Decompose input into cuboids.\n",
        "          - Apply QKV projection and reshape to obtain (B, num_heads, num_cuboids, cuboid_volume, head_dim).\n",
        "          - Compute relative positional bias and add it to attention scores.\n",
        "          - Apply masking and dropout.\n",
        "          - Compute weighted-sum for local self-attention.\n",
        "          - Process global branch using separate projections and apply global self-attention to global vectors.\n",
        "          - Fuse local and global outputs via concatenation and a final fusion projection.\n",
        "          - Merge cuboids back to original spatial layout.\n",
        "        Output:\n",
        "          - Tensor of shape (B, T, H, W, C).\n",
        "          - Updated global vectors.\n",
        "        \"\"\"\n",
        "        B = tf.shape(x)[0]  # Batch size\n",
        "\n",
        "        # -------------------------\n",
        "        # Decomposition\n",
        "        # -------------------------\n",
        "        decomposed = self.decompose(x)  # shape: (B, num_cuboids, bT, bH, bW, C)\n",
        "        B, num_cuboids, bT, bH, bW, C = tf.unstack(tf.shape(decomposed))\n",
        "        local_tokens = tf.reshape(decomposed, (B, num_cuboids, self.cuboid_volume, C)) # shape: (B, num_cuboids, cuboid_volume, C)\n",
        "\n",
        "        # -------------------------\n",
        "        # Local Attention\n",
        "        # -------------------------\n",
        "        # Compute concatenated Q, K, V.\n",
        "        qkv = self.qkv(local_tokens) # shape: (B, num_cuboids, cuboid_volume, 3*dim)\n",
        "        qkv = tf.reshape(qkv, (B, num_cuboids, self.cuboid_volume, 3, self.num_heads, self.head_dim))\n",
        "        qkv = tf.transpose(qkv, perm=[3, 0, 4, 1, 2, 5]) # shape: (3, B, num_heads, num_cuboids, cuboid_volume, head_dim)\n",
        "        q_local, k_local, v_local = qkv[0], qkv[1], qkv[2] # shape: (B, num_heads, num_cuboids, cuboid_volume, head_dim)\n",
        "        q_local = q_local * self.scale # Scale queries.\n",
        "        attn_local = tf.matmul(q_local, k_local, transpose_b=True) # shape: (B, num_heads, num_cuboids, cuboid_volume, cuboid_volume)\n",
        "\n",
        "        rp_index = tf.reshape(self.relative_position_index, [-1]) # shape: (cuboid_volume*cuboid_volume,)\n",
        "        rp_bias = tf.gather(self.relative_position_bias_table, rp_index) # shape: (cuboid_volume*cuboid_volume, num_heads)\n",
        "        rp_bias = tf.reshape(rp_bias, (self.cuboid_volume, self.cuboid_volume, self.num_heads)) # shape: (cuboid_volume, cuboid_volume, num_heads)\n",
        "        rp_bias = tf.transpose(rp_bias, perm=[2, 0, 1]) # shape: (num_heads, cuboid_volume, cuboid_volume)\n",
        "        rp_bias = tf.expand_dims(rp_bias, axis=0)\n",
        "        rp_bias = tf.expand_dims(rp_bias, axis=2) # shape: (B, num_heads, num_cuboids, cuboid_volume, cuboid_volume)\n",
        "        attn_local = attn_local + rp_bias\n",
        "\n",
        "        if mask is not None:\n",
        "            # Assume mask is of shape (B, num_heads, num_cuboids, cuboid_volume, cuboid_volume)\n",
        "            attn_local += (1.0 - mask) * (-1e9)\n",
        "        attn_local = tf.nn.softmax(attn_local, axis=-1)\n",
        "        attn_local = self.attn_dropout(attn_local, training=training)\n",
        "\n",
        "        local_out = tf.matmul(attn_local, v_local) # shape: (B, num_heads, num_cuboids, cuboid_volume, head_dim)\n",
        "        local_out = tf.transpose(local_out, perm=[0, 2, 3, 1, 4]) # shape: (B, num_cuboids, cuboid_volume, num_heads, head_dim)\n",
        "        local_out = tf.reshape(local_out, (B, num_cuboids, self.cuboid_volume, self.dim)) # shape: (B, num_cuboids, cuboid_volume, dim)\n",
        "\n",
        "        # -------------------------\n",
        "        # Global Attention\n",
        "        # -------------------------\n",
        "        # Local-to-Global Attention\n",
        "        l2g_q = self.l2g_q_dense(local_tokens)  # (B, num_cuboids, cuboid_volume, C)\n",
        "        l2g_q = tf.reshape(l2g_q, (B, num_cuboids, self.cuboid_volume, self.num_heads, self.head_dim))\n",
        "        l2g_q = tf.transpose(l2g_q, perm=[0, 3, 1, 2, 4]) # shape: (B, num_heads, num_cuboids, cuboid_volume, head_dim)\n",
        "        l2g_q = l2g_q * self.scale\n",
        "\n",
        "        l2g_global_kv = self.l2g_global_kv_dense(global_vectors)\n",
        "        l2g_global_k, l2g_global_v = tf.split(l2g_global_kv, num_or_size_splits=2, axis=-1)\n",
        "        l2g_global_k = tf.reshape(l2g_global_k, (B, -1, self.num_heads, self.head_dim)) # shape: (B, num_global, num_heads, head_dim)\n",
        "        l2g_global_k = tf.transpose(l2g_global_k, perm=[0, 2, 1, 3]) # shape: (B, num_heads, num_global, head_dim)\n",
        "        l2g_global_k = tf.expand_dims(l2g_global_k, axis=2)\n",
        "        l2g_global_v = tf.reshape(l2g_global_v, (B, -1, self.num_heads, self.head_dim))\n",
        "        l2g_global_v = tf.transpose(l2g_global_v, perm=[0, 2, 1, 3])\n",
        "\n",
        "        attn_l2g = tf.matmul(l2g_q, l2g_global_k, transpose_b=True) # shape: (B, num_heads, num_cuboids, cuboid_volume, num_global)\n",
        "        attn_combined = tf.concat([attn_local, attn_l2g], axis=-1) # shape: (B, num_heads, num_cuboids, cuboid_volume, cuboid_volume + num_global)\n",
        "        l2g_global_v_expanded = tf.expand_dims(l2g_global_v, axis=2)\n",
        "        num_cuboids = tf.shape(v_local)[2]\n",
        "        l2g_global_v_tiled = tf.tile(l2g_global_v_expanded, [1, 1, num_cuboids, 1, 1])\n",
        "        v_combined = tf.concat([v_local, l2g_global_v_tiled], axis=3) # shape: (B, num_heads, num_cuboids, cuboid_volume + num_global, head_dim)\n",
        "        attn_combined = tf.nn.softmax(attn_combined, axis=-1)\n",
        "        attn_combined = self.attn_dropout(attn_combined, training=training)\n",
        "\n",
        "        global_out = tf.matmul(attn_combined, v_combined) # shape: (B, num_heads, num_cuboids, cuboid_volume, head_dim)\n",
        "        global_out = tf.transpose(global_out, perm=[0, 2, 3, 1, 4]) # shape: first transpose to (B, num_cuboids, cuboid_volume, num_heads, head_dim)\n",
        "        global_out = tf.reshape(global_out, (B, num_cuboids, self.cuboid_volume, self.dim)) # shape: (B, num_cuboids, cuboid_volume, dim)\n",
        "\n",
        "        # Global Self-Attention\n",
        "        g2g_qkv = self.g2g_global_qkv_dense(global_vectors)  # shape: (B, num_global, 3*global_dim_ratio*dim)\n",
        "        g2g_qkv = tf.reshape(g2g_qkv, (B, -1, 3, self.num_heads, self.head_dim))\n",
        "        g2g_qkv = tf.transpose(g2g_qkv, perm=[2, 0, 3, 1, 4]) # shape: (3, B, num_heads, num_global, head_dim)\n",
        "        q_global, k_global, v_global = g2g_qkv[0], g2g_qkv[1], g2g_qkv[2] # shape: (B, num_heads, num_global, head_dim)\n",
        "        q_global = q_global * self.scale\n",
        "        attn_global = tf.matmul(q_global, k_global, transpose_b=True)\n",
        "        attn_global = tf.nn.softmax(attn_global, axis=-1)\n",
        "        attn_global = self.attn_dropout(attn_global, training=training)\n",
        "        updated_global = tf.matmul(attn_global, v_global)  # (B, num_heads, num_global, head_dim)\n",
        "        updated_global = tf.transpose(updated_global, perm=[0, 2, 1, 3]) # (B, num_global, num_heads, head_dim)\n",
        "        updated_global = tf.reshape(updated_global, (B, -1, self.global_dim_ratio * self.dim))\n",
        "\n",
        "        # -------------------------\n",
        "        # Fusion of Local and Global\n",
        "        # -------------------------\n",
        "        fused = tf.concat([local_out, global_out], axis=-1)  # shape: (B, num_cuboids, cuboid_volume, 2*dim)\n",
        "        fused = self.fusion_dense(fused)  # shape: (B, num_cuboids, cuboid_volume, dim)\n",
        "        final_out_local = fused\n",
        "        final_out_local = self.proj(final_out_local)  #  shape: (B, num_cuboids, cuboid_volume, dim)\n",
        "        final_out_local = self.proj_dropout(final_out_local, training=training)\n",
        "\n",
        "        # -------------------------\n",
        "        # Merge Cuboids\n",
        "        # -------------------------\n",
        "        final_out_cuboids = tf.reshape(final_out_local, (B, num_cuboids, self.bT, self.bH, self.bW, self.dim))\n",
        "        final_out = self.merge(final_out_cuboids) # shape: (B, T, H, W, C)\n",
        "\n",
        "        return final_out, updated_global\n",
        "\n",
        "    def build(self, input_shape):\n",
        "        \"\"\"\n",
        "        Build the layer.\n",
        "        \"\"\"\n",
        "        super().build(input_shape)\n",
        "\n",
        "    def compute_output_shape(self, input_shape):\n",
        "        \"\"\"\n",
        "        Returns the output shape(s) of the layer.\n",
        "          - For input of shape (B, T, H, W, C), the output is (B, T, H, W, C)\n",
        "          - The updated global vectors remain (B, num_global, global_dim_ratio * dim)\n",
        "        \"\"\"\n",
        "        batch_size = input_shape[0]\n",
        "        T, H, W = self.original_shape\n",
        "        output_x_shape = (batch_size, T, H, W, self.dim)\n",
        "\n",
        "        output_global_shape = (global_shape[0],\n",
        "                               global_shape[1],\n",
        "                               self.global_dim_ratio * self.dim)\n",
        "        return [output_x_shape, output_global_shape]"
      ]
    },
    {
      "cell_type": "code",
      "execution_count": 23,
      "id": "0d96f5a9-920f-4365-b29a-28f8141a058a",
      "metadata": {
        "id": "0d96f5a9-920f-4365-b29a-28f8141a058a"
      },
      "outputs": [],
      "source": [
        "class CuboidCrossAttentionLayer(tf.keras.layers.Layer):\n",
        "    def __init__(self,\n",
        "                 dim,\n",
        "                 num_heads,\n",
        "                 original_shape,       # tuple (T, H, W)\n",
        "                 cuboid_size,          # tuple (bT, bH, bW)\n",
        "                 attn_dropout_rate=0.45,\n",
        "                 proj_dropout_rate=0.45,\n",
        "                 qkv_bias=True,\n",
        "                 **kwargs):\n",
        "        \"\"\"\n",
        "        CuboidCrossAttentionLayer implements cross attention on decomposed cuboids.\n",
        "\n",
        "        Parameters:\n",
        "          - dim: Input channel dimension.\n",
        "          - num_heads: Number of attention heads.\n",
        "          - original_shape: The full spatial–temporal shape (T, H, W) of the input.\n",
        "          - cuboid_size: Tuple (bT, bH, bW) defining the cuboid size.\n",
        "          - attn_dropout_rate: Dropout rate on attention weights.\n",
        "          - proj_dropout_rate: Dropout rate after the final projection.\n",
        "          - qkv_bias: Whether to use bias in linear projections.\n",
        "        \"\"\"\n",
        "        super().__init__(**kwargs)\n",
        "        self.dim = dim\n",
        "        self.num_heads = num_heads\n",
        "        self.head_dim = dim // num_heads\n",
        "        self.scale = self.head_dim ** -0.5\n",
        "        self.original_shape = original_shape     # (T, H, W)\n",
        "        self.cuboid_size = cuboid_size           # (bT, bH, bW)\n",
        "        self.attn_dropout_rate = attn_dropout_rate\n",
        "        self.proj_dropout_rate = proj_dropout_rate\n",
        "        self.qkv_bias = qkv_bias\n",
        "\n",
        "        # Instantiate the helper layers for cuboid decomposition and merging.\n",
        "        self.decompose = DecomposeLayer(cuboid_size=self.cuboid_size)\n",
        "        self.merge = MergeLayer(original_shape=self.original_shape, cuboid_size=self.cuboid_size)\n",
        "\n",
        "        # -------------------------\n",
        "        # Relative Positional Bias\n",
        "        # -------------------------\n",
        "        table_size = (2 * self.cuboid_size[0] - 1) * (2 * self.cuboid_size[1] - 1) * (2 * self.cuboid_size[2] - 1)\n",
        "        self.relative_position_bias_table = self.add_weight(\n",
        "            name=\"relative_position_bias_table\",\n",
        "            shape=[table_size, num_heads],\n",
        "            initializer=tf.keras.initializers.TruncatedNormal(stddev=0.02),\n",
        "            trainable=True\n",
        "        )\n",
        "        # Precompute the relative position index for a cuboid.\n",
        "        coords_t = tf.range(self.cuboid_size[0])  # (bT,)\n",
        "        coords_h = tf.range(self.cuboid_size[1])  # (bH,)\n",
        "        coords_w = tf.range(self.cuboid_size[2])  # (bW,)\n",
        "        coords = tf.stack(tf.meshgrid(coords_t, coords_h, coords_w, indexing='ij'))  # (3, bT, bH, bW)\n",
        "        coords_flat = tf.reshape(coords, (3, -1))  # (3, cuboid_volume)\n",
        "        relative_coords = tf.expand_dims(coords_flat, axis=2) - tf.expand_dims(coords_flat, axis=1)\n",
        "        offset = tf.constant([self.cuboid_size[0]-1, self.cuboid_size[1]-1, self.cuboid_size[2]-1], dtype=tf.int32)\n",
        "        offset = tf.reshape(offset, (3,1,1))\n",
        "        relative_coords += offset\n",
        "        multiplier = tf.constant([(2*self.cuboid_size[1]-1) * (2*self.cuboid_size[2]-1),\n",
        "                                  (2*self.cuboid_size[2]-1),\n",
        "                                  1], dtype=tf.int32)\n",
        "        relative_coords = relative_coords * tf.reshape(multiplier, (3,1,1))\n",
        "        self.relative_position_index = tf.reduce_sum(relative_coords, axis=0)  # (cuboid_volume, cuboid_volume)\n",
        "\n",
        "        # -------------------------\n",
        "        # Local Branch\n",
        "        # -------------------------\n",
        "        self.q_proj = tf.keras.layers.Dense(dim, use_bias=self.qkv_bias, name=\"q_proj\")\n",
        "        self.kv_proj = tf.keras.layers.Dense(dim * 2, use_bias=self.qkv_bias, name=\"kv_proj\")\n",
        "\n",
        "        # Dropout layers and final projection for local branch.\n",
        "        self.attn_dropout = tf.keras.layers.Dropout(self.attn_dropout_rate)\n",
        "        self.proj = tf.keras.layers.Dense(dim, name=\"final_proj\")\n",
        "        self.proj_dropout = tf.keras.layers.Dropout(self.proj_dropout_rate)\n",
        "\n",
        "        # -------------------------\n",
        "        # Global Branch Projections\n",
        "        # -------------------------\n",
        "        # For local-to-global branch, project the query tokens\n",
        "        self.l2g_q_dense = tf.keras.layers.Dense(dim, use_bias=self.qkv_bias, name=\"l2g_q_dense\")\n",
        "        # Project global vectors (passed in) to keys and values.\n",
        "        self.l2g_global_kv_dense = tf.keras.layers.Dense(dim * 2, use_bias=self.qkv_bias, name=\"l2g_global_kv_dense\")\n",
        "        # Global-to-local branch: additional projection on query for combining with memory later.\n",
        "        self.g2l_q_dense = tf.keras.layers.Dense(dim, use_bias=self.qkv_bias, name=\"g2l_q_dense\")\n",
        "        self.g2l_k_dense = tf.keras.layers.Dense(dim, use_bias=self.qkv_bias, name=\"g2l_k_dense\")\n",
        "        self.g2l_v_dense = tf.keras.layers.Dense(dim, use_bias=self.qkv_bias, name=\"g2l_v_dense\")\n",
        "\n",
        "        self.g2g_global_qkv_dense = tf.keras.layers.Dense(dim * 3,\n",
        "                                                          use_bias=self.qkv_bias,\n",
        "                                                          name=\"g2g_global_qkv_dense\")\n",
        "\n",
        "    def call(self, x, memory, global_vectors, mask=None, training=False):\n",
        "        \"\"\"\n",
        "        x: Query tensor of shape (B, T, H, W, C) (e.g., from the decoder).\n",
        "        memory: Memory tensor of shape (B, T_mem, H, W, C) (e.g., from the encoder).\n",
        "        global_vectors: Global tokens tensor of shape (B, num_global, dim).\n",
        "        mask: Optional attention mask with shape (B, num_heads, num_cuboids, cuboid_volume, cuboid_volume_memory)\n",
        "        training: Boolean.\n",
        "\n",
        "        Returns:\n",
        "          final_out: Output tensor of shape (B, T, H, W, dim), after merging cuboid outputs.\n",
        "          updated_global: Updated global vector, shape (B, num_global, dim)\n",
        "        \"\"\"\n",
        "        B = tf.shape(x)[0]\n",
        "\n",
        "        decomposed_x = self.decompose(x)  # Shape: (B, num_cuboids, bT, bH, bW, C)\n",
        "        B, num_cuboids, bT, bH, bW, C = tf.unstack(tf.shape(decomposed_x))\n",
        "        cuboid_volume = bT * bH * bW\n",
        "        query_tokens = tf.reshape(decomposed_x, (B, num_cuboids, cuboid_volume, C))\n",
        "\n",
        "        decomposed_mem = self.decompose(memory)\n",
        "        B_mem, num_cuboids_mem, mbT, mbH, mbW, C_mem = tf.unstack(tf.shape(decomposed_mem))\n",
        "        mem_cuboid_volume = mbT * mbH * mbW\n",
        "        memory_tokens = tf.reshape(decomposed_mem, (B, num_cuboids_mem, mem_cuboid_volume, C_mem))\n",
        "\n",
        "        q = self.q_proj(query_tokens)  # (B, num_cuboids, cuboid_volume, dim)\n",
        "        kv = self.kv_proj(memory_tokens)  # (B, num_cuboids_mem, mem_cuboid_volume, 2*dim)\n",
        "        k, v = tf.split(kv, num_or_size_splits=2, axis=-1)  # each: (B, num_cuboids, mem_cuboid_volume, dim)\n",
        "        q = tf.reshape(q, (B, num_cuboids, cuboid_volume, self.num_heads, self.head_dim))\n",
        "        q = tf.transpose(q, perm=[0, 3, 1, 2, 4])  # (B, num_heads, num_cuboids, cuboid_volume, head_dim)\n",
        "        k = tf.reshape(k, (B, num_cuboids_mem, mem_cuboid_volume, self.num_heads, self.head_dim))\n",
        "        k = tf.transpose(k, perm=[0, 3, 1, 2, 4])  # (B, num_heads, num_cuboids, mem_cuboid_volume, head_dim)\n",
        "        v = tf.reshape(v, (B, num_cuboids_mem, mem_cuboid_volume, self.num_heads, self.head_dim))\n",
        "        v = tf.transpose(v, perm=[0, 3, 1, 2, 4])  # (B, num_heads, num_cuboids, mem_cuboid_volume, head_dim)\n",
        "        q = q * self.scale\n",
        "        attn_scores = tf.matmul(q, k, transpose_b=True)  # (B, num_heads, num_cuboids, cuboid_volume, mem_cuboid_volume)\n",
        "\n",
        "        rp_index = tf.reshape(self.relative_position_index, [-1])\n",
        "        rp_bias = tf.gather(self.relative_position_bias_table, rp_index)\n",
        "        rp_bias = tf.reshape(rp_bias, (cuboid_volume, cuboid_volume, self.num_heads))\n",
        "        rp_bias = tf.transpose(rp_bias, perm=[2, 0, 1])  # (num_heads, cuboid_volume, cuboid_volume)\n",
        "        rp_bias = tf.expand_dims(rp_bias, axis=0)  # (1, num_heads, cuboid_volume, cuboid_volume)\n",
        "        rp_bias = tf.expand_dims(rp_bias, axis=2)  # (1, num_heads, 1, cuboid_volume, cuboid_volume)\n",
        "        attn_scores = attn_scores + rp_bias\n",
        "\n",
        "        if mask is not None:\n",
        "            attn_scores += (1.0 - mask) * (-1e9)\n",
        "\n",
        "        attn_scores = tf.nn.softmax(attn_scores, axis=-1)\n",
        "        attn_scores = self.attn_dropout(attn_scores, training=training)\n",
        "        local_out = tf.matmul(attn_scores, v)  # (B, num_heads, num_cuboids, cuboid_volume, head_dim)\n",
        "        local_out = tf.transpose(local_out, perm=[0, 2, 3, 1, 4])  # (B, num_cuboids, cuboid_volume, num_heads, head_dim)\n",
        "        local_out = tf.reshape(local_out, (B, num_cuboids, cuboid_volume, self.dim))  # merge heads\n",
        "\n",
        "        l2g_q = self.l2g_q_dense(query_tokens)\n",
        "        l2g_q = tf.reshape(l2g_q, (B, num_cuboids, cuboid_volume, self.num_heads, self.head_dim))\n",
        "        l2g_q = tf.transpose(l2g_q, perm=[0, 3, 1, 2, 4])  # (B, num_heads, num_cuboids, cuboid_volume, head_dim)\n",
        "        l2g_q = l2g_q * self.scale\n",
        "        l2g_global_kv = self.l2g_global_kv_dense(global_vectors)  # (B, num_global, 2*dim)\n",
        "        l2g_global_k, l2g_global_v = tf.split(l2g_global_kv, num_or_size_splits=2, axis=-1)\n",
        "        l2g_global_k = tf.reshape(l2g_global_k, (B, -1, self.num_heads, self.head_dim))\n",
        "        l2g_global_k = tf.transpose(l2g_global_k, perm=[0, 2, 1, 3])  # (B, num_heads, num_global, head_dim)\n",
        "        l2g_global_k = tf.expand_dims(l2g_global_k, axis=2)\n",
        "        l2g_global_v = tf.reshape(l2g_global_v, (B, -1, self.num_heads, self.head_dim))\n",
        "        l2g_global_v = tf.transpose(l2g_global_v, perm=[0, 2, 1, 3])  # (B, num_heads, num_global, head_dim)\n",
        "        attn_l2g = tf.matmul(l2g_q, l2g_global_k, transpose_b=True)  # (B, num_heads, num_cuboids, cuboid_volume, num_global)\n",
        "        attn_combined = tf.concat([attn_scores, attn_l2g], axis=-1)  # new shape: (B, num_heads, num_cuboids, cuboid_volume, mem_length + num_global)\n",
        "\n",
        "        l2g_global_v_expanded = tf.expand_dims(l2g_global_v, axis=2)  # (B, num_heads, 1, num_global, head_dim)\n",
        "        l2g_global_v_expanded = tf.tile(l2g_global_v_expanded, [1, 1, num_cuboids, 1, 1])\n",
        "        v_combined = tf.concat([v, l2g_global_v_expanded], axis=3)\n",
        "        attn_combined = tf.nn.softmax(attn_combined, axis=-1)\n",
        "        attn_combined = self.attn_dropout(attn_combined, training=training)\n",
        "        global_out = tf.matmul(attn_combined, v_combined)  # (B, num_heads, num_cuboids, cuboid_volume, head_dim)\n",
        "        global_out = tf.transpose(global_out, perm=[0, 2, 3, 1, 4])\n",
        "        global_out = tf.reshape(global_out, (B, num_cuboids, cuboid_volume, self.dim))\n",
        "\n",
        "        fused = tf.concat([local_out, global_out], axis=-1)  # (B, num_cuboids, cuboid_volume, 2*dim)\n",
        "        fused = self.proj(fused)  # (B, num_cuboids, cuboid_volume, dim)\n",
        "        fused = self.proj_dropout(fused, training=training)\n",
        "\n",
        "        final_out = tf.reshape(fused, (B, num_cuboids, bT, bH, bW, self.dim))\n",
        "        final_out = self.merge(final_out)  # (B, T, H, W, dim)\n",
        "\n",
        "        updated_global = global_vectors\n",
        "        return final_out, updated_global\n",
        "\n",
        "    def compute_output_shape(self, input_shape):\n",
        "        # For cross-attention, assume inputs (x, memory, global_vectors)\n",
        "        # x has shape (B, T, H, W, C) so output shape will be (B, T, H, W, dim)\n",
        "        # Global vector output remains (B, num_global, dim)\n",
        "        if isinstance(input_shape, (list, tuple)):\n",
        "            B = input_shape[0][0]\n",
        "        else:\n",
        "            B = input_shape[0]\n",
        "        return ((B, ) + self.original_shape + (self.dim, ), (B, None, self.dim))\n",
        "\n",
        "    def build(self, input_shape):\n",
        "        super().build(input_shape)"
      ]
    },
    {
      "cell_type": "code",
      "execution_count": 24,
      "id": "7211ba1a-0885-4e5b-9e71-554f34386f3a",
      "metadata": {
        "id": "7211ba1a-0885-4e5b-9e71-554f34386f3a"
      },
      "outputs": [],
      "source": [
        "class ForecastingEncoder(tf.keras.layers.Layer):\n",
        "    def __init__(self, T, H, W, encoder_embed_dim=64, num_heads=4, num_global=8, **kwargs):\n",
        "        \"\"\"\n",
        "        Parameters:\n",
        "        - T, H, W: Input temporal and spatial dimensions.\n",
        "        - encoder_embed_dim: Dimension for the initial embedding.\n",
        "        - num_heads: Number of attention heads.\n",
        "        - num_global: Number of global tokens.\n",
        "        \"\"\"\n",
        "        super(ForecastingEncoder, self).__init__(**kwargs)\n",
        "        self.T_in = T\n",
        "        self.H = H\n",
        "        self.W = W\n",
        "        self.encoder_embed_dim = encoder_embed_dim\n",
        "        self.num_heads = num_heads\n",
        "        self.num_global = num_global\n",
        "\n",
        "        # Initial Embedding\n",
        "        self.embedding_conv = tf.keras.layers.Conv3D(\n",
        "            filters=self.encoder_embed_dim,\n",
        "            kernel_size=3,\n",
        "            padding='same',\n",
        "            activation=tf.nn.gelu,\n",
        "            name=\"encoder_embedding_conv\"\n",
        "        )\n",
        "\n",
        "        # Create a learnable global vector.\n",
        "        self.global_vector = self.add_weight(\n",
        "            shape=(1, self.num_global, self.encoder_embed_dim),\n",
        "            initializer=tf.keras.initializers.TruncatedNormal(stddev=0.02),\n",
        "            trainable=True,\n",
        "            name=\"global_vector\"\n",
        "        )\n",
        "\n",
        "        self.stage1_attn_T = CuboidSelfAttentionLayer(\n",
        "            dim=self.encoder_embed_dim,\n",
        "            num_heads=self.num_heads,\n",
        "            original_shape=(T, H, W),\n",
        "            cuboid_size=(T, 1, 1),\n",
        "            name=\"stage1_attn_T\"\n",
        "        )\n",
        "        self.stage1_attn_H = CuboidSelfAttentionLayer(\n",
        "            dim=self.encoder_embed_dim,\n",
        "            num_heads=self.num_heads,\n",
        "            original_shape=(T, H, W),\n",
        "            cuboid_size=(1, H, 1),\n",
        "            name=\"stage1_attn_H\"\n",
        "        )\n",
        "        self.stage1_attn_W = CuboidSelfAttentionLayer(\n",
        "            dim=self.encoder_embed_dim,\n",
        "            num_heads=self.num_heads,\n",
        "            original_shape=(T, H, W),\n",
        "            cuboid_size=(1, 1, W),\n",
        "            name=\"stage1_attn_W\"\n",
        "        )\n",
        "\n",
        "        self.stage1_down = tf.keras.layers.Conv3D(\n",
        "            filters=self.encoder_embed_dim * 2,\n",
        "            kernel_size=3,\n",
        "            strides=(1, 2, 2),\n",
        "            padding='same',\n",
        "            activation=tf.nn.gelu,\n",
        "            name=\"stage1_downsample\"\n",
        "        )\n",
        "\n",
        "        self.stage2_attn_T = CuboidSelfAttentionLayer(\n",
        "            dim=self.encoder_embed_dim * 2,\n",
        "            num_heads=self.num_heads,\n",
        "            original_shape=(T, H // 2, W // 2),\n",
        "            cuboid_size=(T, 1, 1),\n",
        "            name=\"stage2_attn_T\"\n",
        "        )\n",
        "        self.stage2_attn_H = CuboidSelfAttentionLayer(\n",
        "            dim=self.encoder_embed_dim * 2,\n",
        "            num_heads=self.num_heads,\n",
        "            original_shape=(T, H // 2, W // 2),\n",
        "            cuboid_size=(1, H // 2, 1),\n",
        "            name=\"stage2_attn_H\"\n",
        "        )\n",
        "        self.stage2_attn_W = CuboidSelfAttentionLayer(\n",
        "            dim=self.encoder_embed_dim * 2,\n",
        "            num_heads=self.num_heads,\n",
        "            original_shape=(T, H // 2, W // 2),\n",
        "            cuboid_size=(1, 1, W // 2),\n",
        "            name=\"stage2_attn_W\"\n",
        "        )\n",
        "\n",
        "        # Downsampling after stage 2: further reduce spatial resolution and double channels.\n",
        "        self.stage2_down = tf.keras.layers.Conv3D(\n",
        "            filters=self.encoder_embed_dim * 4,\n",
        "            kernel_size=3,\n",
        "            strides=(1, 2, 2),\n",
        "            padding='same',\n",
        "            activation=tf.nn.gelu,\n",
        "            name=\"stage2_downsample\"\n",
        "        )\n",
        "\n",
        "        # Final global projection and normalization:\n",
        "        self.global_proj = tf.keras.layers.Dense(\n",
        "            self.encoder_embed_dim * 4,\n",
        "            activation=None,\n",
        "            name=\"global_proj\"\n",
        "        )\n",
        "        self.global_norm = tf.keras.layers.LayerNormalization(name=\"global_norm\")\n",
        "\n",
        "    def call(self, inputs, training=False):\n",
        "        x = self.embedding_conv(inputs)  # (B, T, H, W, encoder_embed_dim)\n",
        "        B = tf.shape(x)[0]\n",
        "        g = tf.tile(self.global_vector, [B, 1, 1])  # (B, num_global, encoder_embed_dim)\n",
        "\n",
        "        x, g = self.stage1_attn_T(x, g, training=training)\n",
        "        x, g = self.stage1_attn_H(x, g, training=training)\n",
        "        x, g = self.stage1_attn_W(x, g, training=training)\n",
        "        x = self.stage1_down(x)  # (B, T, H//2, W//2, encoder_embed_dim*4)\n",
        "\n",
        "        x, g = self.stage2_attn_T(x, g, training=training)\n",
        "        x, g = self.stage2_attn_H(x, g, training=training)\n",
        "        x, g = self.stage2_attn_W(x, g, training=training)\n",
        "        x = self.stage2_down(x)  # (B, T, H//2, W//2, encoder_embed_dim*4)\n",
        "\n",
        "        g = self.global_proj(g)\n",
        "        g = self.global_norm(g)\n",
        "\n",
        "        return x, g\n",
        "\n",
        "    def compute_output_shape(self, input_shape):\n",
        "        B = input_shape[0]\n",
        "        out_x_shape = (B, self.T_in, self.H // 2, self.W // 2, self.encoder_embed_dim * 4)\n",
        "        out_g_shape = (B, self.num_global, self.encoder_embed_dim * 4)\n",
        "        return (out_x_shape, out_g_shape)\n",
        "\n",
        "    def build(self, input_shape):\n",
        "        self.embedding_conv.build(input_shape)\n",
        "        embedded_shape = self.embedding_conv.compute_output_shape(input_shape)\n",
        "\n",
        "        self.stage1_attn_T.build(embedded_shape)\n",
        "        self.stage1_attn_H.build(embedded_shape)\n",
        "        self.stage1_attn_W.build(embedded_shape)\n",
        "        # Downsample Stage 1 changes shape.\n",
        "        stage1_down_shape = self.stage1_down.compute_output_shape(embedded_shape)\n",
        "\n",
        "        self.stage2_attn_T.build(stage1_down_shape)\n",
        "        self.stage2_attn_H.build(stage1_down_shape)\n",
        "        self.stage2_attn_W.build(stage1_down_shape)\n",
        "        stage2_down_shape = self.stage2_down.compute_output_shape(stage1_down_shape)\n",
        "\n",
        "        super(ForecastingEncoder, self).build(input_shape)"
      ]
    },
    {
      "cell_type": "code",
      "execution_count": 25,
      "id": "8b494ccd-408e-42a8-9c5a-63ec9094766d",
      "metadata": {
        "id": "8b494ccd-408e-42a8-9c5a-63ec9094766d"
      },
      "outputs": [],
      "source": [
        "class ForecastingDecoder(tf.keras.layers.Layer):\n",
        "    def __init__(self, T, H, W, decoder_embed_dim=64, num_heads=4, num_global=8, **kwargs):\n",
        "        \"\"\"\n",
        "        Parameters:\n",
        "          - T, H, W: The temporal and spatial dimensions of the decoder input.\n",
        "          - decoder_embed_dim: The embedding dimension for the decoder.\n",
        "          - num_heads: Number of attention heads.\n",
        "          - num_global: Number of global tokens.\n",
        "        \"\"\"\n",
        "        super(ForecastingDecoder, self).__init__(**kwargs)\n",
        "        self.T = T\n",
        "        self.H = H\n",
        "        self.W = W\n",
        "        self.decoder_embed_dim = decoder_embed_dim\n",
        "        self.num_heads = num_heads\n",
        "        self.num_global = num_global\n",
        "\n",
        "        # Initial decoder embedding.\n",
        "        self.embedding_conv = tf.keras.layers.Conv3D(\n",
        "            filters=self.decoder_embed_dim,\n",
        "            kernel_size=3,\n",
        "            padding='same',\n",
        "            activation=tf.nn.gelu,\n",
        "            name=\"decoder_embedding_conv\"\n",
        "        )\n",
        "\n",
        "        # Final projection for the global vector.\n",
        "        self.global_proj = tf.keras.layers.Dense(\n",
        "            self.decoder_embed_dim,\n",
        "            activation=None,\n",
        "            name=\"decoder_global_proj\"\n",
        "        )\n",
        "        self.global_norm = tf.keras.layers.LayerNormalization(name=\"decoder_global_norm\")\n",
        "\n",
        "        # Downsample to the embedding dimension\n",
        "        self.downsample = tf.keras.layers.Conv3D(\n",
        "            filters=self.decoder_embed_dim,\n",
        "            kernel_size=3,\n",
        "            strides=(1, 4, 4),  # downsample H and W by a factor of 4\n",
        "            padding='same',\n",
        "            activation=tf.nn.gelu,\n",
        "            name=\"decoder_downsample\"\n",
        "        )\n",
        "\n",
        "        # Stage 1: 3 masked self-attention blocks\n",
        "        self.self_attn_T = CuboidSelfAttentionLayer(\n",
        "            dim=self.decoder_embed_dim,\n",
        "            num_heads=self.num_heads,\n",
        "            original_shape=(T, H // 4, W // 4),\n",
        "            cuboid_size=(T, 1, 1),\n",
        "            name=\"decoder_self_attn_T\"\n",
        "        )\n",
        "        self.self_attn_H = CuboidSelfAttentionLayer(\n",
        "            dim=self.decoder_embed_dim,\n",
        "            num_heads=self.num_heads,\n",
        "            original_shape=(T, H // 4, W // 4),\n",
        "            cuboid_size=(1, H // 4, 1),\n",
        "            name=\"decoder_self_attn_H\"\n",
        "        )\n",
        "        self.self_attn_W = CuboidSelfAttentionLayer(\n",
        "            dim=self.decoder_embed_dim,\n",
        "            num_heads=self.num_heads,\n",
        "            original_shape=(T, H // 4, W // 4),\n",
        "            cuboid_size=(1, 1, W // 4),\n",
        "            name=\"decoder_self_attn_W\"\n",
        "        )\n",
        "\n",
        "        # Stage 2: 3 axial cross-attention blocks\n",
        "        self.stage1_cross_T = CuboidCrossAttentionLayer(\n",
        "            dim=self.decoder_embed_dim * 2,\n",
        "            num_heads=self.num_heads,\n",
        "            original_shape=(T, H // 4, W // 4),\n",
        "            cuboid_size=(T, 1, 1),\n",
        "            name=\"stage1_cross_T\"\n",
        "        )\n",
        "        self.stage1_cross_H = CuboidCrossAttentionLayer(\n",
        "            dim=self.decoder_embed_dim * 2,\n",
        "            num_heads=self.num_heads,\n",
        "            original_shape=(T, H // 4, W // 4),\n",
        "            cuboid_size=(1, H // 4, 1),\n",
        "            name=\"stage1_cross_H\"\n",
        "        )\n",
        "        self.stage1_cross_W = CuboidCrossAttentionLayer(\n",
        "            dim=self.decoder_embed_dim * 2,\n",
        "            num_heads=self.num_heads,\n",
        "            original_shape=(T, H // 4, W // 4),\n",
        "            cuboid_size=(1, 1, W // 4),\n",
        "            name=\"stage1_cross_W\"\n",
        "        )\n",
        "\n",
        "        # Stage 3: 3 axial cross-attention blocks\n",
        "        self.stage2_cross_T = CuboidCrossAttentionLayer(\n",
        "            dim=self.decoder_embed_dim * 4,\n",
        "            num_heads=self.num_heads,\n",
        "            original_shape=(T, H // 4, W // 4),\n",
        "            cuboid_size=(T, 1, 1),\n",
        "            name=\"stage2_cross_T\"\n",
        "        )\n",
        "        self.stage2_cross_H = CuboidCrossAttentionLayer(\n",
        "            dim=self.decoder_embed_dim * 4,\n",
        "            num_heads=self.num_heads,\n",
        "            original_shape=(T, H // 4, W // 4),\n",
        "            cuboid_size=(1, H // 4, 1),\n",
        "            name=\"stage2_cross_H\"\n",
        "        )\n",
        "        self.stage2_cross_W = CuboidCrossAttentionLayer(\n",
        "            dim=self.decoder_embed_dim * 4,\n",
        "            num_heads=self.num_heads,\n",
        "            original_shape=(T, H // 4, W // 4),\n",
        "            cuboid_size=(1, 1, W // 4),\n",
        "            name=\"stage2_cross_W\"\n",
        "        )\n",
        "\n",
        "    def create_causal_mask(self, x):\n",
        "        \"\"\"\n",
        "        Creates a causal (lower-triangular) mask along the temporal axis.\n",
        "        x: Tensor of shape (B, T, H, W, C)\n",
        "        Returns: A mask tensor that can be broadcast to the attention scores.\n",
        "        \"\"\"\n",
        "        T = tf.shape(x)[1]\n",
        "        mask = tf.linalg.band_part(tf.ones((T, T)), -1, 0) # Create a (T, T) lower triangular matrix.\n",
        "        mask = tf.expand_dims(tf.expand_dims(mask, axis=0), axis=0)  # shape: (1, 1, T, T)\n",
        "        return mask\n",
        "\n",
        "    def call(self, inputs, memory, memory_global, training=False):\n",
        "        \"\"\"\n",
        "        Parameters:\n",
        "          - inputs: Decoder input tensor, shape: (B, T, H, W, C_in).\n",
        "          - memory: Encoder memory features tensor, shape: (B, T, H // 4, W // 4, C_in).\n",
        "          - memory_global: Global vector from the encoder, shape: (B, num_global, encoder_embed_dim).\n",
        "        Returns:\n",
        "          - Decoded features and updated global vector.\n",
        "        \"\"\"\n",
        "        # Initial embedding for the decoder:\n",
        "        x = self.embedding_conv(inputs)  # shape: (B, T, H, W, decoder_embed_dim)\n",
        "        x = self.downsample(x) # shape: (B, T, H // 4, W // 4, decoder_embed_dim)\n",
        "\n",
        "        g = memory_global\n",
        "\n",
        "        # Stage 1 masked self-attention blocks\n",
        "        causal_mask = self.create_causal_mask(x)\n",
        "        x, g = self.self_attn_T(x, g, mask=causal_mask, training=training)\n",
        "        x, g = self.self_attn_H(x, g, training=training)\n",
        "        x, g = self.self_attn_W(x, g, training=training)\n",
        "\n",
        "        # Stage 2 cross-attention blocks\n",
        "        x, g = self.stage1_cross_T(x, memory, g, training=training)\n",
        "        x, g = self.stage1_cross_H(x, memory, g, training=training)\n",
        "        x, g = self.stage1_cross_W(x, memory, g, training=training)\n",
        "\n",
        "        # Stage 3 cross-attention blocks\n",
        "        x, g = self.stage2_cross_T(x, memory, g, training=training)\n",
        "        x, g = self.stage2_cross_H(x, memory, g, training=training)\n",
        "        x, g = self.stage2_cross_W(x, memory, g, training=training)\n",
        "\n",
        "        # Final global vector processing: project and normalize.\n",
        "        g = self.global_proj(g)\n",
        "        g = self.global_norm(g)\n",
        "\n",
        "        return x, g\n",
        "\n",
        "    def compute_output_shape(self, input_shape):\n",
        "        B = input_shape[0]\n",
        "        out_x_shape = (B, self.T, self.H // 4, self.W // 4, self.decoder_embed_dim * 2)\n",
        "        out_g_shape = (B, self.num_global, self.decoder_embed_dim)\n",
        "        return (out_x_shape, out_g_shape)\n",
        "\n",
        "    def build(self, input_shape):\n",
        "        self.embedding_conv.build(input_shape)\n",
        "        emb_shape = self.embedding_conv.compute_output_shape(input_shape)\n",
        "\n",
        "        self.downsample.build(emb_shape)\n",
        "        down_shape = self.downsample.compute_output_shape(emb_shape)\n",
        "\n",
        "        self.self_attn_T.build(down_shape)\n",
        "        self.self_attn_H.build(down_shape)\n",
        "        self.self_attn_W.build(down_shape)\n",
        "\n",
        "        self.stage1_cross_T.build(down_shape)\n",
        "        self.stage1_cross_H.build(down_shape)\n",
        "        self.stage1_cross_W.build(down_shape)\n",
        "\n",
        "        self.stage2_cross_T.build(down_shape)\n",
        "        self.stage2_cross_H.build(down_shape)\n",
        "        self.stage2_cross_W.build(down_shape)\n",
        "\n",
        "        global_shape = (input_shape[0], self.num_global, self.decoder_embed_dim)\n",
        "        self.global_proj.build(global_shape)\n",
        "        self.global_norm.build(global_shape)\n",
        "\n",
        "        super(ForecastingDecoder, self).build(input_shape)"
      ]
    },
    {
      "cell_type": "code",
      "execution_count": 26,
      "id": "73aee89d-10ea-430f-840b-34e951429508",
      "metadata": {
        "id": "73aee89d-10ea-430f-840b-34e951429508"
      },
      "outputs": [],
      "source": [
        "class ForecastingModel(tf.keras.Model):\n",
        "    def __init__(self,\n",
        "                 T,\n",
        "                 H,\n",
        "                 W,\n",
        "                 C,\n",
        "                 encoder_embed_dim=32,\n",
        "                 decoder_embed_dim=32,\n",
        "                 num_heads=16,\n",
        "                 num_global=16,\n",
        "                 **kwargs):\n",
        "        \"\"\"\n",
        "        Forecasting model that integrates the encoder and decoder.\n",
        "        The encoder produces a local memory (feature map) and global tokens.\n",
        "        The decoder receives its input along with these and performs cross-attention\n",
        "        Finally, the global vector is projected to the decoder output dimension and concatonated for prediction.\n",
        "        \"\"\"\n",
        "\n",
        "        self.T = T\n",
        "        self.H = H\n",
        "        self.W = W\n",
        "        self.C = C\n",
        "        self.num_global = num_global\n",
        "        self.decoder_embed_dim = decoder_embed_dim\n",
        "\n",
        "        super(ForecastingModel, self).__init__(**kwargs)\n",
        "\n",
        "        self.encoder = ForecastingEncoder(\n",
        "            T, H, W,\n",
        "            encoder_embed_dim=encoder_embed_dim,\n",
        "            num_heads=num_heads,\n",
        "            num_global=num_global\n",
        "        )\n",
        "\n",
        "        self.decoder = ForecastingDecoder(\n",
        "            T, H, W,\n",
        "            decoder_embed_dim=decoder_embed_dim,\n",
        "            num_heads=num_heads,\n",
        "            num_global=num_global\n",
        "        )\n",
        "\n",
        "        self.prediction_conv = tf.keras.layers.Conv3D(\n",
        "            filters=C,\n",
        "            kernel_size=(1, 1, 1),\n",
        "            activation=None\n",
        "        )\n",
        "\n",
        "        self.global_projection = tf.keras.layers.Dense(units=C, activation='relu')\n",
        "        self.upsample = tf.keras.layers.UpSampling3D(size=(1, 4, 4))\n",
        "\n",
        "    def call(self, inputs, training=False):\n",
        "        memory, global_vectors = self.encoder(inputs, training=training)\n",
        "        decoder_output, updated_global = self.decoder(inputs, memory, global_vectors, training=training)\n",
        "\n",
        "        flattened_global = tf.reshape(updated_global, [tf.shape(global_vectors)[0], -1])\n",
        "        projected_global = self.global_projection(flattened_global) # shape: (batch_size, C)\n",
        "        global_context = tf.reshape(projected_global, [tf.shape(projected_global)[0], 1, 1, 1, tf.shape(projected_global)[1]])\n",
        "\n",
        "        T, H, W = tf.shape(decoder_output)[1], tf.shape(decoder_output)[2], tf.shape(decoder_output)[3]\n",
        "        global_context_tiled = tf.tile(global_context, [1, T, H, W, 1])  # shape: (batch_size, T, H, W, C)\n",
        "\n",
        "        combined_features = tf.concat([decoder_output, global_context_tiled], axis=-1)\n",
        "        predictions = self.prediction_conv(combined_features)\n",
        "\n",
        "        predictions = self.upsample(predictions)\n",
        "\n",
        "        return predictions\n",
        "\n",
        "    def build(self, input_shape):\n",
        "        \"\"\"\n",
        "        Build the model given the input shape.\n",
        "        \"\"\"\n",
        "        self.encoder.build(input_shape)\n",
        "        self.decoder.build(input_shape)\n",
        "\n",
        "        batch_size = input_shape[0]\n",
        "        out_H = self.H // 4\n",
        "        out_W = self.W // 4\n",
        "\n",
        "        decoder_channels = self.decoder.decoder_embed_dim * 4\n",
        "        pred_input_shape = (batch_size, self.T, out_H, out_W, decoder_channels + self.C)\n",
        "        self.prediction_conv.build(pred_input_shape)\n",
        "\n",
        "        flattened_dim = self.decoder.num_global * self.decoder.decoder_embed_dim\n",
        "        self.global_projection.build((batch_size, flattened_dim))\n",
        "\n",
        "        upsample_input_shape = (batch_size, self.T, out_H, out_W, self.C)\n",
        "        self.upsample.build(upsample_input_shape)\n",
        "\n",
        "        super(ForecastingModel, self).build(input_shape)"
      ]
    },
    {
      "cell_type": "markdown",
      "id": "1253662a-b325-444a-8723-070f813f70e1",
      "metadata": {
        "id": "1253662a-b325-444a-8723-070f813f70e1"
      },
      "source": [
        "# Train the Model"
      ]
    },
    {
      "cell_type": "code",
      "execution_count": 103,
      "id": "a78b57c2-0774-4a80-8daf-6793e1820b1a",
      "metadata": {
        "id": "a78b57c2-0774-4a80-8daf-6793e1820b1a",
        "scrolled": true
      },
      "outputs": [],
      "source": [
        "model = ForecastingModel(\n",
        "    T=31, H=20, W=20, C=13,\n",
        "    encoder_embed_dim=32,\n",
        "    decoder_embed_dim=32,\n",
        "    num_heads=8,\n",
        "    num_global=16\n",
        ")\n",
        "model.build(input_shape=(None, 31, 20, 20, 13))"
      ]
    },
    {
      "cell_type": "code",
      "execution_count": 104,
      "id": "b2217377-1bdb-403b-afab-42dd94f6c332",
      "metadata": {
        "id": "b2217377-1bdb-403b-afab-42dd94f6c332"
      },
      "outputs": [],
      "source": [
        "batch_size = 1\n",
        "T, H, W, C = 31, 20, 20, 13\n",
        "dummy_input = np.random.rand(batch_size, T, H, W, C).astype(np.float32)"
      ]
    },
    {
      "cell_type": "code",
      "execution_count": 105,
      "id": "7789cb6f-2031-47d9-a210-567ff6352c63",
      "metadata": {
        "id": "7789cb6f-2031-47d9-a210-567ff6352c63"
      },
      "outputs": [],
      "source": [
        "_ = model(dummy_input)"
      ]
    },
    {
      "cell_type": "code",
      "execution_count": 106,
      "id": "SczB7d5Jee_A",
      "metadata": {
        "colab": {
          "base_uri": "https://localhost:8080/",
          "height": 321
        },
        "id": "SczB7d5Jee_A",
        "outputId": "7c4a81c1-10ed-4cdc-b599-75dfb580951e"
      },
      "outputs": [
        {
          "output_type": "display_data",
          "data": {
            "text/plain": [
              "\u001b[1mModel: \"forecasting_model_4\"\u001b[0m\n"
            ],
            "text/html": [
              "<pre style=\"white-space:pre;overflow-x:auto;line-height:normal;font-family:Menlo,'DejaVu Sans Mono',consolas,'Courier New',monospace\"><span style=\"font-weight: bold\">Model: \"forecasting_model_4\"</span>\n",
              "</pre>\n"
            ]
          },
          "metadata": {}
        },
        {
          "output_type": "display_data",
          "data": {
            "text/plain": [
              "┏━━━━━━━━━━━━━━━━━━━━━━━━━━━━━━━━━┳━━━━━━━━━━━━━━━━━━━━━━━━┳━━━━━━━━━━━━━━━┓\n",
              "┃\u001b[1m \u001b[0m\u001b[1mLayer (type)                   \u001b[0m\u001b[1m \u001b[0m┃\u001b[1m \u001b[0m\u001b[1mOutput Shape          \u001b[0m\u001b[1m \u001b[0m┃\u001b[1m \u001b[0m\u001b[1m      Param #\u001b[0m\u001b[1m \u001b[0m┃\n",
              "┡━━━━━━━━━━━━━━━━━━━━━━━━━━━━━━━━━╇━━━━━━━━━━━━━━━━━━━━━━━━╇━━━━━━━━━━━━━━━┩\n",
              "│ forecasting_encoder_4           │ ((\u001b[38;5;45mNone\u001b[0m, \u001b[38;5;34m31\u001b[0m, \u001b[38;5;34m10\u001b[0m, \u001b[38;5;34m10\u001b[0m,    │       \u001b[38;5;34m476,176\u001b[0m │\n",
              "│ (\u001b[38;5;33mForecastingEncoder\u001b[0m)            │ \u001b[38;5;34m128\u001b[0m), (\u001b[38;5;45mNone\u001b[0m, \u001b[38;5;34m16\u001b[0m, \u001b[38;5;34m128\u001b[0m)) │               │\n",
              "├─────────────────────────────────┼────────────────────────┼───────────────┤\n",
              "│ forecasting_decoder_4           │ ((\u001b[38;5;45mNone\u001b[0m, \u001b[38;5;34m31\u001b[0m, \u001b[38;5;34m5\u001b[0m, \u001b[38;5;34m5\u001b[0m, \u001b[38;5;34m64\u001b[0m), │       \u001b[38;5;34m508,872\u001b[0m │\n",
              "│ (\u001b[38;5;33mForecastingDecoder\u001b[0m)            │ (\u001b[38;5;45mNone\u001b[0m, \u001b[38;5;34m16\u001b[0m, \u001b[38;5;34m32\u001b[0m))        │               │\n",
              "├─────────────────────────────────┼────────────────────────┼───────────────┤\n",
              "│ conv3d_4 (\u001b[38;5;33mConv3D\u001b[0m)               │ (\u001b[38;5;45mNone\u001b[0m, \u001b[38;5;34m31\u001b[0m, \u001b[38;5;34m5\u001b[0m, \u001b[38;5;34m5\u001b[0m, \u001b[38;5;34m13\u001b[0m)   │         \u001b[38;5;34m1,846\u001b[0m │\n",
              "├─────────────────────────────────┼────────────────────────┼───────────────┤\n",
              "│ dense_409 (\u001b[38;5;33mDense\u001b[0m)               │ (\u001b[38;5;45mNone\u001b[0m, \u001b[38;5;34m13\u001b[0m)             │         \u001b[38;5;34m6,669\u001b[0m │\n",
              "├─────────────────────────────────┼────────────────────────┼───────────────┤\n",
              "│ up_sampling3d_4 (\u001b[38;5;33mUpSampling3D\u001b[0m)  │ (\u001b[38;5;45mNone\u001b[0m, \u001b[38;5;34m31\u001b[0m, \u001b[38;5;34m20\u001b[0m, \u001b[38;5;34m20\u001b[0m, \u001b[38;5;34m13\u001b[0m) │             \u001b[38;5;34m0\u001b[0m │\n",
              "└─────────────────────────────────┴────────────────────────┴───────────────┘\n"
            ],
            "text/html": [
              "<pre style=\"white-space:pre;overflow-x:auto;line-height:normal;font-family:Menlo,'DejaVu Sans Mono',consolas,'Courier New',monospace\">┏━━━━━━━━━━━━━━━━━━━━━━━━━━━━━━━━━┳━━━━━━━━━━━━━━━━━━━━━━━━┳━━━━━━━━━━━━━━━┓\n",
              "┃<span style=\"font-weight: bold\"> Layer (type)                    </span>┃<span style=\"font-weight: bold\"> Output Shape           </span>┃<span style=\"font-weight: bold\">       Param # </span>┃\n",
              "┡━━━━━━━━━━━━━━━━━━━━━━━━━━━━━━━━━╇━━━━━━━━━━━━━━━━━━━━━━━━╇━━━━━━━━━━━━━━━┩\n",
              "│ forecasting_encoder_4           │ ((<span style=\"color: #00d7ff; text-decoration-color: #00d7ff\">None</span>, <span style=\"color: #00af00; text-decoration-color: #00af00\">31</span>, <span style=\"color: #00af00; text-decoration-color: #00af00\">10</span>, <span style=\"color: #00af00; text-decoration-color: #00af00\">10</span>,    │       <span style=\"color: #00af00; text-decoration-color: #00af00\">476,176</span> │\n",
              "│ (<span style=\"color: #0087ff; text-decoration-color: #0087ff\">ForecastingEncoder</span>)            │ <span style=\"color: #00af00; text-decoration-color: #00af00\">128</span>), (<span style=\"color: #00d7ff; text-decoration-color: #00d7ff\">None</span>, <span style=\"color: #00af00; text-decoration-color: #00af00\">16</span>, <span style=\"color: #00af00; text-decoration-color: #00af00\">128</span>)) │               │\n",
              "├─────────────────────────────────┼────────────────────────┼───────────────┤\n",
              "│ forecasting_decoder_4           │ ((<span style=\"color: #00d7ff; text-decoration-color: #00d7ff\">None</span>, <span style=\"color: #00af00; text-decoration-color: #00af00\">31</span>, <span style=\"color: #00af00; text-decoration-color: #00af00\">5</span>, <span style=\"color: #00af00; text-decoration-color: #00af00\">5</span>, <span style=\"color: #00af00; text-decoration-color: #00af00\">64</span>), │       <span style=\"color: #00af00; text-decoration-color: #00af00\">508,872</span> │\n",
              "│ (<span style=\"color: #0087ff; text-decoration-color: #0087ff\">ForecastingDecoder</span>)            │ (<span style=\"color: #00d7ff; text-decoration-color: #00d7ff\">None</span>, <span style=\"color: #00af00; text-decoration-color: #00af00\">16</span>, <span style=\"color: #00af00; text-decoration-color: #00af00\">32</span>))        │               │\n",
              "├─────────────────────────────────┼────────────────────────┼───────────────┤\n",
              "│ conv3d_4 (<span style=\"color: #0087ff; text-decoration-color: #0087ff\">Conv3D</span>)               │ (<span style=\"color: #00d7ff; text-decoration-color: #00d7ff\">None</span>, <span style=\"color: #00af00; text-decoration-color: #00af00\">31</span>, <span style=\"color: #00af00; text-decoration-color: #00af00\">5</span>, <span style=\"color: #00af00; text-decoration-color: #00af00\">5</span>, <span style=\"color: #00af00; text-decoration-color: #00af00\">13</span>)   │         <span style=\"color: #00af00; text-decoration-color: #00af00\">1,846</span> │\n",
              "├─────────────────────────────────┼────────────────────────┼───────────────┤\n",
              "│ dense_409 (<span style=\"color: #0087ff; text-decoration-color: #0087ff\">Dense</span>)               │ (<span style=\"color: #00d7ff; text-decoration-color: #00d7ff\">None</span>, <span style=\"color: #00af00; text-decoration-color: #00af00\">13</span>)             │         <span style=\"color: #00af00; text-decoration-color: #00af00\">6,669</span> │\n",
              "├─────────────────────────────────┼────────────────────────┼───────────────┤\n",
              "│ up_sampling3d_4 (<span style=\"color: #0087ff; text-decoration-color: #0087ff\">UpSampling3D</span>)  │ (<span style=\"color: #00d7ff; text-decoration-color: #00d7ff\">None</span>, <span style=\"color: #00af00; text-decoration-color: #00af00\">31</span>, <span style=\"color: #00af00; text-decoration-color: #00af00\">20</span>, <span style=\"color: #00af00; text-decoration-color: #00af00\">20</span>, <span style=\"color: #00af00; text-decoration-color: #00af00\">13</span>) │             <span style=\"color: #00af00; text-decoration-color: #00af00\">0</span> │\n",
              "└─────────────────────────────────┴────────────────────────┴───────────────┘\n",
              "</pre>\n"
            ]
          },
          "metadata": {}
        },
        {
          "output_type": "display_data",
          "data": {
            "text/plain": [
              "\u001b[1m Total params: \u001b[0m\u001b[38;5;34m993,563\u001b[0m (3.79 MB)\n"
            ],
            "text/html": [
              "<pre style=\"white-space:pre;overflow-x:auto;line-height:normal;font-family:Menlo,'DejaVu Sans Mono',consolas,'Courier New',monospace\"><span style=\"font-weight: bold\"> Total params: </span><span style=\"color: #00af00; text-decoration-color: #00af00\">993,563</span> (3.79 MB)\n",
              "</pre>\n"
            ]
          },
          "metadata": {}
        },
        {
          "output_type": "display_data",
          "data": {
            "text/plain": [
              "\u001b[1m Trainable params: \u001b[0m\u001b[38;5;34m993,563\u001b[0m (3.79 MB)\n"
            ],
            "text/html": [
              "<pre style=\"white-space:pre;overflow-x:auto;line-height:normal;font-family:Menlo,'DejaVu Sans Mono',consolas,'Courier New',monospace\"><span style=\"font-weight: bold\"> Trainable params: </span><span style=\"color: #00af00; text-decoration-color: #00af00\">993,563</span> (3.79 MB)\n",
              "</pre>\n"
            ]
          },
          "metadata": {}
        },
        {
          "output_type": "display_data",
          "data": {
            "text/plain": [
              "\u001b[1m Non-trainable params: \u001b[0m\u001b[38;5;34m0\u001b[0m (0.00 B)\n"
            ],
            "text/html": [
              "<pre style=\"white-space:pre;overflow-x:auto;line-height:normal;font-family:Menlo,'DejaVu Sans Mono',consolas,'Courier New',monospace\"><span style=\"font-weight: bold\"> Non-trainable params: </span><span style=\"color: #00af00; text-decoration-color: #00af00\">0</span> (0.00 B)\n",
              "</pre>\n"
            ]
          },
          "metadata": {}
        }
      ],
      "source": [
        "model.summary()"
      ]
    },
    {
      "cell_type": "code",
      "execution_count": 107,
      "id": "upkVnUxte2YS",
      "metadata": {
        "id": "upkVnUxte2YS"
      },
      "outputs": [],
      "source": [
        "N = normalized_train_X.shape[0]\n",
        "split_idx = int(N * 0.8)\n",
        "X_train, X_val = normalized_train_X[:split_idx], normalized_train_X[split_idx:]\n",
        "y_train, y_val = normalized_train_y[:split_idx], normalized_train_y[split_idx:]"
      ]
    },
    {
      "cell_type": "code",
      "source": [
        "def masked_mae(mask_value=-9999.0, epsilon=1e-8):\n",
        "    \"\"\"\n",
        "    Returns a loss function that computes MAE only over entries where y_true != mask_value.\n",
        "\n",
        "    Args:\n",
        "      mask_value: float scalar indicating the value to mask out in y_true.\n",
        "      epsilon: small float to avoid division by zero when all entries are masked.\n",
        "\n",
        "    Returns:\n",
        "      A callable loss(y_true, y_pred) -> scalar loss.\n",
        "    \"\"\"\n",
        "    def loss(y_true, y_pred):\n",
        "        # Create mask of valid (non-masked) entries: shape (B, 31, 20, 20, 13)\n",
        "        mask = tf.not_equal(y_true, mask_value)\n",
        "        mask = tf.cast(mask, tf.float32)\n",
        "\n",
        "        # Compute absolute error and apply mask\n",
        "        abs_error = tf.abs(y_true - y_pred) * mask\n",
        "\n",
        "        # Sum errors and count valid entries\n",
        "        total_error = tf.reduce_sum(abs_error)\n",
        "        valid_count = tf.reduce_sum(mask)\n",
        "\n",
        "        # Return mean over valid entries\n",
        "        return total_error / (valid_count + epsilon)\n",
        "\n",
        "    return loss"
      ],
      "metadata": {
        "id": "mxv6ipMXHnWm"
      },
      "id": "mxv6ipMXHnWm",
      "execution_count": 108,
      "outputs": []
    },
    {
      "cell_type": "code",
      "source": [
        "def masked_mse(mask_value=-9999.0, epsilon=1e-8):\n",
        "    \"\"\"\n",
        "    Returns a loss function that computes MSE only over entries where y_true != mask_value.\n",
        "\n",
        "    Args:\n",
        "      mask_value: float scalar indicating the value to mask out in y_true.\n",
        "      epsilon: small float to avoid division by zero when all entries are masked.\n",
        "\n",
        "    Returns:\n",
        "      A callable loss(y_true, y_pred) -> scalar loss.\n",
        "    \"\"\"\n",
        "    def loss(y_true, y_pred):\n",
        "        # Create mask of valid (non-masked) entries\n",
        "        mask = tf.not_equal(y_true, mask_value)\n",
        "        mask = tf.cast(mask, tf.float32)\n",
        "\n",
        "        # Compute squared error and apply mask\n",
        "        sq_error = tf.square(y_true - y_pred) * mask\n",
        "\n",
        "        # Sum errors and count valid entries\n",
        "        total_error = tf.reduce_sum(sq_error)\n",
        "        valid_count = tf.reduce_sum(mask)\n",
        "\n",
        "        # Return mean over valid entries\n",
        "        return total_error / (valid_count + epsilon)\n",
        "\n",
        "    return loss"
      ],
      "metadata": {
        "id": "X4fIz2d6MG6l"
      },
      "id": "X4fIz2d6MG6l",
      "execution_count": 109,
      "outputs": []
    },
    {
      "cell_type": "code",
      "source": [
        "lr_schedule = tf.keras.callbacks.ReduceLROnPlateau(\n",
        "    monitor='val_loss', factor=0.5, patience=3, min_lr=1e-6\n",
        ")\n",
        "\n",
        "early_stop = tf.keras.callbacks.EarlyStopping(\n",
        "    monitor='val_loss',\n",
        "    min_delta=0.0,\n",
        "    patience=15,\n",
        "    verbose=1,\n",
        "    mode='auto',\n",
        "    baseline=None,\n",
        "    restore_best_weights=True\n",
        ")"
      ],
      "metadata": {
        "id": "yk3wTxg9nUSx"
      },
      "id": "yk3wTxg9nUSx",
      "execution_count": 110,
      "outputs": []
    },
    {
      "cell_type": "code",
      "execution_count": 112,
      "id": "9625ded8-2dc5-4fe3-930c-adcc37f9d0b1",
      "metadata": {
        "id": "9625ded8-2dc5-4fe3-930c-adcc37f9d0b1"
      },
      "outputs": [],
      "source": [
        "model.compile(optimizer=tf.keras.optimizers.Adam(),\n",
        "              loss=masked_mae(mask_value=-9999.0))"
      ]
    },
    {
      "cell_type": "code",
      "execution_count": 113,
      "id": "2389490f-4f73-438c-80c3-baed5ac48508",
      "metadata": {
        "colab": {
          "base_uri": "https://localhost:8080/"
        },
        "id": "2389490f-4f73-438c-80c3-baed5ac48508",
        "outputId": "40a11a98-1111-4bd2-f781-0f338eeb598d"
      },
      "outputs": [
        {
          "output_type": "stream",
          "name": "stdout",
          "text": [
            "Epoch 1/50\n",
            "\u001b[1m24/24\u001b[0m \u001b[32m━━━━━━━━━━━━━━━━━━━━\u001b[0m\u001b[37m\u001b[0m \u001b[1m199s\u001b[0m 7s/step - loss: 0.7355 - val_loss: 0.5138 - learning_rate: 0.0010\n",
            "Epoch 2/50\n",
            "\u001b[1m24/24\u001b[0m \u001b[32m━━━━━━━━━━━━━━━━━━━━\u001b[0m\u001b[37m\u001b[0m \u001b[1m163s\u001b[0m 7s/step - loss: 0.5355 - val_loss: 0.5305 - learning_rate: 0.0010\n",
            "Epoch 3/50\n",
            "\u001b[1m24/24\u001b[0m \u001b[32m━━━━━━━━━━━━━━━━━━━━\u001b[0m\u001b[37m\u001b[0m \u001b[1m162s\u001b[0m 7s/step - loss: 0.5126 - val_loss: 0.5950 - learning_rate: 0.0010\n",
            "Epoch 4/50\n",
            "\u001b[1m24/24\u001b[0m \u001b[32m━━━━━━━━━━━━━━━━━━━━\u001b[0m\u001b[37m\u001b[0m \u001b[1m162s\u001b[0m 7s/step - loss: 0.5469 - val_loss: 0.5491 - learning_rate: 0.0010\n",
            "Epoch 5/50\n",
            "\u001b[1m24/24\u001b[0m \u001b[32m━━━━━━━━━━━━━━━━━━━━\u001b[0m\u001b[37m\u001b[0m \u001b[1m161s\u001b[0m 7s/step - loss: 0.5226 - val_loss: 0.5121 - learning_rate: 5.0000e-04\n",
            "Epoch 6/50\n",
            "\u001b[1m24/24\u001b[0m \u001b[32m━━━━━━━━━━━━━━━━━━━━\u001b[0m\u001b[37m\u001b[0m \u001b[1m162s\u001b[0m 7s/step - loss: 0.4711 - val_loss: 0.4783 - learning_rate: 5.0000e-04\n",
            "Epoch 7/50\n",
            "\u001b[1m24/24\u001b[0m \u001b[32m━━━━━━━━━━━━━━━━━━━━\u001b[0m\u001b[37m\u001b[0m \u001b[1m162s\u001b[0m 7s/step - loss: 0.4745 - val_loss: 0.4920 - learning_rate: 5.0000e-04\n",
            "Epoch 8/50\n",
            "\u001b[1m24/24\u001b[0m \u001b[32m━━━━━━━━━━━━━━━━━━━━\u001b[0m\u001b[37m\u001b[0m \u001b[1m162s\u001b[0m 7s/step - loss: 0.4562 - val_loss: 0.4787 - learning_rate: 5.0000e-04\n",
            "Epoch 9/50\n",
            "\u001b[1m24/24\u001b[0m \u001b[32m━━━━━━━━━━━━━━━━━━━━\u001b[0m\u001b[37m\u001b[0m \u001b[1m162s\u001b[0m 7s/step - loss: 0.4544 - val_loss: 0.4796 - learning_rate: 5.0000e-04\n",
            "Epoch 10/50\n",
            "\u001b[1m24/24\u001b[0m \u001b[32m━━━━━━━━━━━━━━━━━━━━\u001b[0m\u001b[37m\u001b[0m \u001b[1m163s\u001b[0m 7s/step - loss: 0.4679 - val_loss: 0.4985 - learning_rate: 2.5000e-04\n",
            "Epoch 11/50\n",
            "\u001b[1m24/24\u001b[0m \u001b[32m━━━━━━━━━━━━━━━━━━━━\u001b[0m\u001b[37m\u001b[0m \u001b[1m172s\u001b[0m 7s/step - loss: 0.4551 - val_loss: 0.4537 - learning_rate: 2.5000e-04\n",
            "Epoch 12/50\n",
            "\u001b[1m24/24\u001b[0m \u001b[32m━━━━━━━━━━━━━━━━━━━━\u001b[0m\u001b[37m\u001b[0m \u001b[1m185s\u001b[0m 8s/step - loss: 0.4508 - val_loss: 0.4501 - learning_rate: 2.5000e-04\n",
            "Epoch 13/50\n",
            "\u001b[1m24/24\u001b[0m \u001b[32m━━━━━━━━━━━━━━━━━━━━\u001b[0m\u001b[37m\u001b[0m \u001b[1m190s\u001b[0m 8s/step - loss: 0.4464 - val_loss: 0.4762 - learning_rate: 2.5000e-04\n",
            "Epoch 14/50\n",
            "\u001b[1m24/24\u001b[0m \u001b[32m━━━━━━━━━━━━━━━━━━━━\u001b[0m\u001b[37m\u001b[0m \u001b[1m191s\u001b[0m 8s/step - loss: 0.4505 - val_loss: 0.4689 - learning_rate: 2.5000e-04\n",
            "Epoch 15/50\n",
            "\u001b[1m24/24\u001b[0m \u001b[32m━━━━━━━━━━━━━━━━━━━━\u001b[0m\u001b[37m\u001b[0m \u001b[1m185s\u001b[0m 8s/step - loss: 0.4570 - val_loss: 0.4768 - learning_rate: 2.5000e-04\n",
            "Epoch 16/50\n",
            "\u001b[1m24/24\u001b[0m \u001b[32m━━━━━━━━━━━━━━━━━━━━\u001b[0m\u001b[37m\u001b[0m \u001b[1m190s\u001b[0m 8s/step - loss: 0.4395 - val_loss: 0.4727 - learning_rate: 1.2500e-04\n",
            "Epoch 17/50\n",
            "\u001b[1m24/24\u001b[0m \u001b[32m━━━━━━━━━━━━━━━━━━━━\u001b[0m\u001b[37m\u001b[0m \u001b[1m190s\u001b[0m 8s/step - loss: 0.4421 - val_loss: 0.4487 - learning_rate: 1.2500e-04\n",
            "Epoch 18/50\n",
            "\u001b[1m24/24\u001b[0m \u001b[32m━━━━━━━━━━━━━━━━━━━━\u001b[0m\u001b[37m\u001b[0m \u001b[1m188s\u001b[0m 8s/step - loss: 0.4441 - val_loss: 0.4610 - learning_rate: 1.2500e-04\n",
            "Epoch 19/50\n",
            "\u001b[1m24/24\u001b[0m \u001b[32m━━━━━━━━━━━━━━━━━━━━\u001b[0m\u001b[37m\u001b[0m \u001b[1m186s\u001b[0m 8s/step - loss: 0.4370 - val_loss: 0.4623 - learning_rate: 1.2500e-04\n",
            "Epoch 20/50\n",
            "\u001b[1m24/24\u001b[0m \u001b[32m━━━━━━━━━━━━━━━━━━━━\u001b[0m\u001b[37m\u001b[0m \u001b[1m174s\u001b[0m 7s/step - loss: 0.4413 - val_loss: 0.4929 - learning_rate: 1.2500e-04\n",
            "Epoch 21/50\n",
            "\u001b[1m24/24\u001b[0m \u001b[32m━━━━━━━━━━━━━━━━━━━━\u001b[0m\u001b[37m\u001b[0m \u001b[1m172s\u001b[0m 7s/step - loss: 0.4328 - val_loss: 0.4636 - learning_rate: 6.2500e-05\n",
            "Epoch 22/50\n",
            "\u001b[1m24/24\u001b[0m \u001b[32m━━━━━━━━━━━━━━━━━━━━\u001b[0m\u001b[37m\u001b[0m \u001b[1m170s\u001b[0m 7s/step - loss: 0.4398 - val_loss: 0.4746 - learning_rate: 6.2500e-05\n",
            "Epoch 23/50\n",
            "\u001b[1m24/24\u001b[0m \u001b[32m━━━━━━━━━━━━━━━━━━━━\u001b[0m\u001b[37m\u001b[0m \u001b[1m167s\u001b[0m 7s/step - loss: 0.4357 - val_loss: 0.4640 - learning_rate: 6.2500e-05\n",
            "Epoch 24/50\n",
            "\u001b[1m24/24\u001b[0m \u001b[32m━━━━━━━━━━━━━━━━━━━━\u001b[0m\u001b[37m\u001b[0m \u001b[1m167s\u001b[0m 7s/step - loss: 0.4321 - val_loss: 0.4593 - learning_rate: 3.1250e-05\n",
            "Epoch 25/50\n",
            "\u001b[1m24/24\u001b[0m \u001b[32m━━━━━━━━━━━━━━━━━━━━\u001b[0m\u001b[37m\u001b[0m \u001b[1m168s\u001b[0m 7s/step - loss: 0.4300 - val_loss: 0.4731 - learning_rate: 3.1250e-05\n",
            "Epoch 26/50\n",
            "\u001b[1m24/24\u001b[0m \u001b[32m━━━━━━━━━━━━━━━━━━━━\u001b[0m\u001b[37m\u001b[0m \u001b[1m168s\u001b[0m 7s/step - loss: 0.4326 - val_loss: 0.4655 - learning_rate: 3.1250e-05\n",
            "Epoch 27/50\n",
            "\u001b[1m24/24\u001b[0m \u001b[32m━━━━━━━━━━━━━━━━━━━━\u001b[0m\u001b[37m\u001b[0m \u001b[1m168s\u001b[0m 7s/step - loss: 0.4300 - val_loss: 0.4565 - learning_rate: 1.5625e-05\n",
            "Epoch 28/50\n",
            "\u001b[1m24/24\u001b[0m \u001b[32m━━━━━━━━━━━━━━━━━━━━\u001b[0m\u001b[37m\u001b[0m \u001b[1m166s\u001b[0m 7s/step - loss: 0.4317 - val_loss: 0.4625 - learning_rate: 1.5625e-05\n",
            "Epoch 29/50\n",
            "\u001b[1m24/24\u001b[0m \u001b[32m━━━━━━━━━━━━━━━━━━━━\u001b[0m\u001b[37m\u001b[0m \u001b[1m166s\u001b[0m 7s/step - loss: 0.4341 - val_loss: 0.4608 - learning_rate: 1.5625e-05\n",
            "Epoch 30/50\n",
            "\u001b[1m24/24\u001b[0m \u001b[32m━━━━━━━━━━━━━━━━━━━━\u001b[0m\u001b[37m\u001b[0m \u001b[1m167s\u001b[0m 7s/step - loss: 0.4282 - val_loss: 0.4632 - learning_rate: 7.8125e-06\n",
            "Epoch 31/50\n",
            "\u001b[1m24/24\u001b[0m \u001b[32m━━━━━━━━━━━━━━━━━━━━\u001b[0m\u001b[37m\u001b[0m \u001b[1m167s\u001b[0m 7s/step - loss: 0.4312 - val_loss: 0.4608 - learning_rate: 7.8125e-06\n",
            "Epoch 32/50\n",
            "\u001b[1m24/24\u001b[0m \u001b[32m━━━━━━━━━━━━━━━━━━━━\u001b[0m\u001b[37m\u001b[0m \u001b[1m166s\u001b[0m 7s/step - loss: 0.4290 - val_loss: 0.4635 - learning_rate: 7.8125e-06\n",
            "Epoch 32: early stopping\n",
            "Restoring model weights from the end of the best epoch: 17.\n"
          ]
        }
      ],
      "source": [
        "history = model.fit(X_train, y_train,\n",
        "                    epochs=50,\n",
        "                    batch_size=24,\n",
        "                    validation_data=(X_val, y_val),\n",
        "                    callbacks=[lr_schedule, early_stop])"
      ]
    },
    {
      "cell_type": "code",
      "execution_count": 114,
      "id": "1b4bd7fa-f155-47f9-867e-1a1835ba8ba0",
      "metadata": {
        "colab": {
          "base_uri": "https://localhost:8080/"
        },
        "id": "1b4bd7fa-f155-47f9-867e-1a1835ba8ba0",
        "outputId": "9ed7afa9-2602-4e27-be49-50cb966565d2"
      },
      "outputs": [
        {
          "output_type": "stream",
          "name": "stderr",
          "text": [
            "WARNING:absl:You are saving your model as an HDF5 file via `model.save()` or `keras.saving.save_model(model)`. This file format is considered legacy. We recommend using instead the native Keras format, e.g. `model.save('my_model.keras')` or `keras.saving.save_model(model, 'my_model.keras')`. \n"
          ]
        }
      ],
      "source": [
        "model.save('/content/drive/My Drive/ERA5 Data/data/training data 2001/earthformer_T1_2001_C1.keras')\n",
        "model.save('/content/drive/My Drive/ERA5 Data/data/training data 2001/earthformer_T1_2001_C1.h5')"
      ]
    },
    {
      "cell_type": "code",
      "execution_count": 115,
      "id": "0f1508d4-7c32-43cc-998f-3031799e0b88",
      "metadata": {
        "id": "0f1508d4-7c32-43cc-998f-3031799e0b88"
      },
      "outputs": [],
      "source": [
        "def plot_training_history(history):\n",
        "    \"\"\"\n",
        "    Plots training and validation loss and mean squared error (MSE) from a Keras History object.\n",
        "\n",
        "    Parameters:\n",
        "        history: A Keras History object returned by model.fit.\n",
        "    \"\"\"\n",
        "    epochs = range(1, len(history.history['loss']) + 1)\n",
        "\n",
        "    # Create a figure with two subplots.\n",
        "    fig, ax1 = plt.subplots(1, 1, figsize=(8, 5))\n",
        "\n",
        "    # Plot Loss.\n",
        "    ax1.plot(epochs, history.history['loss'], 'bo-', label='Training Loss')\n",
        "    if 'val_loss' in history.history:\n",
        "        ax1.plot(epochs, history.history['val_loss'], 'ro-', label='Validation Loss')\n",
        "    ax1.set_title('Training and Validation Loss')\n",
        "    ax1.set_xlabel('Epochs')\n",
        "    ax1.set_ylabel('Loss')\n",
        "    ax1.legend()"
      ]
    },
    {
      "cell_type": "code",
      "source": [
        "model.compile(optimizer=tf.keras.optimizers.Adam(7.8125e-06),\n",
        "              loss=masked_mse(mask_value=-9999.0))"
      ],
      "metadata": {
        "id": "FCLT84Dy0q-k"
      },
      "id": "FCLT84Dy0q-k",
      "execution_count": 117,
      "outputs": []
    },
    {
      "cell_type": "code",
      "source": [
        "lr_schedule = tf.keras.callbacks.ReduceLROnPlateau(\n",
        "    monitor='val_loss', factor=0.5, patience=3, min_lr=1e-6\n",
        ")\n",
        "\n",
        "early_stop = tf.keras.callbacks.EarlyStopping(\n",
        "    monitor='val_loss',\n",
        "    min_delta=0.0,\n",
        "    patience=10,\n",
        "    verbose=1,\n",
        "    mode='auto',\n",
        "    baseline=None,\n",
        "    restore_best_weights=True\n",
        ")"
      ],
      "metadata": {
        "id": "9Yy9NGmm3KrF"
      },
      "id": "9Yy9NGmm3KrF",
      "execution_count": 119,
      "outputs": []
    },
    {
      "cell_type": "code",
      "source": [
        "history = model.fit(X_train, y_train,\n",
        "                    epochs=50,\n",
        "                    batch_size=24,\n",
        "                    validation_data=(X_val, y_val),\n",
        "                    callbacks=[lr_schedule, early_stop])"
      ],
      "metadata": {
        "colab": {
          "base_uri": "https://localhost:8080/"
        },
        "id": "Bb_cI5M6j2wf",
        "outputId": "792376c4-d440-438b-a7bf-f4f8dbd25f7c"
      },
      "id": "Bb_cI5M6j2wf",
      "execution_count": 120,
      "outputs": [
        {
          "output_type": "stream",
          "name": "stdout",
          "text": [
            "Epoch 1/50\n",
            "\u001b[1m24/24\u001b[0m \u001b[32m━━━━━━━━━━━━━━━━━━━━\u001b[0m\u001b[37m\u001b[0m \u001b[1m201s\u001b[0m 7s/step - loss: 0.4320 - val_loss: 0.4581 - learning_rate: 7.8125e-06\n",
            "Epoch 2/50\n",
            "\u001b[1m24/24\u001b[0m \u001b[32m━━━━━━━━━━━━━━━━━━━━\u001b[0m\u001b[37m\u001b[0m \u001b[1m163s\u001b[0m 7s/step - loss: 0.4303 - val_loss: 0.4494 - learning_rate: 7.8125e-06\n",
            "Epoch 3/50\n",
            "\u001b[1m24/24\u001b[0m \u001b[32m━━━━━━━━━━━━━━━━━━━━\u001b[0m\u001b[37m\u001b[0m \u001b[1m162s\u001b[0m 7s/step - loss: 0.4315 - val_loss: 0.4505 - learning_rate: 7.8125e-06\n",
            "Epoch 4/50\n",
            "\u001b[1m24/24\u001b[0m \u001b[32m━━━━━━━━━━━━━━━━━━━━\u001b[0m\u001b[37m\u001b[0m \u001b[1m163s\u001b[0m 7s/step - loss: 0.4147 - val_loss: 0.4499 - learning_rate: 7.8125e-06\n",
            "Epoch 5/50\n",
            "\u001b[1m24/24\u001b[0m \u001b[32m━━━━━━━━━━━━━━━━━━━━\u001b[0m\u001b[37m\u001b[0m \u001b[1m163s\u001b[0m 7s/step - loss: 0.4098 - val_loss: 0.4498 - learning_rate: 7.8125e-06\n",
            "Epoch 6/50\n",
            "\u001b[1m24/24\u001b[0m \u001b[32m━━━━━━━━━━━━━━━━━━━━\u001b[0m\u001b[37m\u001b[0m \u001b[1m162s\u001b[0m 7s/step - loss: 0.4131 - val_loss: 0.4475 - learning_rate: 3.9063e-06\n",
            "Epoch 7/50\n",
            "\u001b[1m24/24\u001b[0m \u001b[32m━━━━━━━━━━━━━━━━━━━━\u001b[0m\u001b[37m\u001b[0m \u001b[1m162s\u001b[0m 7s/step - loss: 0.4088 - val_loss: 0.4502 - learning_rate: 3.9063e-06\n",
            "Epoch 8/50\n",
            "\u001b[1m24/24\u001b[0m \u001b[32m━━━━━━━━━━━━━━━━━━━━\u001b[0m\u001b[37m\u001b[0m \u001b[1m163s\u001b[0m 7s/step - loss: 0.4177 - val_loss: 0.4481 - learning_rate: 3.9063e-06\n",
            "Epoch 9/50\n",
            "\u001b[1m24/24\u001b[0m \u001b[32m━━━━━━━━━━━━━━━━━━━━\u001b[0m\u001b[37m\u001b[0m \u001b[1m164s\u001b[0m 7s/step - loss: 0.4144 - val_loss: 0.4400 - learning_rate: 3.9063e-06\n",
            "Epoch 10/50\n",
            "\u001b[1m24/24\u001b[0m \u001b[32m━━━━━━━━━━━━━━━━━━━━\u001b[0m\u001b[37m\u001b[0m \u001b[1m163s\u001b[0m 7s/step - loss: 0.3994 - val_loss: 0.4464 - learning_rate: 3.9063e-06\n",
            "Epoch 11/50\n",
            "\u001b[1m24/24\u001b[0m \u001b[32m━━━━━━━━━━━━━━━━━━━━\u001b[0m\u001b[37m\u001b[0m \u001b[1m165s\u001b[0m 7s/step - loss: 0.4209 - val_loss: 0.4498 - learning_rate: 3.9063e-06\n",
            "Epoch 12/50\n",
            "\u001b[1m24/24\u001b[0m \u001b[32m━━━━━━━━━━━━━━━━━━━━\u001b[0m\u001b[37m\u001b[0m \u001b[1m165s\u001b[0m 7s/step - loss: 0.4173 - val_loss: 0.4576 - learning_rate: 3.9063e-06\n",
            "Epoch 13/50\n",
            "\u001b[1m24/24\u001b[0m \u001b[32m━━━━━━━━━━━━━━━━━━━━\u001b[0m\u001b[37m\u001b[0m \u001b[1m166s\u001b[0m 7s/step - loss: 0.4005 - val_loss: 0.4514 - learning_rate: 1.9531e-06\n",
            "Epoch 14/50\n",
            "\u001b[1m24/24\u001b[0m \u001b[32m━━━━━━━━━━━━━━━━━━━━\u001b[0m\u001b[37m\u001b[0m \u001b[1m167s\u001b[0m 7s/step - loss: 0.4181 - val_loss: 0.4503 - learning_rate: 1.9531e-06\n",
            "Epoch 15/50\n",
            "\u001b[1m24/24\u001b[0m \u001b[32m━━━━━━━━━━━━━━━━━━━━\u001b[0m\u001b[37m\u001b[0m \u001b[1m166s\u001b[0m 7s/step - loss: 0.4190 - val_loss: 0.4488 - learning_rate: 1.9531e-06\n",
            "Epoch 16/50\n",
            "\u001b[1m24/24\u001b[0m \u001b[32m━━━━━━━━━━━━━━━━━━━━\u001b[0m\u001b[37m\u001b[0m \u001b[1m168s\u001b[0m 7s/step - loss: 0.3998 - val_loss: 0.4474 - learning_rate: 1.0000e-06\n",
            "Epoch 17/50\n",
            "\u001b[1m24/24\u001b[0m \u001b[32m━━━━━━━━━━━━━━━━━━━━\u001b[0m\u001b[37m\u001b[0m \u001b[1m167s\u001b[0m 7s/step - loss: 0.4070 - val_loss: 0.4450 - learning_rate: 1.0000e-06\n",
            "Epoch 18/50\n",
            "\u001b[1m24/24\u001b[0m \u001b[32m━━━━━━━━━━━━━━━━━━━━\u001b[0m\u001b[37m\u001b[0m \u001b[1m167s\u001b[0m 7s/step - loss: 0.4107 - val_loss: 0.4468 - learning_rate: 1.0000e-06\n",
            "Epoch 19/50\n",
            "\u001b[1m24/24\u001b[0m \u001b[32m━━━━━━━━━━━━━━━━━━━━\u001b[0m\u001b[37m\u001b[0m \u001b[1m165s\u001b[0m 7s/step - loss: 0.3978 - val_loss: 0.4462 - learning_rate: 1.0000e-06\n",
            "Epoch 19: early stopping\n",
            "Restoring model weights from the end of the best epoch: 9.\n"
          ]
        }
      ]
    },
    {
      "cell_type": "code",
      "source": [
        "model.save('/content/drive/My Drive/ERA5 Data/data/training data 2001/earthformer_T1_2001_C2.keras')\n",
        "model.save('/content/drive/My Drive/ERA5 Data/data/training data 2001/earthformer_T1_2001_C2.h5')"
      ],
      "metadata": {
        "colab": {
          "base_uri": "https://localhost:8080/"
        },
        "id": "ZB1hFayZm4pe",
        "outputId": "4886c489-02bd-4da4-d721-c6a76424d2dc"
      },
      "id": "ZB1hFayZm4pe",
      "execution_count": 122,
      "outputs": [
        {
          "output_type": "stream",
          "name": "stderr",
          "text": [
            "WARNING:absl:You are saving your model as an HDF5 file via `model.save()` or `keras.saving.save_model(model)`. This file format is considered legacy. We recommend using instead the native Keras format, e.g. `model.save('my_model.keras')` or `keras.saving.save_model(model, 'my_model.keras')`. \n"
          ]
        }
      ]
    },
    {
      "cell_type": "code",
      "execution_count": 123,
      "id": "51896518-003a-4fc8-a1b6-3d7ee8b49656",
      "metadata": {
        "colab": {
          "base_uri": "https://localhost:8080/",
          "height": 487
        },
        "id": "51896518-003a-4fc8-a1b6-3d7ee8b49656",
        "outputId": "7c33ee9b-de3b-4a55-a40a-f2c33f55a78c"
      },
      "outputs": [
        {
          "output_type": "display_data",
          "data": {
            "text/plain": [
              "<Figure size 800x500 with 1 Axes>"
            ],
            "image/png": "[encoded data removed]"
          },
          "metadata": {}
        }
      ],
      "source": [
        "plot_training_history(history)"
      ]
    },
    {
      "cell_type": "markdown",
      "id": "3404942c-09ed-44b9-a810-8be103fef1e8",
      "metadata": {
        "id": "3404942c-09ed-44b9-a810-8be103fef1e8"
      },
      "source": [
        "# Model Evaluation"
      ]
    },
    {
      "cell_type": "code",
      "source": [
        "model.load_weights('/content/drive/My Drive/ERA5 Data/data/training data 2001/earthformer_T1_2001_C2.h5')"
      ],
      "metadata": {
        "id": "aPNFAAshepGe"
      },
      "id": "aPNFAAshepGe",
      "execution_count": 124,
      "outputs": []
    },
    {
      "cell_type": "code",
      "execution_count": 125,
      "id": "RJNHE8gNQjX_",
      "metadata": {
        "id": "RJNHE8gNQjX_"
      },
      "outputs": [],
      "source": [
        "from sklearn.metrics import mean_absolute_error, mean_squared_error, r2_score"
      ]
    },
    {
      "cell_type": "code",
      "execution_count": 126,
      "id": "c368b212-14d5-4c1a-9064-05b198083ec1",
      "metadata": {
        "id": "c368b212-14d5-4c1a-9064-05b198083ec1"
      },
      "outputs": [],
      "source": [
        "tf_train_dataset = tf.data.Dataset.load(\"/content/drive/My Drive/ERA5 Data/data/training data 2002\")\n",
        "test_X = tf.stack([ex[0] for ex in tf_train_dataset])\n",
        "test_y = tf.stack([ex[1] for ex in tf_train_dataset])"
      ]
    },
    {
      "cell_type": "code",
      "execution_count": 127,
      "id": "9cac0a1f-6eec-4f61-b58f-3d59013a702b",
      "metadata": {
        "id": "9cac0a1f-6eec-4f61-b58f-3d59013a702b"
      },
      "outputs": [],
      "source": [
        "test_X_np = test_X.numpy()\n",
        "test_y_np = test_y.numpy()"
      ]
    },
    {
      "cell_type": "code",
      "execution_count": 128,
      "id": "73b27e66-d261-4a11-97d3-c2d5ca3fbfc8",
      "metadata": {
        "colab": {
          "base_uri": "https://localhost:8080/"
        },
        "id": "73b27e66-d261-4a11-97d3-c2d5ca3fbfc8",
        "outputId": "1ca98bdd-4c1c-49b8-fc43-4492f40374cb"
      },
      "outputs": [
        {
          "output_type": "stream",
          "name": "stdout",
          "text": [
            "0 0\n"
          ]
        }
      ],
      "source": [
        "print(np.isnan(test_X).sum(), np.isinf(test_X).sum())"
      ]
    },
    {
      "cell_type": "code",
      "execution_count": 129,
      "id": "1fa9e724-fb92-489c-8075-42d297b8fb34",
      "metadata": {
        "colab": {
          "base_uri": "https://localhost:8080/"
        },
        "id": "1fa9e724-fb92-489c-8075-42d297b8fb34",
        "outputId": "fba25fca-040c-44c9-da28-a067cb5ed76b"
      },
      "outputs": [
        {
          "output_type": "stream",
          "name": "stdout",
          "text": [
            "0 0\n"
          ]
        }
      ],
      "source": [
        "print(np.isnan(test_y).sum(), np.isinf(test_y).sum())"
      ]
    },
    {
      "cell_type": "code",
      "execution_count": 130,
      "id": "DDaWpE1oK-pt",
      "metadata": {
        "colab": {
          "base_uri": "https://localhost:8080/"
        },
        "id": "DDaWpE1oK-pt",
        "outputId": "3c58ade9-dc14-413b-baec-5c969270046f"
      },
      "outputs": [
        {
          "output_type": "stream",
          "name": "stdout",
          "text": [
            "Normalized test_X shape: (693, 31, 20, 20, 13)\n"
          ]
        }
      ],
      "source": [
        "test_X_masked = np.where(test_X_np <= -9999, np.nan, test_X_np)\n",
        "\n",
        "normalized_test_X_np = (test_X_np - X_channel_mean) / (X_channel_std + 1e-8)\n",
        "normalized_test_X_np = np.where(test_X_np <= -9999, -9999.0, normalized_test_X_np)\n",
        "normalized_test_X = tf.convert_to_tensor(normalized_test_X_np, dtype=tf.float32)\n",
        "\n",
        "print(\"Normalized test_X shape:\", normalized_test_X.shape)\n",
        "del test_X_np\n",
        "del test_X_masked\n",
        "del normalized_test_X_np"
      ]
    },
    {
      "cell_type": "code",
      "execution_count": 131,
      "id": "rJqUpywwOdbR",
      "metadata": {
        "id": "rJqUpywwOdbR"
      },
      "outputs": [],
      "source": [
        "normalized_test_X = tf.where(tf.equal(normalized_test_X, -9999.0), tf.zeros_like(normalized_test_X), normalized_test_X)"
      ]
    },
    {
      "cell_type": "code",
      "execution_count": 132,
      "id": "70dc4eef-fb2d-408b-ae76-e477a2b4f496",
      "metadata": {
        "colab": {
          "base_uri": "https://localhost:8080/"
        },
        "id": "70dc4eef-fb2d-408b-ae76-e477a2b4f496",
        "outputId": "a3e5521d-646a-4d78-e56d-fcb224692401"
      },
      "outputs": [
        {
          "output_type": "stream",
          "name": "stdout",
          "text": [
            "Normalized test_y shape: (693, 31, 20, 20, 13)\n"
          ]
        }
      ],
      "source": [
        "test_y_masked = np.where(test_y_np <= -9999, np.nan, test_y_np)\n",
        "\n",
        "normalized_test_y_np = (test_y_np - y_channel_mean) / (y_channel_std + 1e-8)\n",
        "normalized_test_y_np = np.where(test_y_np <= -9999, -9999.0, normalized_test_y_np)\n",
        "normalized_test_y = tf.convert_to_tensor(normalized_test_y_np, dtype=tf.float32)\n",
        "\n",
        "print(\"Normalized test_y shape:\", normalized_test_y.shape)\n",
        "del test_y_np\n",
        "del test_y_masked\n",
        "del normalized_test_y_np"
      ]
    },
    {
      "cell_type": "code",
      "execution_count": 133,
      "id": "0493ca8d-4756-49da-b770-a1cdaeec0032",
      "metadata": {
        "id": "0493ca8d-4756-49da-b770-a1cdaeec0032"
      },
      "outputs": [],
      "source": [
        "normalized_test_y = tf.where(tf.equal(normalized_test_y, -9999.0), tf.zeros_like(normalized_test_y), normalized_test_y)"
      ]
    },
    {
      "cell_type": "code",
      "execution_count": 134,
      "id": "56536389-7676-408b-b0d8-6ec8bf0fa4c3",
      "metadata": {
        "colab": {
          "base_uri": "https://localhost:8080/"
        },
        "id": "56536389-7676-408b-b0d8-6ec8bf0fa4c3",
        "outputId": "100a6b78-a107-4cf7-c807-16386e0d786b"
      },
      "outputs": [
        {
          "output_type": "stream",
          "name": "stdout",
          "text": [
            "22/22 - 44s - 2s/step - loss: 0.3950\n",
            "Test Loss: 0.3950238823890686\n"
          ]
        }
      ],
      "source": [
        "test_loss = model.evaluate(normalized_test_X, normalized_test_y, verbose=2)\n",
        "print(\"Test Loss:\", test_loss)"
      ]
    },
    {
      "cell_type": "code",
      "execution_count": 135,
      "id": "N9lV7ovQPMBz",
      "metadata": {
        "colab": {
          "base_uri": "https://localhost:8080/"
        },
        "id": "N9lV7ovQPMBz",
        "outputId": "ca7d9388-c008-4abe-fba0-be3334de57fe"
      },
      "outputs": [
        {
          "output_type": "stream",
          "name": "stdout",
          "text": [
            "\u001b[1m22/22\u001b[0m \u001b[32m━━━━━━━━━━━━━━━━━━━━\u001b[0m\u001b[37m\u001b[0m \u001b[1m51s\u001b[0m 2s/step\n"
          ]
        }
      ],
      "source": [
        "y_pred = model.predict(normalized_test_X)"
      ]
    },
    {
      "cell_type": "code",
      "execution_count": 136,
      "id": "BrKIqON_PMOy",
      "metadata": {
        "id": "BrKIqON_PMOy"
      },
      "outputs": [],
      "source": [
        "y_true = normalized_test_y.numpy()"
      ]
    },
    {
      "cell_type": "code",
      "execution_count": 137,
      "id": "jAkFClxmQKkO",
      "metadata": {
        "id": "jAkFClxmQKkO"
      },
      "outputs": [],
      "source": [
        "def compute_all_metrics(y_true, y_pred):\n",
        "    y_true_flat = y_true.flatten()\n",
        "    y_pred_flat = y_pred.flatten()\n",
        "\n",
        "    y_true_clean = y_true_flat[y_true_flat > -9999.0]\n",
        "    y_pred_clean = y_pred_flat[y_true_flat > -9999.0]\n",
        "\n",
        "    mae = mean_absolute_error(y_true_clean, y_pred_clean)\n",
        "    rmse = np.sqrt(mean_squared_error(y_true_clean, y_pred_clean))\n",
        "    r2 = r2_score(y_true_clean, y_pred_clean)\n",
        "\n",
        "    nse_numerator = np.sum((y_true_clean - y_pred_clean) ** 2)\n",
        "    nse_denominator = np.sum((y_true_clean - np.mean(y_true_clean)) ** 2)\n",
        "    nse = 1 - (nse_numerator / nse_denominator)\n",
        "\n",
        "    if len(y_true_clean) > 1:\n",
        "        true_diff = np.diff(y_true_clean)\n",
        "        pred_diff = np.diff(y_pred_clean)\n",
        "        trend_agreement = np.sign(true_diff) == np.sign(pred_diff)\n",
        "        trend_accuracy = np.mean(trend_agreement)\n",
        "    else:\n",
        "        trend_accuracy = np.nan\n",
        "\n",
        "    return {\n",
        "        \"MAE\": mae,\n",
        "        \"RMSE\": rmse,\n",
        "        \"R2\": r2,\n",
        "        \"NSE\": nse,\n",
        "        \"Trend Accuracy (%)\": trend_accuracy * 100\n",
        "    }\n"
      ]
    },
    {
      "cell_type": "code",
      "execution_count": 138,
      "id": "oDtiJ4GpQKmU",
      "metadata": {
        "id": "oDtiJ4GpQKmU"
      },
      "outputs": [],
      "source": [
        "def print_metrics(metrics_dict, title=\"Test Set Metrics\"):\n",
        "    print(f\"\\n{title}:\")\n",
        "    print(\"-\" * (len(title) + 1))\n",
        "    for k, v in metrics_dict.items():\n",
        "        if isinstance(v, (np.float32, np.float64, float)):\n",
        "            print(f\"{k:20}: {v:.4f}\")\n",
        "        else:\n",
        "            print(f\"{k:20}: {v}\")"
      ]
    },
    {
      "cell_type": "code",
      "execution_count": 139,
      "id": "e5_8tmuTQdiE",
      "metadata": {
        "colab": {
          "base_uri": "https://localhost:8080/"
        },
        "id": "e5_8tmuTQdiE",
        "outputId": "160df0dd-643b-41b7-b65e-b3ba23d6c36d"
      },
      "outputs": [
        {
          "output_type": "stream",
          "name": "stdout",
          "text": [
            "\n",
            "Test Set Metrics:\n",
            "-----------------\n",
            "MAE                 : 0.4282\n",
            "RMSE                : 0.6285\n",
            "R2                  : 0.5610\n",
            "NSE                 : 0.5610\n",
            "Trend Accuracy (%)  : 72.5885\n"
          ]
        }
      ],
      "source": [
        "metrics = compute_all_metrics(y_true, y_pred)\n",
        "print_metrics(metrics)"
      ]
    },
    {
      "cell_type": "code",
      "source": [
        "y_pred = (y_pred * (y_channel_std + 1e-8)) + y_channel_mean"
      ],
      "metadata": {
        "id": "QpzxXtn9yMRQ"
      },
      "id": "QpzxXtn9yMRQ",
      "execution_count": 140,
      "outputs": []
    },
    {
      "cell_type": "code",
      "source": [
        "plot_histogram(y_pred[:, :, :, :, 0].flatten(), 'Variable at index 0', 'Histogram of predicted variables')"
      ],
      "metadata": {
        "colab": {
          "base_uri": "https://localhost:8080/",
          "height": 607
        },
        "id": "b5RoGL9JymHs",
        "outputId": "ecde4e71-1379-4141-b1b4-8a4d14f15b40"
      },
      "id": "b5RoGL9JymHs",
      "execution_count": 141,
      "outputs": [
        {
          "output_type": "display_data",
          "data": {
            "text/plain": [
              "<Figure size 800x600 with 1 Axes>"
            ],
            "image/png": "[encoded data removed]"
          },
          "metadata": {}
        }
      ]
    },
    {
      "cell_type": "code",
      "execution_count": 142,
      "id": "BH7M7frqQdok",
      "metadata": {
        "id": "BH7M7frqQdok"
      },
      "outputs": [],
      "source": [
        "np.save('/content/drive/My Drive/ERA5 Data/data/training data 2002/pred_X.npy', y_pred)"
      ]
    }
  ],
  "metadata": {
    "accelerator": "TPU",
    "colab": {
      "gpuType": "V5E1",
      "machine_shape": "hm",
      "provenance": []
    },
    "kernelspec": {
      "display_name": "Python 3",
      "name": "python3"
    },
    "language_info": {
      "codemirror_mode": {
        "name": "ipython",
        "version": 3
      },
      "file_extension": ".py",
      "mimetype": "text/x-python",
      "name": "python",
      "nbconvert_exporter": "python",
      "pygments_lexer": "ipython3",
      "version": "3.12.8"
    }
  },
  "nbformat": 4,
  "nbformat_minor": 5
}