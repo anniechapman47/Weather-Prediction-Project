{
 "cells": [
  {
   "cell_type": "markdown",
   "metadata": {
    "id": "bYiIYKSE01hQ"
   },
   "source": [
    "## Data Pipeline\n",
    "\n",
    "This notebook outlines the data pipeline used to prepare climate reanalysis data for drought forecasting using deep learning models. Specifically, it processes ERA5 climate variables and Standardized Precipitation-Evapotranspiration Index (SPEI) values into a structured format suitable for training spatiotemporal models such as Convolutional LSTM (ConvLSTM) networks."
   ]
  },
  {
   "cell_type": "code",
   "execution_count": null,
   "metadata": {
    "colab": {
     "base_uri": "https://localhost:8080/"
    },
    "collapsed": true,
    "id": "RcTLCRuLmU4t",
    "outputId": "b6219447-cdba-4dcc-e622-6e7641c4905c"
   },
   "outputs": [
    {
     "name": "stdout",
     "output_type": "stream",
     "text": [
      "Collecting cdsapi\n",
      "  Downloading cdsapi-0.7.5-py2.py3-none-any.whl.metadata (2.9 kB)\n",
      "Collecting datapi (from cdsapi)\n",
      "  Downloading datapi-0.4.0-py3-none-any.whl.metadata (20 kB)\n",
      "Requirement already satisfied: requests>=2.5.0 in /usr/local/lib/python3.11/dist-packages (from cdsapi) (2.32.3)\n",
      "Requirement already satisfied: tqdm in /usr/local/lib/python3.11/dist-packages (from cdsapi) (4.67.1)\n",
      "Requirement already satisfied: charset-normalizer<4,>=2 in /usr/local/lib/python3.11/dist-packages (from requests>=2.5.0->cdsapi) (3.4.1)\n",
      "Requirement already satisfied: idna<4,>=2.5 in /usr/local/lib/python3.11/dist-packages (from requests>=2.5.0->cdsapi) (3.10)\n",
      "Requirement already satisfied: urllib3<3,>=1.21.1 in /usr/local/lib/python3.11/dist-packages (from requests>=2.5.0->cdsapi) (2.4.0)\n",
      "Requirement already satisfied: certifi>=2017.4.17 in /usr/local/lib/python3.11/dist-packages (from requests>=2.5.0->cdsapi) (2025.1.31)\n",
      "Requirement already satisfied: attrs in /usr/local/lib/python3.11/dist-packages (from datapi->cdsapi) (25.3.0)\n",
      "Collecting multiurl>=0.3.2 (from datapi->cdsapi)\n",
      "  Downloading multiurl-0.3.5-py3-none-any.whl.metadata (2.8 kB)\n",
      "Requirement already satisfied: typing-extensions in /usr/local/lib/python3.11/dist-packages (from datapi->cdsapi) (4.13.2)\n",
      "Requirement already satisfied: pytz in /usr/local/lib/python3.11/dist-packages (from multiurl>=0.3.2->datapi->cdsapi) (2025.2)\n",
      "Requirement already satisfied: python-dateutil in /usr/local/lib/python3.11/dist-packages (from multiurl>=0.3.2->datapi->cdsapi) (2.9.0.post0)\n",
      "Requirement already satisfied: six>=1.5 in /usr/local/lib/python3.11/dist-packages (from python-dateutil->multiurl>=0.3.2->datapi->cdsapi) (1.17.0)\n",
      "Downloading cdsapi-0.7.5-py2.py3-none-any.whl (12 kB)\n",
      "Downloading datapi-0.4.0-py3-none-any.whl (28 kB)\n",
      "Downloading multiurl-0.3.5-py3-none-any.whl (21 kB)\n",
      "Installing collected packages: multiurl, datapi, cdsapi\n",
      "Successfully installed cdsapi-0.7.5 datapi-0.4.0 multiurl-0.3.5\n"
     ]
    }
   ],
   "source": [
    "!pip install cdsapi"
   ]
  },
  {
   "cell_type": "code",
   "execution_count": null,
   "metadata": {
    "colab": {
     "base_uri": "https://localhost:8080/"
    },
    "collapsed": true,
    "id": "EEMWUfAEutmd",
    "outputId": "22844f78-98c4-42a3-8df1-d43d5f758a4d"
   },
   "outputs": [
    {
     "name": "stdout",
     "output_type": "stream",
     "text": [
      "Collecting netCDF4\n",
      "  Downloading netCDF4-1.7.2-cp311-cp311-manylinux_2_17_x86_64.manylinux2014_x86_64.whl.metadata (1.8 kB)\n",
      "Collecting cftime (from netCDF4)\n",
      "  Downloading cftime-1.6.4.post1-cp311-cp311-manylinux_2_17_x86_64.manylinux2014_x86_64.whl.metadata (8.7 kB)\n",
      "Requirement already satisfied: certifi in /usr/local/lib/python3.11/dist-packages (from netCDF4) (2025.1.31)\n",
      "Requirement already satisfied: numpy in /usr/local/lib/python3.11/dist-packages (from netCDF4) (2.0.2)\n",
      "Downloading netCDF4-1.7.2-cp311-cp311-manylinux_2_17_x86_64.manylinux2014_x86_64.whl (9.3 MB)\n",
      "\u001b[2K   \u001b[90m━━━━━━━━━━━━━━━━━━━━━━━━━━━━━━━━━━━━━━━━\u001b[0m \u001b[32m9.3/9.3 MB\u001b[0m \u001b[31m59.1 MB/s\u001b[0m eta \u001b[36m0:00:00\u001b[0m\n",
      "\u001b[?25hDownloading cftime-1.6.4.post1-cp311-cp311-manylinux_2_17_x86_64.manylinux2014_x86_64.whl (1.4 MB)\n",
      "\u001b[2K   \u001b[90m━━━━━━━━━━━━━━━━━━━━━━━━━━━━━━━━━━━━━━━━\u001b[0m \u001b[32m1.4/1.4 MB\u001b[0m \u001b[31m69.0 MB/s\u001b[0m eta \u001b[36m0:00:00\u001b[0m\n",
      "\u001b[?25hInstalling collected packages: cftime, netCDF4\n",
      "Successfully installed cftime-1.6.4.post1 netCDF4-1.7.2\n"
     ]
    }
   ],
   "source": [
    "!pip install netCDF4"
   ]
  },
  {
   "cell_type": "code",
   "execution_count": null,
   "metadata": {
    "colab": {
     "base_uri": "https://localhost:8080/"
    },
    "collapsed": true,
    "id": "7Tg58MuL1wr0",
    "outputId": "82238582-d0f2-4ac8-fcdc-6d6cfaf6314d"
   },
   "outputs": [
    {
     "name": "stdout",
     "output_type": "stream",
     "text": [
      "Collecting cartopy\n",
      "  Downloading Cartopy-0.24.1-cp311-cp311-manylinux_2_17_x86_64.manylinux2014_x86_64.whl.metadata (7.9 kB)\n",
      "Requirement already satisfied: numpy>=1.23 in /usr/local/lib/python3.11/dist-packages (from cartopy) (2.0.2)\n",
      "Requirement already satisfied: matplotlib>=3.6 in /usr/local/lib/python3.11/dist-packages (from cartopy) (3.10.0)\n",
      "Requirement already satisfied: shapely>=1.8 in /usr/local/lib/python3.11/dist-packages (from cartopy) (2.1.0)\n",
      "Requirement already satisfied: packaging>=21 in /usr/local/lib/python3.11/dist-packages (from cartopy) (24.2)\n",
      "Requirement already satisfied: pyshp>=2.3 in /usr/local/lib/python3.11/dist-packages (from cartopy) (2.3.1)\n",
      "Requirement already satisfied: pyproj>=3.3.1 in /usr/local/lib/python3.11/dist-packages (from cartopy) (3.7.1)\n",
      "Requirement already satisfied: contourpy>=1.0.1 in /usr/local/lib/python3.11/dist-packages (from matplotlib>=3.6->cartopy) (1.3.2)\n",
      "Requirement already satisfied: cycler>=0.10 in /usr/local/lib/python3.11/dist-packages (from matplotlib>=3.6->cartopy) (0.12.1)\n",
      "Requirement already satisfied: fonttools>=4.22.0 in /usr/local/lib/python3.11/dist-packages (from matplotlib>=3.6->cartopy) (4.57.0)\n",
      "Requirement already satisfied: kiwisolver>=1.3.1 in /usr/local/lib/python3.11/dist-packages (from matplotlib>=3.6->cartopy) (1.4.8)\n",
      "Requirement already satisfied: pillow>=8 in /usr/local/lib/python3.11/dist-packages (from matplotlib>=3.6->cartopy) (11.2.1)\n",
      "Requirement already satisfied: pyparsing>=2.3.1 in /usr/local/lib/python3.11/dist-packages (from matplotlib>=3.6->cartopy) (3.2.3)\n",
      "Requirement already satisfied: python-dateutil>=2.7 in /usr/local/lib/python3.11/dist-packages (from matplotlib>=3.6->cartopy) (2.9.0.post0)\n",
      "Requirement already satisfied: certifi in /usr/local/lib/python3.11/dist-packages (from pyproj>=3.3.1->cartopy) (2025.1.31)\n",
      "Requirement already satisfied: six>=1.5 in /usr/local/lib/python3.11/dist-packages (from python-dateutil>=2.7->matplotlib>=3.6->cartopy) (1.17.0)\n",
      "Downloading Cartopy-0.24.1-cp311-cp311-manylinux_2_17_x86_64.manylinux2014_x86_64.whl (11.7 MB)\n",
      "\u001b[2K   \u001b[90m━━━━━━━━━━━━━━━━━━━━━━━━━━━━━━━━━━━━━━━━\u001b[0m \u001b[32m11.7/11.7 MB\u001b[0m \u001b[31m130.5 MB/s\u001b[0m eta \u001b[36m0:00:00\u001b[0m\n",
      "\u001b[?25hInstalling collected packages: cartopy\n",
      "Successfully installed cartopy-0.24.1\n"
     ]
    }
   ],
   "source": [
    "!pip install cartopy"
   ]
  },
  {
   "cell_type": "markdown",
   "metadata": {
    "id": "c75d7404-176e-47ed-b26c-0f4e07de1df1"
   },
   "source": [
    "# Setup Libraries"
   ]
  },
  {
   "cell_type": "code",
   "execution_count": null,
   "metadata": {
    "id": "86d9ae4e-7f22-42aa-b5be-4755213bb528"
   },
   "outputs": [],
   "source": [
    "import calendar\n",
    "import cartopy.crs as ccrs\n",
    "import cartopy.feature as cfeature\n",
    "import cdsapi\n",
    "import copy\n",
    "import math\n",
    "import matplotlib.pyplot as plt\n",
    "import numpy as np\n",
    "import os\n",
    "import pandas as pd\n",
    "import tempfile\n",
    "import tensorflow as tf\n",
    "import xarray as xr\n",
    "\n",
    "from matplotlib.patches import Rectangle"
   ]
  },
  {
   "cell_type": "code",
   "execution_count": 3,
   "metadata": {
    "colab": {
     "base_uri": "https://localhost:8080/"
    },
    "id": "lbzRcP6uiQ0E",
    "outputId": "4a1219f4-6097-41e8-99cc-3f5dbf8f58ed"
   },
   "outputs": [
    {
     "name": "stdout",
     "output_type": "stream",
     "text": [
      "Mounted at /content/drive\n"
     ]
    }
   ],
   "source": [
    "from google.colab import drive\n",
    "drive.mount('/content/drive')\n",
    "\n",
    "SAVE_DIR = '/content/drive/MyDrive/ST456/'"
   ]
  },
  {
   "cell_type": "code",
   "execution_count": null,
   "metadata": {
    "id": "ASBvI0kRmu-a"
   },
   "outputs": [],
   "source": [
    "# Configure CDS API credentials for ERA5 data download:\n",
    "# This sets up authentication for the Climate Data Store (CDS) API by writing your API key to the default .cdsapirc file. API key removed for security.\n",
    "cds_url = \"https://cds.climate.copernicus.eu/api\"\n",
    "cds_key = \"x\"\n",
    "\n",
    "with open(\"/root/.cdsapirc\", \"w\") as f:\n",
    "    f.write(f\"url: {cds_url}\\n\")\n",
    "    f.write(f\"key: {cds_key}\")"
   ]
  },
  {
   "cell_type": "markdown",
   "metadata": {
    "id": "Exf03mfB4KMv"
   },
   "source": [
    "# Setup Data Pipeline\n",
    "\n",
    "This code segment is designed to download and preprocess climate data from the ERA5 reanalysis dataset for a specified year. It focuses on preparing the data for a forecasting task, specifically predicting the Standardized Precipitation-Evapotranspiration Index (SPEI) using various atmospheric variables as input features.\n",
    "\n",
    "Here's a step-by-step breakdown of what the code does:\n",
    "\n",
    "1.  **`download_era5_year(year, variable, area=None, max_days=31)`:**\n",
    "    * This function is the core of the data retrieval process. It takes the `year` for which data is needed, the specific `variable` (e.g., '2m\\_temperature', 'total\\_precipitation'), an optional `area` of interest (defined by \\[North, West, South, East] coordinates), and a `max_days` parameter (defaulting to 31 for padding purposes).\n",
    "    * It first maps user-friendly variable names to the abbreviations used in the ERA5 dataset.\n",
    "    * Then, it constructs a request to the CDS (Climate Data Store) API to download hourly data for all 12 months of the specified year for the given variable and area.\n",
    "    * For each month, it determines the actual number of days and creates a list of days. If a month has fewer days than `max_days`, the day list is padded by repeating the last day to ensure a consistent temporal dimension.\n",
    "    * It specifies the time range as all 24 hours of each day.\n",
    "    * The downloaded data is temporarily stored as a NetCDF file.\n",
    "    * The function then opens this NetCDF file using `xarray` and extracts the data for the requested `actual_variable`.\n",
    "    * Finally, it reshapes the downloaded hourly data into a 5D NumPy array with the shape `(12, max_days, 24, W_full, H_full)`, where the first dimension represents the months, the second the padded days, the third the hours, and the last two the spatial dimensions (width and height) of the ERA5 grid for the specified area (or globally if no area is given). Months with fewer than `max_days` will have the extra days padded with a value of -9999.\n",
    "\n",
    "2.  **`apply_aggregations(hourly_data, agg_list)`:**\n",
    "    * This utility function takes a 3D NumPy array representing 24 hours of data for a single day `(24, W, H)` and a list of aggregation functions (e.g., `['mean', 'max', 'min', 'sum']`).\n",
    "    * It applies each specified aggregation along the time axis (axis 0) and returns a dictionary where keys are the aggregation names and values are the resulting aggregated 2D arrays `(W, H)`.\n",
    "\n",
    "3.  **`pad_array_to_shape(arr, target_shape, pad_value=-9999)`:**\n",
    "    * This function takes a NumPy array `arr` and a `target_shape`. It pads the array with a specified `pad_value` (defaulting to -9999) along its trailing dimensions until it matches the `target_shape`. This is used to handle cases where spatial blocks at the edges of the domain might be smaller than the defined `block_width` and `block_height`.\n",
    "\n",
    "4.  **`get_era5_sample_coords(full_year_array, area=None)`:**\n",
    "    * This function extracts the latitude and longitude coordinates corresponding to the spatial dimensions of the downloaded ERA5 data.\n",
    "    * If an `area` was specified during the download, it calculates the latitude and longitude ranges and creates evenly spaced coordinates based on the ERA5's 0.25-degree resolution.\n",
    "    * If no `area` was specified, it assumes a global ERA5 grid and generates latitude coordinates from 90 to -90 and longitude coordinates from 0 to 359.75.\n",
    "    * It returns an `xarray` Dataset containing the 'lat' and 'lon' coordinates.\n",
    "\n",
    "5.  **`forecasting_generator(year, input_variables, target_variables, aggregation_dict, area, spei_data_path, max_days=31, block_width=None, block_height=None)`:**\n",
    "    * This is a generator function that yields pairs of input features (`X`) and target variables (`y`) for training a forecasting model. It processes the downloaded ERA5 data and the SPEI data to create these samples in spatial blocks.\n",
    "    * It first downloads the full year of hourly data for each `input_variable` using `download_era5_year`.\n",
    "    * It then loads the SPEI data from the specified `spei_data_path` (a NetCDF file) and selects the data for the target `year`.\n",
    "    * The SPEI data is then regridded (interpolated) to match the spatial grid of the ERA5 data using the coordinates obtained from `get_era5_sample_coords`.\n",
    "    * The code then iterates through consecutive month pairs (month `m` as input, month `m+1` as target).\n",
    "    * For each input variable and each day of the input month, it applies the aggregation functions specified in `aggregation_dict`.\n",
    "    * The daily aggregated data for all input variables is stacked together.\n",
    "    * The SPEI data for the *following* month (`m+1`) is used as the target. This target SPEI map is then repeated along the temporal dimension (`max_days`) to create a 4D target array.\n",
    "    * Both the input features and the target SPEI are then divided into spatial blocks of size `block_width` x `block_height`. If blocks at the edges are smaller, they are padded using `pad_array_to_shape`.\n",
    "    * Finally, for each spatial block, the generator yields a tuple `(X, y)`, where `X` contains the aggregated and blocked input features for the current month, and `y` contains the corresponding blocked SPEI data for the next month.\n",
    "\n",
    "6.  **`tf_monthly_dataset(year, input_variables, target_variables, aggregation_dict, area, spei_data_path, max_days=31, block_width=None, block_height=None)`:**\n",
    "    * This function takes the same parameters as `forecasting_generator` and wraps it into a `tensorflow.data.Dataset`.\n",
    "    * It defines a generator function `gen` that iterates through the `forecasting_generator`.\n",
    "    * It also defines the `output_signature` of the dataset, specifying the shape and data type of the yielded `X` and `y` tensors. The number of input channels in `X` is dynamically determined based on the number of input variables and the aggregations defined for each. The target `y` has a fixed number of channels (1 for SPEI).\n",
    "    * This function returns a `tf.data.Dataset` object, which is an efficient way to handle large datasets for training TensorFlow models.\n",
    "\n",
    "In summary, this code automates the process of downloading relevant climate variables from ERA5, aggregating them temporally, preparing corresponding SPEI target data, and organizing this data into manageable spatial blocks suitable for training a machine learning model to forecast SPEI."
   ]
  },
  {
   "cell_type": "code",
   "execution_count": null,
   "metadata": {
    "id": "BINwmdLrcIUv"
   },
   "outputs": [],
   "source": [
    "def download_era5_year(year, variable, area=None, max_days=31):\n",
    "    \"\"\"\n",
    "    Downloads a year's worth of ERA5 data for a given variable.\n",
    "    Returns a NumPy array of shape (12, max_days, 24, W_full, H_full) where for each month:\n",
    "      - Days beyond the natural count are padded to max_days with -9999.\n",
    "    \"\"\"\n",
    "    var_mapping = {\n",
    "        \"2m_temperature\": \"t2m\",\n",
    "        \"total_precipitation\": \"tp\",\n",
    "        \"evaporation\": \"e\",\n",
    "        \"2m_dewpoint_temperature\": \"d2m\",\n",
    "        \"skin_temperature\": \"skt\",\n",
    "        \"total_column_water_vapour\": \"tcwv\",\n",
    "        \"relative_humidity\": \"r\",\n",
    "        \"vertical_velocity\": \"w\",\n",
    "        \"total_cloud_cover\": \"tcc\"\n",
    "    }\n",
    "    actual_variable = var_mapping.get(variable, variable)\n",
    "\n",
    "    # Build request parameters for all 12 months.\n",
    "    month_list = [str(m).zfill(2) for m in range(1, 13)]\n",
    "    day_list = []\n",
    "    for m in range(1, 13):\n",
    "        _, last_day = calendar.monthrange(year, m)\n",
    "        days = [str(d).zfill(2) for d in range(1, last_day + 1)]\n",
    "        if last_day < max_days:\n",
    "            days.extend([str(last_day).zfill(2)] * (max_days - last_day))\n",
    "        day_list.extend(days)\n",
    "\n",
    "    times = [f\"{str(h).zfill(2)}:00\" for h in range(24)]\n",
    "\n",
    "    request_params = {\n",
    "        'product_type': 'reanalysis',\n",
    "        'variable': variable,\n",
    "        'year': str(year),\n",
    "        'month': month_list,\n",
    "        'day': day_list,\n",
    "        'time': times,\n",
    "        'format': 'netcdf'\n",
    "    }\n",
    "    if area is not None:\n",
    "        request_params['area'] = area\n",
    "\n",
    "    with tempfile.NamedTemporaryFile(suffix='.nc', delete=False) as tmp:\n",
    "        temp_filename = tmp.name\n",
    "\n",
    "    try:\n",
    "        c = cdsapi.Client()\n",
    "        c.retrieve('reanalysis-era5-single-levels', request_params, temp_filename)\n",
    "        with xr.open_dataset(temp_filename) as ds:\n",
    "            if actual_variable not in ds:\n",
    "                raise KeyError(f\"Expected variable '{actual_variable}' not found. Available: {list(ds.variables.keys())}\")\n",
    "            data = ds[actual_variable].load()  # shape: (total_hours, W_full, H_full)\n",
    "    finally:\n",
    "        if os.path.exists(temp_filename):\n",
    "            os.remove(temp_filename)\n",
    "\n",
    "    # Reshape flat time dimension into (12, max_days, 24, W_full, H_full)\n",
    "    months_data = []\n",
    "    current = 0\n",
    "\n",
    "    for m in range(1, 13):\n",
    "        _, last_day = calendar.monthrange(year, m)\n",
    "        hours_count = last_day * 24\n",
    "        month_chunk = data.values[current:current + hours_count]\n",
    "        current += hours_count\n",
    "        # Reshape to (last_day, 24, W_full, H_full)\n",
    "        month_chunk = month_chunk.reshape((last_day, 24) + data.shape[1:])\n",
    "        if last_day < max_days:\n",
    "            padded = np.full((max_days, 24) + data.shape[1:], -9999, dtype=np.float32)\n",
    "            padded[:last_day] = month_chunk\n",
    "            month_chunk = padded\n",
    "        months_data.append(month_chunk)\n",
    "    year_data = np.stack(months_data, axis=0)  # shape: (12, max_days, 24, W_full, H_full)\n",
    "\n",
    "    return year_data"
   ]
  },
  {
   "cell_type": "code",
   "execution_count": null,
   "metadata": {
    "id": "0HwQAFUCcL0M"
   },
   "outputs": [],
   "source": [
    "def apply_aggregations(hourly_data, agg_list):\n",
    "    \"\"\"\n",
    "    Apply a list of aggregation functions to the hourly data.\n",
    "\n",
    "    Parameters:\n",
    "      hourly_data (np.array): Array containing 24 hours of data with shape (24, W, H).\n",
    "      agg_list (list of str): List of aggregations, e.g., ['mean', 'max', 'min'].\n",
    "\n",
    "    Returns:\n",
    "      dict: A dictionary mapping each aggregation name (e.g., 'mean') to the aggregated result.\n",
    "    \"\"\"\n",
    "    results = {}\n",
    "    for agg in agg_list:\n",
    "        if agg == 'mean':\n",
    "            results['mean'] = np.mean(hourly_data, axis=0)\n",
    "        elif agg == 'max':\n",
    "            results['max'] = np.max(hourly_data, axis=0)\n",
    "        elif agg == 'min':\n",
    "            results['min'] = np.min(hourly_data, axis=0)\n",
    "        elif agg == 'sum':\n",
    "            results['sum'] = np.sum(hourly_data, axis=0)\n",
    "        else:\n",
    "            raise ValueError(f\"Unsupported aggregation function: {agg}\")\n",
    "    return results"
   ]
  },
  {
   "cell_type": "code",
   "execution_count": null,
   "metadata": {
    "id": "030VObVucPUN"
   },
   "outputs": [],
   "source": [
    "def pad_array_to_shape(arr, target_shape, pad_value=-9999):\n",
    "    \"\"\"\n",
    "    Pads a numpy array 'arr' to exactly match 'target_shape' along its last dimensions.\n",
    "    Assumes arr.shape is smaller than or equal to target_shape elementwise.\n",
    "    Padding is applied at the end along each axis.\n",
    "    \"\"\"\n",
    "    pad_width = []\n",
    "    for cur, target in zip(arr.shape, target_shape):\n",
    "        pad = target - cur\n",
    "        if pad < 0:\n",
    "            raise ValueError(\"Current shape is larger than target shape.\")\n",
    "        pad_width.append((0, pad))\n",
    "    return np.pad(arr, pad_width, mode='constant', constant_values=pad_value)"
   ]
  },
  {
   "cell_type": "code",
   "execution_count": null,
   "metadata": {
    "id": "kbom0g7qcQpb"
   },
   "outputs": [],
   "source": [
    "def get_era5_sample_coords(full_year_array, area=None):\n",
    "    \"\"\"\n",
    "    Extract lat/lon coordinates from ERA5 data array.\n",
    "\n",
    "    This function is specifically tailored to work with the data structure\n",
    "    returned by the download_era5_year function.\n",
    "\n",
    "    Args:\n",
    "        full_year_array: The ERA5 data array with shape (12, max_days, 24, W, H)\n",
    "        area: The area specification used when downloading ERA5 data\n",
    "             Format: [North, West, South, East]\n",
    "\n",
    "    Returns:\n",
    "        An xarray Dataset with lat/lon coordinates matching ERA5 grid\n",
    "    \"\"\"\n",
    "    import xarray as xr\n",
    "    import numpy as np\n",
    "\n",
    "    # Extract the spatial dimensions from the array\n",
    "    _, _, _, W, H = full_year_array.shape\n",
    "\n",
    "    # If area was specified in the download, use it to create coordinates\n",
    "    if area is not None:\n",
    "        north, west, south, east = area\n",
    "\n",
    "        # ERA5 standard resolution is 0.25 degrees\n",
    "        resolution = 0.25\n",
    "\n",
    "        # Calculate number of grid points\n",
    "        # North to South (latitude decreases)\n",
    "        n_lat = int(round((north - south) / resolution)) + 1\n",
    "        # West to East (longitude increases)\n",
    "        n_lon = int(round((east - west) / resolution)) + 1\n",
    "\n",
    "        # Create evenly spaced coordinates\n",
    "        lats = np.linspace(north, south, H)  # Using H as the actual dimension size\n",
    "        lons = np.linspace(west, east, W)    # Using W as the actual dimension size\n",
    "\n",
    "    else:\n",
    "        # If no area was specified, assume global ERA5 grid\n",
    "        lats = np.linspace(90, -90, H)  # ERA5 goes from North to South\n",
    "        lons = np.linspace(0, 359.75, W)  # ERA5 goes from 0 to 359.75\n",
    "\n",
    "    return xr.Dataset(coords={'lat': lats, 'lon': lons})"
   ]
  },
  {
   "cell_type": "code",
   "execution_count": null,
   "metadata": {
    "id": "PdPSp6JCcTWn"
   },
   "outputs": [],
   "source": [
    "def forecasting_generator(year, input_variables, target_variables,\n",
    "                          aggregation_dict, area, spei_data_path,\n",
    "                          max_days=31, block_width=None, block_height=None):\n",
    "    \"\"\"\n",
    "    Yields one (X, y) sample per spatial block per consecutive month pair for a given year,\n",
    "    where each spatial block is of a fixed size (block_width x block_height).\n",
    "\n",
    "    The input variables are loaded from ERA5 (hourly, then aggregated to daily).\n",
    "    The target variable 'spei' is loaded from a NetCDF file and sliced into months.\n",
    "\n",
    "    Full-year data for each input variable is pre-downloaded (shape: (12, max_days, 24, W, H)).\n",
    "    The SPEI target has shape: (time: months, lat, lon).\n",
    "\n",
    "    The yielded sample has:\n",
    "      - X: (max_days, block_width, block_height, num_input_aggregations_total)\n",
    "      - y: (max_days, block_width, block_height, 1)\n",
    "    \"\"\"\n",
    "\n",
    "    import numpy as np\n",
    "    import copy\n",
    "    import xarray as xr\n",
    "\n",
    "    if block_width is None or block_height is None:\n",
    "        raise ValueError(\"Both block_width and block_height must be provided.\")\n",
    "\n",
    "    # Load full-year input data from ERA5\n",
    "    input_data_year = {}\n",
    "    for var in input_variables:\n",
    "        input_data_year[var] = download_era5_year(year, var, area=area, max_days=max_days)\n",
    "\n",
    "    # Get full spatial dimensions and coordinates from one of the ERA5 arrays\n",
    "    sample_var = input_variables[0]\n",
    "    full_year_array = input_data_year[sample_var]\n",
    "    _, _, _, W_full, H_full = full_year_array.shape  # (12, max_days, 24, W, H)\n",
    "\n",
    "    # Load SPEI from NetCDF\n",
    "    ds_spei = xr.open_dataset(spei_data_path)\n",
    "    ds_spei = ds_spei.sel(time=str(year))  # select only the target year\n",
    "\n",
    "    # Create a reference ERA5 dataset with the same grid for regridding\n",
    "    # First, get the lat/lon coordinates from ERA5 (replace with your actual method)\n",
    "    era5_sample = get_era5_sample_coords(full_year_array, area)  # This function needs to be implemented\n",
    "\n",
    "    # Regrid SPEI data to match ERA5 grid\n",
    "    # This assumes ds_spei has 'lat' and 'lon' coordinates\n",
    "    regridded_spei = ds_spei.interp(lat=era5_sample.lat, lon=era5_sample.lon)\n",
    "    spei_data = regridded_spei['spei'].values  # shape: (12, lat matching ERA5, lon matching ERA5)\n",
    "\n",
    "    # Verify the shapes match the expected ERA5 spatial dimensions\n",
    "    if spei_data.shape[1:] != (W_full, H_full):\n",
    "        # Handle potential dimensions mismatch - may need to transpose or reshape\n",
    "        # This depends on your specific data format\n",
    "        print(f\"Warning: SPEI dimensions {spei_data.shape[1:]} don't match ERA5 dimensions {(W_full, H_full)}\")\n",
    "        # You might need to transpose or reshape based on your specific case\n",
    "        if spei_data.shape[1] == H_full and spei_data.shape[2] == W_full:\n",
    "            spei_data = np.transpose(spei_data, (0, 2, 1))\n",
    "\n",
    "    for m in range(0, 11):  # loop over month pairs\n",
    "        # ------- Input Processing -------\n",
    "        X_aggregated = {}\n",
    "        for var in input_variables:\n",
    "            month_chunk = input_data_year[var][m]\n",
    "            agg_funcs = aggregation_dict.get(var, [])\n",
    "            daily_list = []\n",
    "            for day in range(max_days):\n",
    "                day_data = month_chunk[day].astype(np.float32)\n",
    "                agg_results = apply_aggregations(day_data, agg_funcs)\n",
    "                sorted_keys = sorted(agg_results.keys())\n",
    "                day_aggregated = np.stack([agg_results[k] for k in sorted_keys], axis=-1)\n",
    "                daily_list.append(day_aggregated)\n",
    "            X_aggregated[var] = np.stack(daily_list, axis=0)\n",
    "\n",
    "        # ------- Target Processing (SPEI from month m+1) -------\n",
    "        try:\n",
    "            spei_target = spei_data[m+1]  # shape: (lat, lon)\n",
    "        except IndexError:\n",
    "            print(f\"Warning: No SPEI data available for month {m+1}. Skipping this month pair.\")\n",
    "            continue\n",
    "\n",
    "        # Broadcast SPEI to (max_days, W_full, H_full, 1)\n",
    "        y_full = np.repeat(spei_target[np.newaxis, :, :, np.newaxis], max_days, axis=0)\n",
    "\n",
    "        # ------- Slice into blocks -------\n",
    "        X_blocks = {}\n",
    "        for var, agg_array in X_aggregated.items():\n",
    "            for j in range(0, W_full, block_width):\n",
    "                for i in range(0, H_full, block_height):\n",
    "                    block = agg_array[:, j:j+block_width, i:i+block_height, :]\n",
    "                    if block.shape[1] < block_width or block.shape[2] < block_height:\n",
    "                        block = pad_array_to_shape(block, (max_days, block_width, block_height, block.shape[-1]), pad_value=-9999)\n",
    "                    key = f\"{var}_block_{j}_{i}\"\n",
    "                    X_blocks[key] = block\n",
    "\n",
    "        y_blocks = {}\n",
    "        for j in range(0, W_full, block_width):\n",
    "            for i in range(0, H_full, block_height):\n",
    "                block = y_full[:, j:j+block_width, i:i+block_height, :]\n",
    "                if block.shape[1] < block_width or block.shape[2] < block_height:\n",
    "                    block = pad_array_to_shape(block, (max_days, block_width, block_height, 1), pad_value=-9999)\n",
    "                key = f\"spei_block_{j}_{i}\"\n",
    "                y_blocks[key] = block\n",
    "\n",
    "        sorted_input_vars = sorted(input_variables)\n",
    "        for j in range(0, W_full, block_width):\n",
    "            for i in range(0, H_full, block_height):\n",
    "                input_block_list = []\n",
    "                for var in sorted_input_vars:\n",
    "                    input_block_list.append(X_blocks[f\"{var}_block_{j}_{i}\"])\n",
    "                X = np.concatenate(input_block_list, axis=-1)\n",
    "\n",
    "                y = y_blocks[f\"spei_block_{j}_{i}\"]\n",
    "                yield X, y"
   ]
  },
  {
   "cell_type": "code",
   "execution_count": null,
   "metadata": {
    "id": "FZfyjyLwcWW3"
   },
   "outputs": [],
   "source": [
    "def tf_monthly_dataset(year, input_variables, target_variables, aggregation_dict,\n",
    "                       area, spei_data_path, max_days=31, block_width=None, block_height=None):\n",
    "    \"\"\"\n",
    "    Wrap the generator into a tf.data.Dataset with dynamic channel dimensions.\n",
    "    \"\"\"\n",
    "    import tensorflow as tf\n",
    "    import numpy as np\n",
    "\n",
    "    # Compute number of input and target channels\n",
    "    input_channels = sum(len(aggregation_dict.get(var, [])) for var in input_variables)\n",
    "    # The target variable is SPEI, which has 1 channel.\n",
    "    target_channels = 1  # Fixed to 1 for SPEI\n",
    "\n",
    "    def gen():\n",
    "        for X, y in forecasting_generator(year, input_variables, target_variables,\n",
    "                          aggregation_dict, area, spei_data_path,\n",
    "                          max_days, block_width, block_height):\n",
    "            yield X.astype(np.float32), y.astype(np.float32)\n",
    "\n",
    "    output_signature = (\n",
    "        tf.TensorSpec(shape=(max_days, block_width, block_height, input_channels), dtype=tf.float32),\n",
    "        tf.TensorSpec(shape=(max_days, block_width, block_height, target_channels), dtype=tf.float32)\n",
    "    )\n",
    "    return tf.data.Dataset.from_generator(gen, output_signature=output_signature)"
   ]
  },
  {
   "cell_type": "code",
   "execution_count": null,
   "metadata": {
    "id": "Q2CgKsU3dN3K"
   },
   "outputs": [],
   "source": [
    "input_variables = [\n",
    "    '2m_temperature',\n",
    "    'total_precipitation',\n",
    "    'evaporation',\n",
    "    '2m_dewpoint_temperature',\n",
    "    'skin_temperature',\n",
    "    'total_column_water_vapour',\n",
    "    'total_cloud_cover'\n",
    "]\n",
    "\n",
    "target_variables = [\n",
    "    '2m_temperature',\n",
    "    'total_precipitation',\n",
    "    'evaporation',\n",
    "    '2m_dewpoint_temperature',\n",
    "    'skin_temperature',\n",
    "    'total_column_water_vapour',\n",
    "    'total_cloud_cover'\n",
    "]\n",
    "\n",
    "aggregation_dict = {\n",
    "    '2m_temperature': ['mean', 'min', 'max'],\n",
    "    '2m_dewpoint_temperature': ['mean', 'min', 'max'],\n",
    "    'skin_temperature': ['mean', 'min', 'max'],\n",
    "    'total_precipitation': ['sum'],\n",
    "    'evaporation': ['sum'],\n",
    "    'total_column_water_vapour': ['sum'],\n",
    "    'total_cloud_cover': ['sum'],\n",
    "}\n",
    "\n",
    "area = [-20.5, 120.0, -31.0, 148.0]\n",
    "max_days = 31  # Padded days per month\n",
    "\n",
    "train_years = [1999, 2000, 2001]\n",
    "test_year = 2002\n",
    "\n",
    "block_width = 20\n",
    "block_height = 20\n",
    "\n",
    "spei_data_path = '/content/drive/MyDrive/ST456/spei01.nc'"
   ]
  },
  {
   "cell_type": "markdown",
   "metadata": {
    "id": "-hsb8GOk2dhV"
   },
   "source": [
    "The geographic region selected for drought prediction spans from latitude –20.5° to –31.0° and longitude 120.0° to 148.0°, covering a significant portion of central Australia. This area was carefully chosen to avoid coastal boundaries and large bodies of water, ensuring that model training is focused on land-based climate dynamics relevant to agricultural and ecological drought. The region is representative of arid and semi-arid zones, making it a suitable testbed for SPEI-based drought forecasting. The figure below highlights the exact area used for model input and evaluation.\n"
   ]
  },
  {
   "cell_type": "code",
   "execution_count": null,
   "metadata": {
    "colab": {
     "base_uri": "https://localhost:8080/",
     "height": 835
    },
    "id": "0_uaJYBD2dEU",
    "outputId": "ce05e08a-e3a0-4c7b-eb65-8b9772ae77a0"
   },
   "outputs": [
    {
     "data": {
      "image/png": "[encoded data removed]",
      "text/plain": [
       "<Figure size 1000x800 with 1 Axes>"
      ]
     },
     "metadata": {},
     "output_type": "display_data"
    },
    {
     "data": {
      "text/plain": [
       "<Figure size 640x480 with 0 Axes>"
      ]
     },
     "metadata": {},
     "output_type": "display_data"
    }
   ],
   "source": [
    "fig = plt.figure(figsize=(10, 8))\n",
    "ax = plt.axes(projection=ccrs.PlateCarree())\n",
    "\n",
    "# Set map extent to show all of Australia\n",
    "ax.set_extent([110, 155, -45, -10], crs=ccrs.PlateCarree())\n",
    "\n",
    "# Add geographic features\n",
    "ax.add_feature(cfeature.LAND, facecolor='lightgray')\n",
    "ax.add_feature(cfeature.COASTLINE, linewidth=0.7)\n",
    "ax.add_feature(cfeature.BORDERS, linestyle=':', edgecolor='gray')\n",
    "\n",
    "# Model prediction area\n",
    "rect = Rectangle(\n",
    "    (area[1], area[2]),               # (longitude, latitude)\n",
    "    area[3] - area[1],                # width (longitude span)\n",
    "    area[0] - area[2],                # height (latitude span)\n",
    "    linewidth=2.5,\n",
    "    edgecolor='red',\n",
    "    facecolor='red',\n",
    "    alpha=0.2,\n",
    "    transform=ccrs.PlateCarree(),\n",
    "    label='Model Prediction Area'\n",
    ")\n",
    "ax.add_patch(rect)\n",
    "\n",
    "gl = ax.gridlines(draw_labels=True, linewidth=0.5, color='gray', alpha=0.5, linestyle='--')\n",
    "gl.top_labels = False\n",
    "gl.right_labels = False\n",
    "\n",
    "plt.title(\"Model Prediction Region in Australia\", fontsize=16, pad=15)\n",
    "plt.legend(loc='lower right', fontsize=12)\n",
    "\n",
    "plt.tight_layout()\n",
    "plt.show()\n",
    "\n",
    "plt.savefig(\"prediction_region_map.png\", dpi=300, bbox_inches='tight')\n"
   ]
  },
  {
   "cell_type": "code",
   "execution_count": null,
   "metadata": {
    "colab": {
     "base_uri": "https://localhost:8080/",
     "height": 1000,
     "referenced_widgets": [
      "6ab8a35f7a07438d9cbdc924fb9cd48c",
      "9dcf6193791a4b53849b875e9e35dcd4",
      "447e24bc3f5e427cb754bd82d4e53002",
      "61e954fd99bb4536ab0717b04f3e9354",
      "f73adb02fe2c456f9485a7185c10f1f9",
      "971c0a4a6e2f4845b54598b852dd295b",
      "2172465281a440c6bc426dd419b1be09",
      "b6fd641761c1423f9672d759ff46ef45",
      "1375768c06f24701ab1782a629edc3d2",
      "63a5bd6c71a249ba8d25cb6d85f34490",
      "2c777e12ba1642c49bd10861880dd9c5",
      "aedc84a1d7c744c2a1a48f8055fba08c",
      "17f5f7674863457dbe2bed6fc1114444",
      "980373aac7864aabb6fff9ba36d00cbb",
      "cd156b2c30114eac9b669ee9a5481b07",
      "5864758fe51547048621f155a6af3be4",
      "43222942bc1c40798e395118e135a6fd",
      "fce42ad85d694d1fa3e22a6fcf2c3067",
      "a9bfd883ac494f67838b610d324e37d7",
      "b34e885d34cb42d9a145be8e84156118",
      "d05d9e63b03748978890cfbc18d303df",
      "dc9f1ccc221e4f518d0d179303968145",
      "e508c0b9752248a688f5f18aea4959f8",
      "06188f18ff544cb4967630cbde6759a4",
      "f2fc43cb72104577aff3a5e07635db32",
      "a2c27063519f4e4086d671e6eb8f5393",
      "f6027e7ed878484081be630b4609760c",
      "733e1808a52d414896dd7eb695b7f711",
      "f07b5c986df3472b93cec20779b4de06",
      "25b23e9e01b3454cab3861e30754f1da",
      "a53ca862a09c4078a0cdbc99f065f6a0",
      "b838220366f043078b8f1a60b78d9092",
      "cd03c8bd2f7b402fbbb3a64818396d0d",
      "c2df8d6639e6473abc34dccecc04d5cd",
      "37813504bbc6447facad3b585759f920",
      "4052ab7378774e56af3bbb990b80e34c",
      "9062bd03a3e04dc8981a386586ca9210",
      "6ebb216c393144fdae73a95547c57009",
      "a8af4ca8f52c430b88642c28c26c2ad6",
      "945819c54b2c4ed4b807be28a7a2e1bc",
      "fec434b64ecf461eaddf58e5d46718ee",
      "ca023b4dc90446f49d7ff1fbd90e6df0",
      "fa04019026a44d72a2c30259c701574b",
      "c743050462cf4a13a4983a0474639b86",
      "8fd0d4ed4d8d40879b11771d6879d1bf",
      "8119cd799729441dbe314a88656bf2ff",
      "1fd43d84c4c24be58e771beababe7099",
      "f265ead2539f4b119ccd69782b68de32",
      "70a1ea28a4154ab4ae6173556a761140",
      "ac993cd8f7404ef5853f79f6b56f3323",
      "c014dc687805427f880f35a388bc197d",
      "5fa01df63d0d4769a772e225bfd90d5f",
      "10f0ef730421462e9b6af4c3a6db4ab0",
      "2b5d6f7c54774a96bf15af7cb3a79f31",
      "9ae2143e14f940d3afaf4dc7f4d00b27",
      "e14eea6556134b5282faf7405f9159cb",
      "807b95ec9cc44d399e32377a1a5e5319",
      "14aa321837424658b8b8cf297ffe42ae",
      "28fcd767a2744c7f9d865ccc7a77b394",
      "625d55dfba334d56b29fcdc31d74fd42",
      "233bf50a50904be6974aefb48292e87b",
      "1f3111b9d6f94fb9b11b4741815ddb2a",
      "6a292d1680d04a779650e80cd6baa82c",
      "c7ca92d1a1b649e8afb423707df4fdb8",
      "d012bf8fec4745f18948179f3030248a",
      "8e4fc2c7191344f3ba1be83d60a399dc",
      "99e11be0f673436297328e12f1910236",
      "7fb62f90a334424b8bee84325c0a6713",
      "864b533f4a07490d8887f3b3751523d5",
      "a7085ad336a94b7bbb0b6a35886933d3",
      "c3f873ddf3e34ff19661d665a1bb4414",
      "3cfc902e50fe458d9ff9d95866ed2ac0",
      "4d49c2460ba644379806ea4a52f78a3a",
      "7d8b9ea86907465fba30f305c72cd207",
      "ebe9484fc84f4dfb975cacc06516a2b2",
      "35b01ec8bfe24988b6fff136b9da8d64",
      "be178346e0914608af6454009a2c550d",
      "a29776dce8344e12a133e37872f83990",
      "23c3f17b391f4161a26671b8ef9d711c",
      "e69aa147bf6e4a24977e78490bb6b8de",
      "9c4ec54f076c4c669498b3f6c673587c",
      "8dc4c6aa4ddb4f52a02255750592a9dd",
      "60343d908e974531bbed19b2748ba114",
      "9a321e6be7674e5a8b62521b9371c1d0",
      "389b6f34886940da82ee7940cac3b210",
      "f8e26e184da543eb8406fe41a2390cac",
      "bff518dbeef04f9aae5efcd04a768543",
      "15b090a8535b4ccba00dd8f00d2eba45",
      "72f3b6ebdfa84d4eaf88c6c10a5cc809",
      "bd97a61d39bf4c63a2d6717a85529f58",
      "d1e21ce2d9ad4e05bd30f46d00989669",
      "1764de34f69849b089e252bd9bbb3673",
      "45bcb7cbf957461ba4a7ea0b561067c9",
      "c95bab9bf6c34a759cff2d78272ba317",
      "040586f85dbe41a1b0a643538ee6603f",
      "a8cf1cdc73424b3ebaf0e1fd130d864a",
      "e418598e63ca4d4683b4243ff9051bfe",
      "d148d2989b5e414aa99528535801b041",
      "df9a9bce9c0e4bbb970b02782a1b9963",
      "3c050af47be24c1d87bbeb423852a082",
      "770f19776a874a2eabaeeb56fd912f15",
      "e9576e59bb0e45d5945c3aed61261cfe",
      "8ea06f820d0441e5abac4c2f04eb0858",
      "b4d924385dca42779949dd3d4ef99864",
      "e5aa7eeb571a49b4a94be64821d92d29",
      "cdd45cf6ac77427fbba3e3bc0aa6d8f2",
      "93cd9a4bac5548da922ae33bdb911642",
      "96ce0f95e0244abc9e9aa4f6bef0c07d",
      "893d662efe77444890c46d908e4f913e",
      "8584767565934bb5a2e2196e74cff56b",
      "dcad91344e244eacbd62294b5395c39c",
      "7feedf0af1634bb7a8114e96e541ab7b",
      "33439f437407413891077672ccac05ee",
      "5ef1057d5f1741cda6f0857cff004848",
      "057d9039216f4764a10aa6a86bc618b2",
      "7bab73db07a94956a1395632b86a0300",
      "a41042cb244443b1a63d9f833c13afca",
      "233afb9df9b4476da3ab553c89ec80e6",
      "5ba37ad66e2a4fe8856a1c2e26f0d611",
      "f8d792069fa14e26bb417c32508e1640",
      "cd8d2cf528844023bcc2a965a6866fce",
      "83a31bb084384964b5b45e310fbdf2e1",
      "fa9a22ba05a84d169937b6200eacdbae",
      "e9ba5658a86f436aa08fb2f2daee4720",
      "4b72645bd91b494f91ea05a741edd4e4",
      "89a83a395be347b2b86c39189f12e33c",
      "133c4741f14d495a9437541dcfe6941f",
      "5ffe073e204a4a2c9d5b3d14c54db04f",
      "9fcad75c2ae34b72ae4da4eb3b1fa29d",
      "68cfff94aae54d95963bc23232cc7be7",
      "f636922128ef4292b04e0478610182f1",
      "62c368ea91cd44619c4473f4b8492631",
      "ed960ace8e89442ba10c75028b896a11",
      "dc6f7781e54d466b958d0a321d10e979",
      "c5851b15c5e14f299a87026bfe9b0315",
      "171fcea3721543e6a53017a3e33f787c",
      "d62f3b73c70f41bd8d892279dc103865",
      "53ca8460481a46a59c8ba69542883746",
      "6c53a801f54b4d21b3f2a1ae3ecd5a51",
      "348ca5f3e7d04af6b7781adb84f174a4",
      "9b95117f8bac48d7be0d17064d3195e9",
      "4dd4b02025f548139f6e47fec45db898",
      "638fc1bd39a24dd9bff07fa1c802fd27",
      "afc7006ae6b546ee9226b148484157d1",
      "5f01b84b4e7742f6a0ef0fb1072483c5",
      "dce7238063374acb80c91ef1529713e9",
      "448ab7266c4646d88a40eeac35088b01",
      "56fb9628b696448bb3b0a7f7ec647b2e",
      "b3376823ba8440e1b1c0ba4659840f49",
      "b05bc07aa9464226bf0794d536368405",
      "be60a49950594d93a92c7c6ddeff5ae8",
      "aed8250366cd4a5388159c22ec3213ec",
      "ec08411cfc6c41218c48dea0370a5a7f",
      "e75a7a73f02f4b32a8adbb8677162a9e"
     ]
    },
    "collapsed": true,
    "id": "kiiYuicDxjfI",
    "outputId": "180f832d-eb95-403a-a09c-5ef6c8d73fd1"
   },
   "outputs": [
    {
     "name": "stderr",
     "output_type": "stream",
     "text": [
      "2025-04-29 13:45:19,056 WARNING [2025-04-29T00:00:00] Multiple maintenance sessions are planned this week, which may affect data downloads and other services. Check [here](https://status.ecmwf.int/) for status updates.\n",
      "WARNING:datapi.legacy_api_client:[2025-04-29T00:00:00] Multiple maintenance sessions are planned this week, which may affect data downloads and other services. Check [here](https://status.ecmwf.int/) for status updates.\n",
      "2025-04-29 13:45:19,058 INFO [2024-09-26T00:00:00] Watch our [Forum](https://forum.ecmwf.int/) for Announcements, news and other discussed topics.\n",
      "INFO:datapi.legacy_api_client:[2024-09-26T00:00:00] Watch our [Forum](https://forum.ecmwf.int/) for Announcements, news and other discussed topics.\n",
      "2025-04-29 13:45:19,059 WARNING [2024-06-16T00:00:00] CDS API syntax is changed and some keys or parameter names may have also changed. To avoid requests failing, please use the \"Show API request code\" tool on the dataset Download Form to check you are using the correct syntax for your API request.\n",
      "WARNING:datapi.legacy_api_client:[2024-06-16T00:00:00] CDS API syntax is changed and some keys or parameter names may have also changed. To avoid requests failing, please use the \"Show API request code\" tool on the dataset Download Form to check you are using the correct syntax for your API request.\n",
      "2025-04-29 13:45:19,989 INFO Request ID is 49c657af-edf5-4541-9f68-5217a15e26c8\n",
      "INFO:datapi.legacy_api_client:Request ID is 49c657af-edf5-4541-9f68-5217a15e26c8\n",
      "2025-04-29 13:45:20,243 INFO status has been updated to accepted\n",
      "INFO:datapi.legacy_api_client:status has been updated to accepted\n",
      "2025-04-29 13:48:14,922 INFO status has been updated to successful\n",
      "INFO:datapi.legacy_api_client:status has been updated to successful\n"
     ]
    },
    {
     "data": {
      "application/vnd.jupyter.widget-view+json": {
       "model_id": "6ab8a35f7a07438d9cbdc924fb9cd48c",
       "version_major": 2,
       "version_minor": 0
      },
      "text/plain": [
       "84265051c34320e43a3b4e82bc348867.nc:   0%|          | 0.00/78.5M [00:00<?, ?B/s]"
      ]
     },
     "metadata": {},
     "output_type": "display_data"
    },
    {
     "name": "stderr",
     "output_type": "stream",
     "text": [
      "2025-04-29 13:48:31,451 WARNING [2025-04-29T00:00:00] Multiple maintenance sessions are planned this week, which may affect data downloads and other services. Check [here](https://status.ecmwf.int/) for status updates.\n",
      "WARNING:datapi.legacy_api_client:[2025-04-29T00:00:00] Multiple maintenance sessions are planned this week, which may affect data downloads and other services. Check [here](https://status.ecmwf.int/) for status updates.\n",
      "2025-04-29 13:48:31,452 INFO [2024-09-26T00:00:00] Watch our [Forum](https://forum.ecmwf.int/) for Announcements, news and other discussed topics.\n",
      "INFO:datapi.legacy_api_client:[2024-09-26T00:00:00] Watch our [Forum](https://forum.ecmwf.int/) for Announcements, news and other discussed topics.\n",
      "2025-04-29 13:48:31,454 WARNING [2024-06-16T00:00:00] CDS API syntax is changed and some keys or parameter names may have also changed. To avoid requests failing, please use the \"Show API request code\" tool on the dataset Download Form to check you are using the correct syntax for your API request.\n",
      "WARNING:datapi.legacy_api_client:[2024-06-16T00:00:00] CDS API syntax is changed and some keys or parameter names may have also changed. To avoid requests failing, please use the \"Show API request code\" tool on the dataset Download Form to check you are using the correct syntax for your API request.\n",
      "2025-04-29 13:48:32,654 INFO Request ID is 667379a2-0274-427f-984d-2765ace14521\n",
      "INFO:datapi.legacy_api_client:Request ID is 667379a2-0274-427f-984d-2765ace14521\n",
      "2025-04-29 13:48:32,913 INFO status has been updated to accepted\n",
      "INFO:datapi.legacy_api_client:status has been updated to accepted\n",
      "2025-04-29 13:48:55,552 INFO status has been updated to running\n",
      "INFO:datapi.legacy_api_client:status has been updated to running\n",
      "2025-04-29 13:49:07,191 INFO status has been updated to successful\n",
      "INFO:datapi.legacy_api_client:status has been updated to successful\n"
     ]
    },
    {
     "data": {
      "application/vnd.jupyter.widget-view+json": {
       "model_id": "aedc84a1d7c744c2a1a48f8055fba08c",
       "version_major": 2,
       "version_minor": 0
      },
      "text/plain": [
       "b04e6dbf4e40abc36c70b895fdb65eed.nc:   0%|          | 0.00/18.9M [00:00<?, ?B/s]"
      ]
     },
     "metadata": {},
     "output_type": "display_data"
    },
    {
     "name": "stderr",
     "output_type": "stream",
     "text": [
      "2025-04-29 13:49:14,305 WARNING [2025-04-29T00:00:00] Multiple maintenance sessions are planned this week, which may affect data downloads and other services. Check [here](https://status.ecmwf.int/) for status updates.\n",
      "WARNING:datapi.legacy_api_client:[2025-04-29T00:00:00] Multiple maintenance sessions are planned this week, which may affect data downloads and other services. Check [here](https://status.ecmwf.int/) for status updates.\n",
      "2025-04-29 13:49:14,306 INFO [2024-09-26T00:00:00] Watch our [Forum](https://forum.ecmwf.int/) for Announcements, news and other discussed topics.\n",
      "INFO:datapi.legacy_api_client:[2024-09-26T00:00:00] Watch our [Forum](https://forum.ecmwf.int/) for Announcements, news and other discussed topics.\n",
      "2025-04-29 13:49:14,307 WARNING [2024-06-16T00:00:00] CDS API syntax is changed and some keys or parameter names may have also changed. To avoid requests failing, please use the \"Show API request code\" tool on the dataset Download Form to check you are using the correct syntax for your API request.\n",
      "WARNING:datapi.legacy_api_client:[2024-06-16T00:00:00] CDS API syntax is changed and some keys or parameter names may have also changed. To avoid requests failing, please use the \"Show API request code\" tool on the dataset Download Form to check you are using the correct syntax for your API request.\n",
      "2025-04-29 13:49:15,466 INFO Request ID is c84d7089-87ef-4291-80ff-711a16ec89a0\n",
      "INFO:datapi.legacy_api_client:Request ID is c84d7089-87ef-4291-80ff-711a16ec89a0\n",
      "2025-04-29 13:49:15,707 INFO status has been updated to accepted\n",
      "INFO:datapi.legacy_api_client:status has been updated to accepted\n",
      "2025-04-29 13:49:38,813 INFO status has been updated to running\n",
      "INFO:datapi.legacy_api_client:status has been updated to running\n",
      "2025-04-29 13:49:50,616 INFO status has been updated to successful\n",
      "INFO:datapi.legacy_api_client:status has been updated to successful\n"
     ]
    },
    {
     "data": {
      "application/vnd.jupyter.widget-view+json": {
       "model_id": "e508c0b9752248a688f5f18aea4959f8",
       "version_major": 2,
       "version_minor": 0
      },
      "text/plain": [
       "7117fa25cc933b200d335d48ba99907c.nc:   0%|          | 0.00/102M [00:00<?, ?B/s]"
      ]
     },
     "metadata": {},
     "output_type": "display_data"
    },
    {
     "name": "stderr",
     "output_type": "stream",
     "text": [
      "2025-04-29 13:50:37,491 WARNING [2025-04-29T00:00:00] Multiple maintenance sessions are planned this week, which may affect data downloads and other services. Check [here](https://status.ecmwf.int/) for status updates.\n",
      "WARNING:datapi.legacy_api_client:[2025-04-29T00:00:00] Multiple maintenance sessions are planned this week, which may affect data downloads and other services. Check [here](https://status.ecmwf.int/) for status updates.\n",
      "2025-04-29 13:50:37,492 INFO [2024-09-26T00:00:00] Watch our [Forum](https://forum.ecmwf.int/) for Announcements, news and other discussed topics.\n",
      "INFO:datapi.legacy_api_client:[2024-09-26T00:00:00] Watch our [Forum](https://forum.ecmwf.int/) for Announcements, news and other discussed topics.\n",
      "2025-04-29 13:50:37,493 WARNING [2024-06-16T00:00:00] CDS API syntax is changed and some keys or parameter names may have also changed. To avoid requests failing, please use the \"Show API request code\" tool on the dataset Download Form to check you are using the correct syntax for your API request.\n",
      "WARNING:datapi.legacy_api_client:[2024-06-16T00:00:00] CDS API syntax is changed and some keys or parameter names may have also changed. To avoid requests failing, please use the \"Show API request code\" tool on the dataset Download Form to check you are using the correct syntax for your API request.\n",
      "2025-04-29 13:50:38,591 INFO Request ID is 5c619b68-86ff-4871-a469-0c7a62f4d64a\n",
      "INFO:datapi.legacy_api_client:Request ID is 5c619b68-86ff-4871-a469-0c7a62f4d64a\n",
      "2025-04-29 13:50:38,845 INFO status has been updated to accepted\n",
      "INFO:datapi.legacy_api_client:status has been updated to accepted\n",
      "2025-04-29 13:50:47,945 INFO status has been updated to running\n",
      "INFO:datapi.legacy_api_client:status has been updated to running\n",
      "2025-04-29 13:50:53,250 INFO status has been updated to successful\n",
      "INFO:datapi.legacy_api_client:status has been updated to successful\n"
     ]
    },
    {
     "data": {
      "application/vnd.jupyter.widget-view+json": {
       "model_id": "c2df8d6639e6473abc34dccecc04d5cd",
       "version_major": 2,
       "version_minor": 0
      },
      "text/plain": [
       "c99532a983272394fb441092892e6d19.nc:   0%|          | 0.00/79.6M [00:00<?, ?B/s]"
      ]
     },
     "metadata": {},
     "output_type": "display_data"
    },
    {
     "name": "stderr",
     "output_type": "stream",
     "text": [
      "2025-04-29 13:51:20,612 WARNING [2025-04-29T00:00:00] Multiple maintenance sessions are planned this week, which may affect data downloads and other services. Check [here](https://status.ecmwf.int/) for status updates.\n",
      "WARNING:datapi.legacy_api_client:[2025-04-29T00:00:00] Multiple maintenance sessions are planned this week, which may affect data downloads and other services. Check [here](https://status.ecmwf.int/) for status updates.\n",
      "2025-04-29 13:51:20,613 INFO [2024-09-26T00:00:00] Watch our [Forum](https://forum.ecmwf.int/) for Announcements, news and other discussed topics.\n",
      "INFO:datapi.legacy_api_client:[2024-09-26T00:00:00] Watch our [Forum](https://forum.ecmwf.int/) for Announcements, news and other discussed topics.\n",
      "2025-04-29 13:51:20,614 WARNING [2024-06-16T00:00:00] CDS API syntax is changed and some keys or parameter names may have also changed. To avoid requests failing, please use the \"Show API request code\" tool on the dataset Download Form to check you are using the correct syntax for your API request.\n",
      "WARNING:datapi.legacy_api_client:[2024-06-16T00:00:00] CDS API syntax is changed and some keys or parameter names may have also changed. To avoid requests failing, please use the \"Show API request code\" tool on the dataset Download Form to check you are using the correct syntax for your API request.\n",
      "2025-04-29 13:51:22,168 INFO Request ID is fcd21c05-7a39-42a3-a5af-19ce41c8d298\n",
      "INFO:datapi.legacy_api_client:Request ID is fcd21c05-7a39-42a3-a5af-19ce41c8d298\n",
      "2025-04-29 13:51:22,673 INFO status has been updated to accepted\n",
      "INFO:datapi.legacy_api_client:status has been updated to accepted\n",
      "2025-04-29 13:51:37,121 INFO status has been updated to running\n",
      "INFO:datapi.legacy_api_client:status has been updated to running\n",
      "2025-04-29 13:51:44,968 INFO status has been updated to successful\n",
      "INFO:datapi.legacy_api_client:status has been updated to successful\n"
     ]
    },
    {
     "data": {
      "application/vnd.jupyter.widget-view+json": {
       "model_id": "8fd0d4ed4d8d40879b11771d6879d1bf",
       "version_major": 2,
       "version_minor": 0
      },
      "text/plain": [
       "8c970509fa2a785580c7f1300af63c40.nc:   0%|          | 0.00/87.4M [00:00<?, ?B/s]"
      ]
     },
     "metadata": {},
     "output_type": "display_data"
    },
    {
     "name": "stderr",
     "output_type": "stream",
     "text": [
      "2025-04-29 13:51:57,185 WARNING [2025-04-29T00:00:00] Multiple maintenance sessions are planned this week, which may affect data downloads and other services. Check [here](https://status.ecmwf.int/) for status updates.\n",
      "WARNING:datapi.legacy_api_client:[2025-04-29T00:00:00] Multiple maintenance sessions are planned this week, which may affect data downloads and other services. Check [here](https://status.ecmwf.int/) for status updates.\n",
      "2025-04-29 13:51:57,186 INFO [2024-09-26T00:00:00] Watch our [Forum](https://forum.ecmwf.int/) for Announcements, news and other discussed topics.\n",
      "INFO:datapi.legacy_api_client:[2024-09-26T00:00:00] Watch our [Forum](https://forum.ecmwf.int/) for Announcements, news and other discussed topics.\n",
      "2025-04-29 13:51:57,188 WARNING [2024-06-16T00:00:00] CDS API syntax is changed and some keys or parameter names may have also changed. To avoid requests failing, please use the \"Show API request code\" tool on the dataset Download Form to check you are using the correct syntax for your API request.\n",
      "WARNING:datapi.legacy_api_client:[2024-06-16T00:00:00] CDS API syntax is changed and some keys or parameter names may have also changed. To avoid requests failing, please use the \"Show API request code\" tool on the dataset Download Form to check you are using the correct syntax for your API request.\n",
      "2025-04-29 13:51:58,467 INFO Request ID is cd2d27fa-43d8-4e04-b033-79754a7a8a09\n",
      "INFO:datapi.legacy_api_client:Request ID is cd2d27fa-43d8-4e04-b033-79754a7a8a09\n",
      "2025-04-29 13:51:58,706 INFO status has been updated to accepted\n",
      "INFO:datapi.legacy_api_client:status has been updated to accepted\n",
      "2025-04-29 13:52:32,593 INFO status has been updated to successful\n",
      "INFO:datapi.legacy_api_client:status has been updated to successful\n"
     ]
    },
    {
     "data": {
      "application/vnd.jupyter.widget-view+json": {
       "model_id": "e14eea6556134b5282faf7405f9159cb",
       "version_major": 2,
       "version_minor": 0
      },
      "text/plain": [
       "98f7ecc75d529e3383515de011752b52.nc:   0%|          | 0.00/89.3M [00:00<?, ?B/s]"
      ]
     },
     "metadata": {},
     "output_type": "display_data"
    },
    {
     "name": "stderr",
     "output_type": "stream",
     "text": [
      "2025-04-29 13:52:44,395 WARNING [2025-04-29T00:00:00] Multiple maintenance sessions are planned this week, which may affect data downloads and other services. Check [here](https://status.ecmwf.int/) for status updates.\n",
      "WARNING:datapi.legacy_api_client:[2025-04-29T00:00:00] Multiple maintenance sessions are planned this week, which may affect data downloads and other services. Check [here](https://status.ecmwf.int/) for status updates.\n",
      "2025-04-29 13:52:44,396 INFO [2024-09-26T00:00:00] Watch our [Forum](https://forum.ecmwf.int/) for Announcements, news and other discussed topics.\n",
      "INFO:datapi.legacy_api_client:[2024-09-26T00:00:00] Watch our [Forum](https://forum.ecmwf.int/) for Announcements, news and other discussed topics.\n",
      "2025-04-29 13:52:44,397 WARNING [2024-06-16T00:00:00] CDS API syntax is changed and some keys or parameter names may have also changed. To avoid requests failing, please use the \"Show API request code\" tool on the dataset Download Form to check you are using the correct syntax for your API request.\n",
      "WARNING:datapi.legacy_api_client:[2024-06-16T00:00:00] CDS API syntax is changed and some keys or parameter names may have also changed. To avoid requests failing, please use the \"Show API request code\" tool on the dataset Download Form to check you are using the correct syntax for your API request.\n",
      "2025-04-29 13:52:45,704 INFO Request ID is 958aa892-7954-4a51-b5b5-6b5ac148ba63\n",
      "INFO:datapi.legacy_api_client:Request ID is 958aa892-7954-4a51-b5b5-6b5ac148ba63\n",
      "2025-04-29 13:52:45,947 INFO status has been updated to accepted\n",
      "INFO:datapi.legacy_api_client:status has been updated to accepted\n",
      "2025-04-29 13:53:00,362 INFO status has been updated to running\n",
      "INFO:datapi.legacy_api_client:status has been updated to running\n",
      "2025-04-29 13:53:08,193 INFO status has been updated to successful\n",
      "INFO:datapi.legacy_api_client:status has been updated to successful\n"
     ]
    },
    {
     "data": {
      "application/vnd.jupyter.widget-view+json": {
       "model_id": "99e11be0f673436297328e12f1910236",
       "version_major": 2,
       "version_minor": 0
      },
      "text/plain": [
       "4ace31a6f7d68c070e59eb8a2fdeeb6c.nc:   0%|          | 0.00/72.3M [00:00<?, ?B/s]"
      ]
     },
     "metadata": {},
     "output_type": "display_data"
    },
    {
     "name": "stdout",
     "output_type": "stream",
     "text": [
      "Warning: SPEI dimensions (113, 43) don't match ERA5 dimensions (43, 113)\n"
     ]
    },
    {
     "name": "stderr",
     "output_type": "stream",
     "text": [
      "2025-04-29 13:53:42,002 WARNING [2025-04-29T00:00:00] Multiple maintenance sessions are planned this week, which may affect data downloads and other services. Check [here](https://status.ecmwf.int/) for status updates.\n",
      "WARNING:datapi.legacy_api_client:[2025-04-29T00:00:00] Multiple maintenance sessions are planned this week, which may affect data downloads and other services. Check [here](https://status.ecmwf.int/) for status updates.\n",
      "2025-04-29 13:53:42,003 INFO [2024-09-26T00:00:00] Watch our [Forum](https://forum.ecmwf.int/) for Announcements, news and other discussed topics.\n",
      "INFO:datapi.legacy_api_client:[2024-09-26T00:00:00] Watch our [Forum](https://forum.ecmwf.int/) for Announcements, news and other discussed topics.\n",
      "2025-04-29 13:53:42,004 WARNING [2024-06-16T00:00:00] CDS API syntax is changed and some keys or parameter names may have also changed. To avoid requests failing, please use the \"Show API request code\" tool on the dataset Download Form to check you are using the correct syntax for your API request.\n",
      "WARNING:datapi.legacy_api_client:[2024-06-16T00:00:00] CDS API syntax is changed and some keys or parameter names may have also changed. To avoid requests failing, please use the \"Show API request code\" tool on the dataset Download Form to check you are using the correct syntax for your API request.\n",
      "2025-04-29 13:53:44,144 INFO Request ID is 958d9f5e-871e-49b5-849f-28c730fe8f18\n",
      "INFO:datapi.legacy_api_client:Request ID is 958d9f5e-871e-49b5-849f-28c730fe8f18\n",
      "2025-04-29 13:53:44,380 INFO status has been updated to accepted\n",
      "INFO:datapi.legacy_api_client:status has been updated to accepted\n",
      "2025-04-29 13:53:58,767 INFO status has been updated to running\n",
      "INFO:datapi.legacy_api_client:status has been updated to running\n",
      "2025-04-29 13:54:06,606 INFO status has been updated to successful\n",
      "INFO:datapi.legacy_api_client:status has been updated to successful\n"
     ]
    },
    {
     "data": {
      "application/vnd.jupyter.widget-view+json": {
       "model_id": "a29776dce8344e12a133e37872f83990",
       "version_major": 2,
       "version_minor": 0
      },
      "text/plain": [
       "332db56d3b07e84e9aae66cfc41a53ef.nc:   0%|          | 0.00/81.8M [00:00<?, ?B/s]"
      ]
     },
     "metadata": {},
     "output_type": "display_data"
    },
    {
     "name": "stderr",
     "output_type": "stream",
     "text": [
      "2025-04-29 13:54:25,058 WARNING [2025-04-29T00:00:00] Multiple maintenance sessions are planned this week, which may affect data downloads and other services. Check [here](https://status.ecmwf.int/) for status updates.\n",
      "WARNING:datapi.legacy_api_client:[2025-04-29T00:00:00] Multiple maintenance sessions are planned this week, which may affect data downloads and other services. Check [here](https://status.ecmwf.int/) for status updates.\n",
      "2025-04-29 13:54:25,060 INFO [2024-09-26T00:00:00] Watch our [Forum](https://forum.ecmwf.int/) for Announcements, news and other discussed topics.\n",
      "INFO:datapi.legacy_api_client:[2024-09-26T00:00:00] Watch our [Forum](https://forum.ecmwf.int/) for Announcements, news and other discussed topics.\n",
      "2025-04-29 13:54:25,061 WARNING [2024-06-16T00:00:00] CDS API syntax is changed and some keys or parameter names may have also changed. To avoid requests failing, please use the \"Show API request code\" tool on the dataset Download Form to check you are using the correct syntax for your API request.\n",
      "WARNING:datapi.legacy_api_client:[2024-06-16T00:00:00] CDS API syntax is changed and some keys or parameter names may have also changed. To avoid requests failing, please use the \"Show API request code\" tool on the dataset Download Form to check you are using the correct syntax for your API request.\n",
      "2025-04-29 13:54:26,345 INFO Request ID is adffe811-23c1-4e10-beed-1b7b35db6027\n",
      "INFO:datapi.legacy_api_client:Request ID is adffe811-23c1-4e10-beed-1b7b35db6027\n",
      "2025-04-29 13:54:26,590 INFO status has been updated to accepted\n",
      "INFO:datapi.legacy_api_client:status has been updated to accepted\n",
      "2025-04-29 14:04:50,019 INFO status has been updated to successful\n",
      "INFO:datapi.legacy_api_client:status has been updated to successful\n"
     ]
    },
    {
     "data": {
      "application/vnd.jupyter.widget-view+json": {
       "model_id": "72f3b6ebdfa84d4eaf88c6c10a5cc809",
       "version_major": 2,
       "version_minor": 0
      },
      "text/plain": [
       "4ff2b47e7ae8e404c9009dc9a7d2963f.nc:   0%|          | 0.00/14.3M [00:00<?, ?B/s]"
      ]
     },
     "metadata": {},
     "output_type": "display_data"
    },
    {
     "name": "stderr",
     "output_type": "stream",
     "text": [
      "2025-04-29 14:05:01,990 WARNING [2025-04-29T00:00:00] Multiple maintenance sessions are planned this week, which may affect data downloads and other services. Check [here](https://status.ecmwf.int/) for status updates.\n",
      "WARNING:datapi.legacy_api_client:[2025-04-29T00:00:00] Multiple maintenance sessions are planned this week, which may affect data downloads and other services. Check [here](https://status.ecmwf.int/) for status updates.\n",
      "2025-04-29 14:05:01,992 INFO [2024-09-26T00:00:00] Watch our [Forum](https://forum.ecmwf.int/) for Announcements, news and other discussed topics.\n",
      "INFO:datapi.legacy_api_client:[2024-09-26T00:00:00] Watch our [Forum](https://forum.ecmwf.int/) for Announcements, news and other discussed topics.\n",
      "2025-04-29 14:05:01,993 WARNING [2024-06-16T00:00:00] CDS API syntax is changed and some keys or parameter names may have also changed. To avoid requests failing, please use the \"Show API request code\" tool on the dataset Download Form to check you are using the correct syntax for your API request.\n",
      "WARNING:datapi.legacy_api_client:[2024-06-16T00:00:00] CDS API syntax is changed and some keys or parameter names may have also changed. To avoid requests failing, please use the \"Show API request code\" tool on the dataset Download Form to check you are using the correct syntax for your API request.\n",
      "2025-04-29 14:05:03,531 INFO Request ID is c38b141c-f6dd-4389-b7d8-0127d7fd266b\n",
      "INFO:datapi.legacy_api_client:Request ID is c38b141c-f6dd-4389-b7d8-0127d7fd266b\n",
      "2025-04-29 14:05:03,772 INFO status has been updated to accepted\n",
      "INFO:datapi.legacy_api_client:status has been updated to accepted\n",
      "2025-04-29 14:15:27,754 INFO status has been updated to successful\n",
      "INFO:datapi.legacy_api_client:status has been updated to successful\n"
     ]
    },
    {
     "data": {
      "application/vnd.jupyter.widget-view+json": {
       "model_id": "3c050af47be24c1d87bbeb423852a082",
       "version_major": 2,
       "version_minor": 0
      },
      "text/plain": [
       "9e7ac19afc643d6adcefafbfc3a0c70d.nc:   0%|          | 0.00/110M [00:00<?, ?B/s]"
      ]
     },
     "metadata": {},
     "output_type": "display_data"
    },
    {
     "name": "stderr",
     "output_type": "stream",
     "text": [
      "2025-04-29 14:15:47,293 WARNING [2025-04-29T00:00:00] Multiple maintenance sessions are planned this week, which may affect data downloads and other services. Check [here](https://status.ecmwf.int/) for status updates.\n",
      "WARNING:datapi.legacy_api_client:[2025-04-29T00:00:00] Multiple maintenance sessions are planned this week, which may affect data downloads and other services. Check [here](https://status.ecmwf.int/) for status updates.\n",
      "2025-04-29 14:15:47,294 INFO [2024-09-26T00:00:00] Watch our [Forum](https://forum.ecmwf.int/) for Announcements, news and other discussed topics.\n",
      "INFO:datapi.legacy_api_client:[2024-09-26T00:00:00] Watch our [Forum](https://forum.ecmwf.int/) for Announcements, news and other discussed topics.\n",
      "2025-04-29 14:15:47,295 WARNING [2024-06-16T00:00:00] CDS API syntax is changed and some keys or parameter names may have also changed. To avoid requests failing, please use the \"Show API request code\" tool on the dataset Download Form to check you are using the correct syntax for your API request.\n",
      "WARNING:datapi.legacy_api_client:[2024-06-16T00:00:00] CDS API syntax is changed and some keys or parameter names may have also changed. To avoid requests failing, please use the \"Show API request code\" tool on the dataset Download Form to check you are using the correct syntax for your API request.\n",
      "2025-04-29 14:15:48,186 INFO Request ID is c94e3704-8a90-4a36-ae4c-13e99f7b5157\n",
      "INFO:datapi.legacy_api_client:Request ID is c94e3704-8a90-4a36-ae4c-13e99f7b5157\n",
      "2025-04-29 14:15:48,460 INFO status has been updated to accepted\n",
      "INFO:datapi.legacy_api_client:status has been updated to accepted\n",
      "2025-04-29 14:16:40,085 INFO status has been updated to successful\n",
      "INFO:datapi.legacy_api_client:status has been updated to successful\n"
     ]
    },
    {
     "data": {
      "application/vnd.jupyter.widget-view+json": {
       "model_id": "dcad91344e244eacbd62294b5395c39c",
       "version_major": 2,
       "version_minor": 0
      },
      "text/plain": [
       "f2bd6e388b9f235f5a14a39eced61d94.nc:   0%|          | 0.00/82.2M [00:00<?, ?B/s]"
      ]
     },
     "metadata": {},
     "output_type": "display_data"
    },
    {
     "name": "stderr",
     "output_type": "stream",
     "text": [
      "2025-04-29 14:18:14,017 WARNING [2025-04-29T00:00:00] Multiple maintenance sessions are planned this week, which may affect data downloads and other services. Check [here](https://status.ecmwf.int/) for status updates.\n",
      "WARNING:datapi.legacy_api_client:[2025-04-29T00:00:00] Multiple maintenance sessions are planned this week, which may affect data downloads and other services. Check [here](https://status.ecmwf.int/) for status updates.\n",
      "2025-04-29 14:18:14,018 INFO [2024-09-26T00:00:00] Watch our [Forum](https://forum.ecmwf.int/) for Announcements, news and other discussed topics.\n",
      "INFO:datapi.legacy_api_client:[2024-09-26T00:00:00] Watch our [Forum](https://forum.ecmwf.int/) for Announcements, news and other discussed topics.\n",
      "2025-04-29 14:18:14,019 WARNING [2024-06-16T00:00:00] CDS API syntax is changed and some keys or parameter names may have also changed. To avoid requests failing, please use the \"Show API request code\" tool on the dataset Download Form to check you are using the correct syntax for your API request.\n",
      "WARNING:datapi.legacy_api_client:[2024-06-16T00:00:00] CDS API syntax is changed and some keys or parameter names may have also changed. To avoid requests failing, please use the \"Show API request code\" tool on the dataset Download Form to check you are using the correct syntax for your API request.\n",
      "2025-04-29 14:18:15,402 INFO Request ID is fba89f78-6149-4598-874b-3164abf9e594\n",
      "INFO:datapi.legacy_api_client:Request ID is fba89f78-6149-4598-874b-3164abf9e594\n",
      "2025-04-29 14:18:15,637 INFO status has been updated to accepted\n",
      "INFO:datapi.legacy_api_client:status has been updated to accepted\n",
      "WARNING:multiurl.http:Recovering from HTTP error [500 Internal Server Error], attempt 1 of 500\n",
      "WARNING:multiurl.http:Retrying in 120 seconds\n",
      "2025-04-29 14:30:51,029 INFO status has been updated to successful\n",
      "INFO:datapi.legacy_api_client:status has been updated to successful\n"
     ]
    },
    {
     "data": {
      "application/vnd.jupyter.widget-view+json": {
       "model_id": "83a31bb084384964b5b45e310fbdf2e1",
       "version_major": 2,
       "version_minor": 0
      },
      "text/plain": [
       "90e7e11ac03f42850919fe64551be99b.nc:   0%|          | 0.00/83.7M [00:00<?, ?B/s]"
      ]
     },
     "metadata": {},
     "output_type": "display_data"
    },
    {
     "name": "stderr",
     "output_type": "stream",
     "text": [
      "2025-04-29 14:31:23,062 WARNING [2025-04-29T00:00:00] Multiple maintenance sessions are planned this week, which may affect data downloads and other services. Check [here](https://status.ecmwf.int/) for status updates.\n",
      "WARNING:datapi.legacy_api_client:[2025-04-29T00:00:00] Multiple maintenance sessions are planned this week, which may affect data downloads and other services. Check [here](https://status.ecmwf.int/) for status updates.\n",
      "2025-04-29 14:31:23,063 INFO [2024-09-26T00:00:00] Watch our [Forum](https://forum.ecmwf.int/) for Announcements, news and other discussed topics.\n",
      "INFO:datapi.legacy_api_client:[2024-09-26T00:00:00] Watch our [Forum](https://forum.ecmwf.int/) for Announcements, news and other discussed topics.\n",
      "2025-04-29 14:31:23,065 WARNING [2024-06-16T00:00:00] CDS API syntax is changed and some keys or parameter names may have also changed. To avoid requests failing, please use the \"Show API request code\" tool on the dataset Download Form to check you are using the correct syntax for your API request.\n",
      "WARNING:datapi.legacy_api_client:[2024-06-16T00:00:00] CDS API syntax is changed and some keys or parameter names may have also changed. To avoid requests failing, please use the \"Show API request code\" tool on the dataset Download Form to check you are using the correct syntax for your API request.\n",
      "2025-04-29 14:31:24,155 INFO Request ID is defe9f99-60f5-4f06-bb47-512ccb90cfe9\n",
      "INFO:datapi.legacy_api_client:Request ID is defe9f99-60f5-4f06-bb47-512ccb90cfe9\n",
      "2025-04-29 14:31:24,406 INFO status has been updated to accepted\n",
      "INFO:datapi.legacy_api_client:status has been updated to accepted\n",
      "2025-04-29 14:31:38,898 INFO status has been updated to successful\n",
      "INFO:datapi.legacy_api_client:status has been updated to successful\n"
     ]
    },
    {
     "data": {
      "application/vnd.jupyter.widget-view+json": {
       "model_id": "ed960ace8e89442ba10c75028b896a11",
       "version_major": 2,
       "version_minor": 0
      },
      "text/plain": [
       "4dd878725737cce651f5bd17f3915e27.nc:   0%|          | 0.00/91.8M [00:00<?, ?B/s]"
      ]
     },
     "metadata": {},
     "output_type": "display_data"
    },
    {
     "name": "stderr",
     "output_type": "stream",
     "text": [
      "2025-04-29 14:32:19,969 WARNING [2025-04-29T00:00:00] Multiple maintenance sessions are planned this week, which may affect data downloads and other services. Check [here](https://status.ecmwf.int/) for status updates.\n",
      "WARNING:datapi.legacy_api_client:[2025-04-29T00:00:00] Multiple maintenance sessions are planned this week, which may affect data downloads and other services. Check [here](https://status.ecmwf.int/) for status updates.\n",
      "2025-04-29 14:32:19,970 INFO [2024-09-26T00:00:00] Watch our [Forum](https://forum.ecmwf.int/) for Announcements, news and other discussed topics.\n",
      "INFO:datapi.legacy_api_client:[2024-09-26T00:00:00] Watch our [Forum](https://forum.ecmwf.int/) for Announcements, news and other discussed topics.\n",
      "2025-04-29 14:32:19,971 WARNING [2024-06-16T00:00:00] CDS API syntax is changed and some keys or parameter names may have also changed. To avoid requests failing, please use the \"Show API request code\" tool on the dataset Download Form to check you are using the correct syntax for your API request.\n",
      "WARNING:datapi.legacy_api_client:[2024-06-16T00:00:00] CDS API syntax is changed and some keys or parameter names may have also changed. To avoid requests failing, please use the \"Show API request code\" tool on the dataset Download Form to check you are using the correct syntax for your API request.\n",
      "2025-04-29 14:32:22,888 INFO Request ID is 9683b27f-2adb-437a-8c15-854a296ac467\n",
      "INFO:datapi.legacy_api_client:Request ID is 9683b27f-2adb-437a-8c15-854a296ac467\n",
      "2025-04-29 14:32:23,154 INFO status has been updated to accepted\n",
      "INFO:datapi.legacy_api_client:status has been updated to accepted\n",
      "2025-04-29 14:32:57,107 INFO status has been updated to successful\n",
      "INFO:datapi.legacy_api_client:status has been updated to successful\n"
     ]
    },
    {
     "data": {
      "application/vnd.jupyter.widget-view+json": {
       "model_id": "afc7006ae6b546ee9226b148484157d1",
       "version_major": 2,
       "version_minor": 0
      },
      "text/plain": [
       "daeb57e656d80637c49b2773abdb76ed.nc:   0%|          | 0.00/64.3M [00:00<?, ?B/s]"
      ]
     },
     "metadata": {},
     "output_type": "display_data"
    },
    {
     "name": "stdout",
     "output_type": "stream",
     "text": [
      "Warning: SPEI dimensions (113, 43) don't match ERA5 dimensions (43, 113)\n"
     ]
    }
   ],
   "source": [
    "# TRAINING DATA\n",
    "for year in [1999, 2000, 2001]:\n",
    "    ds = tf_monthly_dataset(year, input_variables, target_variables,\n",
    "                            aggregation_dict, area, spei_data_path,\n",
    "                            max_days, block_width, block_height)\n",
    "\n",
    "    examples = list(ds.as_numpy_iterator())\n",
    "    X = tf.stack([ex[0] for ex in examples]).numpy()\n",
    "    y = tf.stack([ex[1] for ex in examples]).numpy()\n",
    "\n",
    "    np.save(f\"/content/drive/MyDrive/ST456/raw_train_X_{year}.npy\", X)\n",
    "    np.save(f\"/content/drive/MyDrive/ST456/raw_train_y_{year}.npy\", y)"
   ]
  },
  {
   "cell_type": "code",
   "execution_count": null,
   "metadata": {
    "id": "eL8d47bixrzo"
   },
   "outputs": [],
   "source": [
    "# Combining Training Data\n",
    "X_1999 = np.load(\"/content/drive/MyDrive/ST456/raw_train_X_1999.npy\")\n",
    "X_2000 = np.load(\"/content/drive/MyDrive/ST456/raw_train_X_2000.npy\")\n",
    "X_2001 = np.load(\"/content/drive/MyDrive/ST456/raw_train_X_2001.npy\")\n",
    "y_1999 = np.load(\"/content/drive/MyDrive/ST456/raw_train_y_1999.npy\")\n",
    "y_2000 = np.load(\"/content/drive/MyDrive/ST456/raw_train_y_2000.npy\")\n",
    "y_2001 = np.load(\"/content/drive/MyDrive/ST456/raw_train_y_2001.npy\")\n",
    "\n",
    "train_X = np.concatenate([X_1999, X_2000, X_2001], axis=0)\n",
    "train_y = np.concatenate([y_1999, y_2000, y_2001], axis=0)"
   ]
  },
  {
   "cell_type": "code",
   "execution_count": null,
   "metadata": {
    "id": "unm7TT8Q-puR"
   },
   "outputs": [],
   "source": [
    "# Save combined raw training data\n",
    "np.save('/content/drive/MyDrive/ST456/raw_train_X_combined.npy', train_X)\n",
    "np.save('/content/drive/MyDrive/ST456/raw_train_y_combined.npy', train_y)"
   ]
  },
  {
   "cell_type": "code",
   "execution_count": null,
   "metadata": {
    "colab": {
     "base_uri": "https://localhost:8080/",
     "height": 1000,
     "referenced_widgets": [
      "72a7880042a34a45a914543ab08c8cff",
      "7bf3065851d94c71920eba65714e11bf",
      "984853b2058a442a81db5539aa6b8dee",
      "01e4aad14f2d49638fe97e021be53cab",
      "ae9c00cdf08946a3a94212176fafe813",
      "6ffc5e1eeec74c20b9855f79dcb1c2c4",
      "2cbe68624872433bbaa22ed06ca7743e",
      "cad034f4d6bf47069e239edff073cceb",
      "0d5a6be14ef94308bb3f11dcdf306c7c",
      "61f8ce8999a4474fa4d25532ec7eb4d3",
      "4970d9b7c20045628139dd267ae8a650",
      "3e13df8bc6f542fd8d9d1e02383dc5b5",
      "21500782b4db4ba3a20f7fa7601c32d7",
      "87679a98708746278b8bbafce41b4b6d",
      "5e58ce0db7ad4719a42cb1730b208956",
      "344efe482ee24e71acd0e8ea947f1e3e",
      "dfe204499e5142e1b19b34137c1f0e35",
      "cc1262ccd3d44158832582da35f40634",
      "dc19db511e3244b98d15aded8c7ecbbb",
      "be150e473b5947b08d3456aa666ed4d3",
      "3e6a94877b224de8a971a9e52e912daf",
      "dba71031cbf1485f8b56d7dbc1a5ece4",
      "b5a6268b28e9436aaf98e0a2bb7352e0",
      "270190f2f2b4444bb2f5eadbca15b6cf",
      "c57d35e6d59241248e1feffffe69ddde",
      "42802d25c6ee4ad78131a2daba27ad93",
      "80428cacf8324e6ab20e4c57ca07851f",
      "4e646fbda9ff4fc09fd8c3504964c646",
      "2d292dabdb344e2781ed1f21ceada333",
      "4f2fbfb8d7c14cd4810c1e385a75d822",
      "7c2020d44e7748398c7d42f734f11db8",
      "186f630daa304791a0e96bc255a36815",
      "6129764eba5b4a3eaf72cf132df62891",
      "861ef98476e74ceeb9a949942f54d177",
      "7cecf1babb5048899275ce8f86724826",
      "26a2ace42239470b8ae8438d95201348",
      "2630fc3ba269424a8389d7423d64d444",
      "b51d7d6f860c409a8c79ed307496d228",
      "f6eef0b26ca540f5bb4d50dce52bfb1c",
      "a907c1f76b5f44fa9ceac9e932cdabe7",
      "b3a8bc53cd8341fea7e7b8e5e5f69844",
      "130df11716ce4655b852f338ef585827",
      "4cd1a3aa639d457c8c51452b57e6edd5",
      "f0c32924b8dc4691ab91d8b5c7ea9b8d",
      "d8e08ad7809b40868de6a0e01eb7ad7b",
      "48ca10ae52a847f4b6ac897a5371c2b4",
      "dd02897fed54493083da9550175a5daf",
      "dc5b5ec2d7d443f5853a13b3df034f9b",
      "58cedb3eda59425db579c95e5cac21cb",
      "450f28caed924e5fa4d672243d9acf33",
      "06bbf8ae422c4e589b18eb623d3e3648",
      "2c9e76e244e74b508d1429aa3fae1e11",
      "34cc5233b0f24771890d881dbca380c7",
      "78b6014ff1bf4f278bd7a554c9a28cca",
      "029226f8fa694d609af7ff2179db254e",
      "f9818e9b2b694e43a36fbb05e9ad03e1",
      "9771f026227a46f580b0e529c3851a6f",
      "47515e6037104310a8c67b8fbd896f47",
      "35e907ef7fbb45a49b331423019a2091",
      "4908777a2151403c9408a887e5ec7fe8",
      "0f522da712b144e1930233fe00fa4217",
      "98bd12eba58b4dc5b1cbdccbe5e6a251",
      "5a5fb9a4f9374b3194f09634b95d50c5",
      "dfcf3363474b4cc79be54355227f38fe",
      "e95a5174631840afb56102604f413a41",
      "d45f5a2d28e34786b9642239eb24010c",
      "f30bc82b7d904ba7a16038c97bcf4525",
      "49cba3e0bc5e4f5aa63bd6cd63709181",
      "04e0a632e5c84087a4a95868f0016899",
      "4f719403d1b744858b1894cc34a71a49",
      "dd3610b7f85c4493a16e731fd68324c7",
      "5b135b2bebec425b8251dc2ef65332eb",
      "b5d2450e53e54da2bd9811a50a2ec56c",
      "5c63e29a687e40e0962fe29d8d0552b4",
      "d42063a98b7344bf8d4fbdd87727ad12",
      "7c14e1e0391740298f816599c5b724b3",
      "b9bec89eed91454ea480209da1ad27fc"
     ]
    },
    "collapsed": true,
    "id": "YIE8R_QOmjAO",
    "outputId": "0b17fe98-fb2c-461a-eb84-af2ce4d41766"
   },
   "outputs": [
    {
     "name": "stderr",
     "output_type": "stream",
     "text": [
      "2025-04-29 14:37:33,812 WARNING [2025-04-29T00:00:00] Multiple maintenance sessions are planned this week, which may affect data downloads and other services. Check [here](https://status.ecmwf.int/) for status updates.\n",
      "WARNING:datapi.legacy_api_client:[2025-04-29T00:00:00] Multiple maintenance sessions are planned this week, which may affect data downloads and other services. Check [here](https://status.ecmwf.int/) for status updates.\n",
      "2025-04-29 14:37:33,814 INFO [2024-09-26T00:00:00] Watch our [Forum](https://forum.ecmwf.int/) for Announcements, news and other discussed topics.\n",
      "INFO:datapi.legacy_api_client:[2024-09-26T00:00:00] Watch our [Forum](https://forum.ecmwf.int/) for Announcements, news and other discussed topics.\n",
      "2025-04-29 14:37:33,815 WARNING [2024-06-16T00:00:00] CDS API syntax is changed and some keys or parameter names may have also changed. To avoid requests failing, please use the \"Show API request code\" tool on the dataset Download Form to check you are using the correct syntax for your API request.\n",
      "WARNING:datapi.legacy_api_client:[2024-06-16T00:00:00] CDS API syntax is changed and some keys or parameter names may have also changed. To avoid requests failing, please use the \"Show API request code\" tool on the dataset Download Form to check you are using the correct syntax for your API request.\n",
      "2025-04-29 14:37:35,042 INFO Request ID is 948cd4d1-d1c6-483e-bf26-a0fa2e56781d\n",
      "INFO:datapi.legacy_api_client:Request ID is 948cd4d1-d1c6-483e-bf26-a0fa2e56781d\n",
      "2025-04-29 14:37:35,290 INFO status has been updated to accepted\n",
      "INFO:datapi.legacy_api_client:status has been updated to accepted\n",
      "2025-04-29 14:37:49,892 INFO status has been updated to running\n",
      "INFO:datapi.legacy_api_client:status has been updated to running\n",
      "2025-04-29 14:47:59,231 INFO status has been updated to successful\n",
      "INFO:datapi.legacy_api_client:status has been updated to successful\n"
     ]
    },
    {
     "data": {
      "application/vnd.jupyter.widget-view+json": {
       "model_id": "72a7880042a34a45a914543ab08c8cff",
       "version_major": 2,
       "version_minor": 0
      },
      "text/plain": [
       "e20c1638980db66b0134b58a5dd81b75.nc:   0%|          | 0.00/79.4M [00:00<?, ?B/s]"
      ]
     },
     "metadata": {},
     "output_type": "display_data"
    },
    {
     "name": "stderr",
     "output_type": "stream",
     "text": [
      "2025-04-29 14:48:11,917 WARNING [2025-04-29T00:00:00] Multiple maintenance sessions are planned this week, which may affect data downloads and other services. Check [here](https://status.ecmwf.int/) for status updates.\n",
      "WARNING:datapi.legacy_api_client:[2025-04-29T00:00:00] Multiple maintenance sessions are planned this week, which may affect data downloads and other services. Check [here](https://status.ecmwf.int/) for status updates.\n",
      "2025-04-29 14:48:11,918 INFO [2024-09-26T00:00:00] Watch our [Forum](https://forum.ecmwf.int/) for Announcements, news and other discussed topics.\n",
      "INFO:datapi.legacy_api_client:[2024-09-26T00:00:00] Watch our [Forum](https://forum.ecmwf.int/) for Announcements, news and other discussed topics.\n",
      "2025-04-29 14:48:11,919 WARNING [2024-06-16T00:00:00] CDS API syntax is changed and some keys or parameter names may have also changed. To avoid requests failing, please use the \"Show API request code\" tool on the dataset Download Form to check you are using the correct syntax for your API request.\n",
      "WARNING:datapi.legacy_api_client:[2024-06-16T00:00:00] CDS API syntax is changed and some keys or parameter names may have also changed. To avoid requests failing, please use the \"Show API request code\" tool on the dataset Download Form to check you are using the correct syntax for your API request.\n",
      "2025-04-29 14:48:13,554 INFO Request ID is adb540a9-b0cf-4eac-a0a0-7758840c5380\n",
      "INFO:datapi.legacy_api_client:Request ID is adb540a9-b0cf-4eac-a0a0-7758840c5380\n",
      "2025-04-29 14:48:13,832 INFO status has been updated to accepted\n",
      "INFO:datapi.legacy_api_client:status has been updated to accepted\n",
      "2025-04-29 14:48:28,346 INFO status has been updated to running\n",
      "INFO:datapi.legacy_api_client:status has been updated to running\n",
      "2025-04-29 14:58:37,656 INFO status has been updated to successful\n",
      "INFO:datapi.legacy_api_client:status has been updated to successful\n"
     ]
    },
    {
     "data": {
      "application/vnd.jupyter.widget-view+json": {
       "model_id": "3e13df8bc6f542fd8d9d1e02383dc5b5",
       "version_major": 2,
       "version_minor": 0
      },
      "text/plain": [
       "3a0c17e9774fe14b269e7d4cdd5b622c.nc:   0%|          | 0.00/9.40M [00:00<?, ?B/s]"
      ]
     },
     "metadata": {},
     "output_type": "display_data"
    },
    {
     "name": "stderr",
     "output_type": "stream",
     "text": [
      "2025-04-29 14:58:43,886 WARNING [2025-04-29T00:00:00] Multiple maintenance sessions are planned this week, which may affect data downloads and other services. Check [here](https://status.ecmwf.int/) for status updates.\n",
      "WARNING:datapi.legacy_api_client:[2025-04-29T00:00:00] Multiple maintenance sessions are planned this week, which may affect data downloads and other services. Check [here](https://status.ecmwf.int/) for status updates.\n",
      "2025-04-29 14:58:43,887 INFO [2024-09-26T00:00:00] Watch our [Forum](https://forum.ecmwf.int/) for Announcements, news and other discussed topics.\n",
      "INFO:datapi.legacy_api_client:[2024-09-26T00:00:00] Watch our [Forum](https://forum.ecmwf.int/) for Announcements, news and other discussed topics.\n",
      "2025-04-29 14:58:43,888 WARNING [2024-06-16T00:00:00] CDS API syntax is changed and some keys or parameter names may have also changed. To avoid requests failing, please use the \"Show API request code\" tool on the dataset Download Form to check you are using the correct syntax for your API request.\n",
      "WARNING:datapi.legacy_api_client:[2024-06-16T00:00:00] CDS API syntax is changed and some keys or parameter names may have also changed. To avoid requests failing, please use the \"Show API request code\" tool on the dataset Download Form to check you are using the correct syntax for your API request.\n",
      "2025-04-29 14:58:45,047 INFO Request ID is d0ab37fb-a5bc-4061-b1cb-8465f54cae17\n",
      "INFO:datapi.legacy_api_client:Request ID is d0ab37fb-a5bc-4061-b1cb-8465f54cae17\n",
      "2025-04-29 14:58:45,303 INFO status has been updated to accepted\n",
      "INFO:datapi.legacy_api_client:status has been updated to accepted\n",
      "2025-04-29 14:58:54,489 INFO status has been updated to running\n",
      "INFO:datapi.legacy_api_client:status has been updated to running\n",
      "2025-04-29 15:11:10,361 INFO status has been updated to successful\n",
      "INFO:datapi.legacy_api_client:status has been updated to successful\n"
     ]
    },
    {
     "data": {
      "application/vnd.jupyter.widget-view+json": {
       "model_id": "b5a6268b28e9436aaf98e0a2bb7352e0",
       "version_major": 2,
       "version_minor": 0
      },
      "text/plain": [
       "a0980170e71d2975c0bc9d4ab1b372ae.nc:   0%|          | 0.00/110M [00:00<?, ?B/s]"
      ]
     },
     "metadata": {},
     "output_type": "display_data"
    },
    {
     "name": "stderr",
     "output_type": "stream",
     "text": [
      "2025-04-29 15:11:41,963 WARNING [2025-04-29T00:00:00] Multiple maintenance sessions are planned this week, which may affect data downloads and other services. Check [here](https://status.ecmwf.int/) for status updates.\n",
      "WARNING:datapi.legacy_api_client:[2025-04-29T00:00:00] Multiple maintenance sessions are planned this week, which may affect data downloads and other services. Check [here](https://status.ecmwf.int/) for status updates.\n",
      "2025-04-29 15:11:41,964 INFO [2024-09-26T00:00:00] Watch our [Forum](https://forum.ecmwf.int/) for Announcements, news and other discussed topics.\n",
      "INFO:datapi.legacy_api_client:[2024-09-26T00:00:00] Watch our [Forum](https://forum.ecmwf.int/) for Announcements, news and other discussed topics.\n",
      "2025-04-29 15:11:41,965 WARNING [2024-06-16T00:00:00] CDS API syntax is changed and some keys or parameter names may have also changed. To avoid requests failing, please use the \"Show API request code\" tool on the dataset Download Form to check you are using the correct syntax for your API request.\n",
      "WARNING:datapi.legacy_api_client:[2024-06-16T00:00:00] CDS API syntax is changed and some keys or parameter names may have also changed. To avoid requests failing, please use the \"Show API request code\" tool on the dataset Download Form to check you are using the correct syntax for your API request.\n",
      "2025-04-29 15:11:42,875 INFO Request ID is caadbcbe-87ab-4735-b7dd-c7065c68892d\n",
      "INFO:datapi.legacy_api_client:Request ID is caadbcbe-87ab-4735-b7dd-c7065c68892d\n",
      "2025-04-29 15:11:43,128 INFO status has been updated to accepted\n",
      "INFO:datapi.legacy_api_client:status has been updated to accepted\n",
      "2025-04-29 15:11:52,648 INFO status has been updated to running\n",
      "INFO:datapi.legacy_api_client:status has been updated to running\n",
      "2025-04-29 15:11:57,945 INFO status has been updated to accepted\n",
      "INFO:datapi.legacy_api_client:status has been updated to accepted\n",
      "2025-04-29 15:12:05,788 INFO status has been updated to running\n",
      "INFO:datapi.legacy_api_client:status has been updated to running\n",
      "2025-04-29 15:16:10,082 INFO status has been updated to accepted\n",
      "INFO:datapi.legacy_api_client:status has been updated to accepted\n",
      "2025-04-29 15:18:10,819 INFO status has been updated to running\n",
      "INFO:datapi.legacy_api_client:status has been updated to running\n",
      "2025-04-29 15:28:14,327 INFO status has been updated to successful\n",
      "INFO:datapi.legacy_api_client:status has been updated to successful\n"
     ]
    },
    {
     "data": {
      "application/vnd.jupyter.widget-view+json": {
       "model_id": "861ef98476e74ceeb9a949942f54d177",
       "version_major": 2,
       "version_minor": 0
      },
      "text/plain": [
       "766cc02616f32e02d94dc51d0250360.nc:   0%|          | 0.00/82.7M [00:00<?, ?B/s]"
      ]
     },
     "metadata": {},
     "output_type": "display_data"
    },
    {
     "name": "stderr",
     "output_type": "stream",
     "text": [
      "2025-04-29 15:28:27,303 WARNING [2025-04-29T00:00:00] Multiple maintenance sessions are planned this week, which may affect data downloads and other services. Check [here](https://status.ecmwf.int/) for status updates.\n",
      "WARNING:datapi.legacy_api_client:[2025-04-29T00:00:00] Multiple maintenance sessions are planned this week, which may affect data downloads and other services. Check [here](https://status.ecmwf.int/) for status updates.\n",
      "2025-04-29 15:28:27,304 INFO [2024-09-26T00:00:00] Watch our [Forum](https://forum.ecmwf.int/) for Announcements, news and other discussed topics.\n",
      "INFO:datapi.legacy_api_client:[2024-09-26T00:00:00] Watch our [Forum](https://forum.ecmwf.int/) for Announcements, news and other discussed topics.\n",
      "2025-04-29 15:28:27,306 WARNING [2024-06-16T00:00:00] CDS API syntax is changed and some keys or parameter names may have also changed. To avoid requests failing, please use the \"Show API request code\" tool on the dataset Download Form to check you are using the correct syntax for your API request.\n",
      "WARNING:datapi.legacy_api_client:[2024-06-16T00:00:00] CDS API syntax is changed and some keys or parameter names may have also changed. To avoid requests failing, please use the \"Show API request code\" tool on the dataset Download Form to check you are using the correct syntax for your API request.\n",
      "2025-04-29 15:28:28,246 INFO Request ID is 424f2047-acd2-4e34-9867-7d958ecd1b93\n",
      "INFO:datapi.legacy_api_client:Request ID is 424f2047-acd2-4e34-9867-7d958ecd1b93\n",
      "2025-04-29 15:28:28,517 INFO status has been updated to accepted\n",
      "INFO:datapi.legacy_api_client:status has been updated to accepted\n",
      "2025-04-29 15:28:50,788 INFO status has been updated to running\n",
      "INFO:datapi.legacy_api_client:status has been updated to running\n",
      "2025-04-29 15:40:52,748 INFO status has been updated to successful\n",
      "INFO:datapi.legacy_api_client:status has been updated to successful\n"
     ]
    },
    {
     "data": {
      "application/vnd.jupyter.widget-view+json": {
       "model_id": "d8e08ad7809b40868de6a0e01eb7ad7b",
       "version_major": 2,
       "version_minor": 0
      },
      "text/plain": [
       "44b4765b51b87905acf644f9251a974d.nc:   0%|          | 0.00/82.6M [00:00<?, ?B/s]"
      ]
     },
     "metadata": {},
     "output_type": "display_data"
    },
    {
     "name": "stderr",
     "output_type": "stream",
     "text": [
      "2025-04-29 15:41:04,815 WARNING [2025-04-29T00:00:00] Multiple maintenance sessions are planned this week, which may affect data downloads and other services. Check [here](https://status.ecmwf.int/) for status updates.\n",
      "WARNING:datapi.legacy_api_client:[2025-04-29T00:00:00] Multiple maintenance sessions are planned this week, which may affect data downloads and other services. Check [here](https://status.ecmwf.int/) for status updates.\n",
      "2025-04-29 15:41:04,816 INFO [2024-09-26T00:00:00] Watch our [Forum](https://forum.ecmwf.int/) for Announcements, news and other discussed topics.\n",
      "INFO:datapi.legacy_api_client:[2024-09-26T00:00:00] Watch our [Forum](https://forum.ecmwf.int/) for Announcements, news and other discussed topics.\n",
      "2025-04-29 15:41:04,817 WARNING [2024-06-16T00:00:00] CDS API syntax is changed and some keys or parameter names may have also changed. To avoid requests failing, please use the \"Show API request code\" tool on the dataset Download Form to check you are using the correct syntax for your API request.\n",
      "WARNING:datapi.legacy_api_client:[2024-06-16T00:00:00] CDS API syntax is changed and some keys or parameter names may have also changed. To avoid requests failing, please use the \"Show API request code\" tool on the dataset Download Form to check you are using the correct syntax for your API request.\n",
      "2025-04-29 15:41:05,708 INFO Request ID is 9e7f19c7-fadd-45a4-8b93-3a3f0be2847d\n",
      "INFO:datapi.legacy_api_client:Request ID is 9e7f19c7-fadd-45a4-8b93-3a3f0be2847d\n",
      "2025-04-29 15:41:05,979 INFO status has been updated to accepted\n",
      "INFO:datapi.legacy_api_client:status has been updated to accepted\n",
      "2025-04-29 15:41:39,861 INFO status has been updated to running\n",
      "INFO:datapi.legacy_api_client:status has been updated to running\n",
      "2025-04-29 15:53:30,614 INFO status has been updated to successful\n",
      "INFO:datapi.legacy_api_client:status has been updated to successful\n"
     ]
    },
    {
     "data": {
      "application/vnd.jupyter.widget-view+json": {
       "model_id": "f9818e9b2b694e43a36fbb05e9ad03e1",
       "version_major": 2,
       "version_minor": 0
      },
      "text/plain": [
       "8e6af00f366bfdc5018f757145f5740c.nc:   0%|          | 0.00/89.9M [00:00<?, ?B/s]"
      ]
     },
     "metadata": {},
     "output_type": "display_data"
    },
    {
     "name": "stderr",
     "output_type": "stream",
     "text": [
      "2025-04-29 15:53:45,988 WARNING [2025-04-29T00:00:00] Multiple maintenance sessions are planned this week, which may affect data downloads and other services. Check [here](https://status.ecmwf.int/) for status updates.\n",
      "WARNING:datapi.legacy_api_client:[2025-04-29T00:00:00] Multiple maintenance sessions are planned this week, which may affect data downloads and other services. Check [here](https://status.ecmwf.int/) for status updates.\n",
      "2025-04-29 15:53:45,990 INFO [2024-09-26T00:00:00] Watch our [Forum](https://forum.ecmwf.int/) for Announcements, news and other discussed topics.\n",
      "INFO:datapi.legacy_api_client:[2024-09-26T00:00:00] Watch our [Forum](https://forum.ecmwf.int/) for Announcements, news and other discussed topics.\n",
      "2025-04-29 15:53:45,991 WARNING [2024-06-16T00:00:00] CDS API syntax is changed and some keys or parameter names may have also changed. To avoid requests failing, please use the \"Show API request code\" tool on the dataset Download Form to check you are using the correct syntax for your API request.\n",
      "WARNING:datapi.legacy_api_client:[2024-06-16T00:00:00] CDS API syntax is changed and some keys or parameter names may have also changed. To avoid requests failing, please use the \"Show API request code\" tool on the dataset Download Form to check you are using the correct syntax for your API request.\n",
      "2025-04-29 15:53:47,734 INFO Request ID is 59de1a41-56bc-4f6d-9d46-1057bf56b0dc\n",
      "INFO:datapi.legacy_api_client:Request ID is 59de1a41-56bc-4f6d-9d46-1057bf56b0dc\n",
      "2025-04-29 15:53:48,563 INFO status has been updated to accepted\n",
      "INFO:datapi.legacy_api_client:status has been updated to accepted\n",
      "2025-04-29 15:54:11,414 INFO status has been updated to running\n",
      "INFO:datapi.legacy_api_client:status has been updated to running\n",
      "2025-04-29 16:06:17,104 INFO status has been updated to successful\n",
      "INFO:datapi.legacy_api_client:status has been updated to successful\n"
     ]
    },
    {
     "data": {
      "application/vnd.jupyter.widget-view+json": {
       "model_id": "f30bc82b7d904ba7a16038c97bcf4525",
       "version_major": 2,
       "version_minor": 0
      },
      "text/plain": [
       "5e7c9596d4544cd561d9b3f227e5c040.nc:   0%|          | 0.00/59.7M [00:00<?, ?B/s]"
      ]
     },
     "metadata": {},
     "output_type": "display_data"
    },
    {
     "name": "stdout",
     "output_type": "stream",
     "text": [
      "Warning: SPEI dimensions (113, 43) don't match ERA5 dimensions (43, 113)\n"
     ]
    }
   ],
   "source": [
    "# TESTING DATA\n",
    "test_dataset = tf_monthly_dataset(test_year, input_variables, target_variables, aggregation_dict, area, spei_data_path, max_days, block_width, block_height)\n",
    "\n",
    "all_test_examples = list(test_dataset.as_numpy_iterator())\n",
    "\n",
    "test_X = tf.stack([ex[0] for ex in all_test_examples])\n",
    "test_y = tf.stack([ex[1] for ex in all_test_examples])"
   ]
  },
  {
   "cell_type": "code",
   "execution_count": null,
   "metadata": {
    "id": "b9Ea2vPsmhMv"
   },
   "outputs": [],
   "source": [
    "# Save raw test data\n",
    "np.save(f'{SAVE_DIR}/raw_test_X.npy', test_X.numpy())\n",
    "np.save(f'{SAVE_DIR}/raw_test_y.npy', test_y.numpy())"
   ]
  }
 ],
 "metadata": {
  "accelerator": "GPU",
  "colab": {
   "gpuType": "T4",
   "machine_shape": "hm",
   "provenance": []
  },
  "kernelspec": {
   "display_name": "Python 3",
   "name": "python3"
  },
  "language_info": {
   "name": "python"
  }
 },
 "nbformat": 4,
 "nbformat_minor": 0
}
